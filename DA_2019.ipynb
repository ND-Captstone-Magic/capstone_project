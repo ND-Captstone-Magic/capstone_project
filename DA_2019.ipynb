{
 "cells": [
  {
   "cell_type": "code",
   "execution_count": 2,
   "metadata": {},
   "outputs": [
    {
     "name": "stderr",
     "output_type": "stream",
     "text": [
      "/usr/local/Caskroom/miniconda/base/envs/sql-practice/lib/python3.8/site-packages/IPython/core/interactiveshell.py:3165: DtypeWarning: Columns (29,30,32) have mixed types.Specify dtype option on import or set low_memory=False.\n",
      "  has_raised = await self.run_ast_nodes(code_ast.body, cell_name,\n"
     ]
    }
   ],
   "source": [
    "import pandas as pd\n",
    "import numpy as np\n",
    "import psycopg2\n",
    "from sql import engine\n",
    "import h3\n",
    "import requests\n",
    "\n",
    "\n",
    "pa_data = pd.read_csv('./data/Charging_PA.csv',sep=',')"
   ]
  },
  {
   "cell_type": "code",
   "execution_count": 3,
   "metadata": {},
   "outputs": [],
   "source": [
    "charging_df = pd.DataFrame(pa_data)"
   ]
  },
  {
   "cell_type": "code",
   "execution_count": 4,
   "metadata": {},
   "outputs": [],
   "source": [
    "charging_df.drop(['Start Time Zone','End Time Zone', 'Transaction Date (Pacific Time)',\n",
    "                'GHG Savings (kg)', 'Gasoline Savings (gallons)','Address 1','City', \n",
    "                'State/Province', 'Postal Code', 'Country', 'County', 'System S/N', \n",
    "                'Model Number','Org Name','EVSE ID','Energy (kWh)','Plug Type','Currency'], inplace= True, axis= 1)"
   ]
  },
  {
   "cell_type": "code",
   "execution_count": 5,
   "metadata": {},
   "outputs": [],
   "source": [
    "charging_df.columns = charging_df.columns.str.replace(' ', '_')\n",
    "charging_df.columns = charging_df.columns.str.lower()\n",
    "charging_df.columns = charging_df.columns.str.rstrip()"
   ]
  },
  {
   "cell_type": "code",
   "execution_count": 6,
   "metadata": {},
   "outputs": [],
   "source": [
    "charging_df = charging_df.rename(columns={'total_duration_(hh:mm:ss)': 'total_duration', \"charging_time_(hh:mm:ss)\": \"charging_time\"})"
   ]
  },
  {
   "cell_type": "code",
   "execution_count": 7,
   "metadata": {},
   "outputs": [],
   "source": [
    "# Make datetime columns only for 2019\n",
    "date_cols = [\"start_date\", \"end_date\"]\n",
    "duration_cols = [\"total_duration\", \"charging_time\"]\n",
    "\n",
    "for col in date_cols:\n",
    "     charging_df[date_cols] = charging_df[date_cols].apply(pd.to_datetime, errors = \"coerce\")\n",
    "\n",
    "\n",
    "for col in duration_cols:\n",
    "     charging_df[duration_cols] = charging_df[duration_cols].apply(pd.to_timedelta, errors=\"coerce\")"
   ]
  },
  {
   "cell_type": "code",
   "execution_count": 8,
   "metadata": {},
   "outputs": [],
   "source": [
    "charging_2020 = charging_df.query('start_date >= \"2020-01-01\" & start_date <= \"2020-12-31\"')\n",
    "charging_2019 = charging_df.query('start_date >= \"2019-01-01\" & start_date <= \"2019-12-31\"')\n",
    "charging_2018 = charging_df.query('start_date >= \"2018-01-01\" & start_date <= \"2018-12-31\"')\n",
    "charging_2017 = charging_df.query('start_date >= \"2017-01-01\" & start_date <= \"2017-12-31\"')\n",
    "charging_2016 = charging_df.query('start_date >= \"2016-01-01\" & start_date <= \"2016-12-31\"')\n",
    "charging_2015 = charging_df.query('start_date >= \"2015-01-01\" & start_date <= \"2015-12-31\"')\n",
    "charging_2014 = charging_df.query('start_date >= \"2014-01-01\" & start_date <= \"2014-12-31\"')\n",
    "charging_2013 = charging_df.query('start_date >= \"2013-01-01\" & start_date <= \"2013-12-31\"')\n",
    "charging_2012 = charging_df.query('start_date >= \"2012-01-01\" & start_date <= \"2012-12-31\"')\n",
    "charging_2011 = charging_df.query('start_date >= \"2011-01-01\" & start_date <= \"2011-12-31\"')"
   ]
  },
  {
   "cell_type": "code",
   "execution_count": 9,
   "metadata": {},
   "outputs": [
    {
     "data": {
      "text/html": [
       "<div>\n",
       "<style scoped>\n",
       "    .dataframe tbody tr th:only-of-type {\n",
       "        vertical-align: middle;\n",
       "    }\n",
       "\n",
       "    .dataframe tbody tr th {\n",
       "        vertical-align: top;\n",
       "    }\n",
       "\n",
       "    .dataframe thead th {\n",
       "        text-align: right;\n",
       "    }\n",
       "</style>\n",
       "<table border=\"1\" class=\"dataframe\">\n",
       "  <thead>\n",
       "    <tr style=\"text-align: right;\">\n",
       "      <th></th>\n",
       "      <th>station_name</th>\n",
       "      <th>mac_address</th>\n",
       "      <th>start_date</th>\n",
       "      <th>end_date</th>\n",
       "      <th>total_duration</th>\n",
       "      <th>charging_time</th>\n",
       "      <th>port_type</th>\n",
       "      <th>port_number</th>\n",
       "      <th>latitude</th>\n",
       "      <th>longitude</th>\n",
       "      <th>fee</th>\n",
       "      <th>ended_by</th>\n",
       "      <th>plug_in_event_id</th>\n",
       "      <th>driver_postal_code</th>\n",
       "      <th>user_id</th>\n",
       "    </tr>\n",
       "  </thead>\n",
       "  <tbody>\n",
       "    <tr>\n",
       "      <th>191586</th>\n",
       "      <td>PALO ALTO CA / WEBSTER #3</td>\n",
       "      <td>0024:B100:0002:4277</td>\n",
       "      <td>2019-01-01 08:46:00</td>\n",
       "      <td>2019-01-01 10:58:00</td>\n",
       "      <td>0 days 02:11:14</td>\n",
       "      <td>0 days 02:06:39</td>\n",
       "      <td>Level 2</td>\n",
       "      <td>1</td>\n",
       "      <td>37.448273</td>\n",
       "      <td>-122.158234</td>\n",
       "      <td>2.86</td>\n",
       "      <td>Plug Out at Vehicle</td>\n",
       "      <td>1546361212</td>\n",
       "      <td>94601.0</td>\n",
       "      <td>492265.0</td>\n",
       "    </tr>\n",
       "    <tr>\n",
       "      <th>191587</th>\n",
       "      <td>PALO ALTO CA / BRYANT #6</td>\n",
       "      <td>0024:B100:0002:6B43</td>\n",
       "      <td>2019-01-01 09:18:00</td>\n",
       "      <td>2019-01-01 10:25:00</td>\n",
       "      <td>0 days 01:07:23</td>\n",
       "      <td>0 days 01:06:51</td>\n",
       "      <td>Level 2</td>\n",
       "      <td>1</td>\n",
       "      <td>37.446667</td>\n",
       "      <td>-122.162170</td>\n",
       "      <td>1.52</td>\n",
       "      <td>Plug Out at Vehicle</td>\n",
       "      <td>2951</td>\n",
       "      <td>94025.0</td>\n",
       "      <td>3174411.0</td>\n",
       "    </tr>\n",
       "    <tr>\n",
       "      <th>191588</th>\n",
       "      <td>PALO ALTO CA / BRYANT #1</td>\n",
       "      <td>000D:6F00:009D:9A1B</td>\n",
       "      <td>2019-01-01 09:19:00</td>\n",
       "      <td>2019-01-01 18:36:00</td>\n",
       "      <td>0 days 09:16:18</td>\n",
       "      <td>0 days 03:34:31</td>\n",
       "      <td>Level 2</td>\n",
       "      <td>2</td>\n",
       "      <td>37.446613</td>\n",
       "      <td>-122.162308</td>\n",
       "      <td>2.65</td>\n",
       "      <td>Plug Out at Vehicle</td>\n",
       "      <td>3524</td>\n",
       "      <td>94404.0</td>\n",
       "      <td>2358991.0</td>\n",
       "    </tr>\n",
       "    <tr>\n",
       "      <th>191589</th>\n",
       "      <td>PALO ALTO CA / BRYANT #5</td>\n",
       "      <td>0024:B100:0002:6D51</td>\n",
       "      <td>2019-01-01 09:46:00</td>\n",
       "      <td>2019-01-01 11:35:00</td>\n",
       "      <td>0 days 01:49:47</td>\n",
       "      <td>0 days 01:49:26</td>\n",
       "      <td>Level 2</td>\n",
       "      <td>1</td>\n",
       "      <td>37.446690</td>\n",
       "      <td>-122.162231</td>\n",
       "      <td>1.40</td>\n",
       "      <td>Plug Out at Vehicle</td>\n",
       "      <td>2792</td>\n",
       "      <td>94025.0</td>\n",
       "      <td>555879.0</td>\n",
       "    </tr>\n",
       "    <tr>\n",
       "      <th>191590</th>\n",
       "      <td>PALO ALTO CA / HIGH #4</td>\n",
       "      <td>0024:B100:0002:1327</td>\n",
       "      <td>2019-01-01 09:54:00</td>\n",
       "      <td>2019-01-01 11:25:00</td>\n",
       "      <td>0 days 01:31:12</td>\n",
       "      <td>0 days 01:30:53</td>\n",
       "      <td>Level 2</td>\n",
       "      <td>2</td>\n",
       "      <td>37.443138</td>\n",
       "      <td>-122.163239</td>\n",
       "      <td>2.08</td>\n",
       "      <td>Plug Out at Vehicle</td>\n",
       "      <td>2416</td>\n",
       "      <td>94305.0</td>\n",
       "      <td>3171851.0</td>\n",
       "    </tr>\n",
       "  </tbody>\n",
       "</table>\n",
       "</div>"
      ],
      "text/plain": [
       "                     station_name          mac_address          start_date  \\\n",
       "191586  PALO ALTO CA / WEBSTER #3  0024:B100:0002:4277 2019-01-01 08:46:00   \n",
       "191587   PALO ALTO CA / BRYANT #6  0024:B100:0002:6B43 2019-01-01 09:18:00   \n",
       "191588   PALO ALTO CA / BRYANT #1  000D:6F00:009D:9A1B 2019-01-01 09:19:00   \n",
       "191589   PALO ALTO CA / BRYANT #5  0024:B100:0002:6D51 2019-01-01 09:46:00   \n",
       "191590     PALO ALTO CA / HIGH #4  0024:B100:0002:1327 2019-01-01 09:54:00   \n",
       "\n",
       "                  end_date  total_duration   charging_time port_type  \\\n",
       "191586 2019-01-01 10:58:00 0 days 02:11:14 0 days 02:06:39   Level 2   \n",
       "191587 2019-01-01 10:25:00 0 days 01:07:23 0 days 01:06:51   Level 2   \n",
       "191588 2019-01-01 18:36:00 0 days 09:16:18 0 days 03:34:31   Level 2   \n",
       "191589 2019-01-01 11:35:00 0 days 01:49:47 0 days 01:49:26   Level 2   \n",
       "191590 2019-01-01 11:25:00 0 days 01:31:12 0 days 01:30:53   Level 2   \n",
       "\n",
       "        port_number   latitude   longitude   fee             ended_by  \\\n",
       "191586            1  37.448273 -122.158234  2.86  Plug Out at Vehicle   \n",
       "191587            1  37.446667 -122.162170  1.52  Plug Out at Vehicle   \n",
       "191588            2  37.446613 -122.162308  2.65  Plug Out at Vehicle   \n",
       "191589            1  37.446690 -122.162231  1.40  Plug Out at Vehicle   \n",
       "191590            2  37.443138 -122.163239  2.08  Plug Out at Vehicle   \n",
       "\n",
       "        plug_in_event_id  driver_postal_code    user_id  \n",
       "191586        1546361212             94601.0   492265.0  \n",
       "191587              2951             94025.0  3174411.0  \n",
       "191588              3524             94404.0  2358991.0  \n",
       "191589              2792             94025.0   555879.0  \n",
       "191590              2416             94305.0  3171851.0  "
      ]
     },
     "execution_count": 9,
     "metadata": {},
     "output_type": "execute_result"
    }
   ],
   "source": [
    "charging_2019.head()"
   ]
  },
  {
   "cell_type": "code",
   "execution_count": 10,
   "metadata": {},
   "outputs": [
    {
     "name": "stdout",
     "output_type": "stream",
     "text": [
      "<class 'pandas.core.frame.DataFrame'>\n",
      "Int64Index: 47655 entries, 191586 to 239240\n",
      "Data columns (total 15 columns):\n",
      " #   Column              Non-Null Count  Dtype          \n",
      "---  ------              --------------  -----          \n",
      " 0   station_name        47655 non-null  object         \n",
      " 1   mac_address         47655 non-null  object         \n",
      " 2   start_date          47655 non-null  datetime64[ns] \n",
      " 3   end_date            47655 non-null  datetime64[ns] \n",
      " 4   total_duration      47655 non-null  timedelta64[ns]\n",
      " 5   charging_time       47655 non-null  timedelta64[ns]\n",
      " 6   port_type           47655 non-null  object         \n",
      " 7   port_number         47655 non-null  int64          \n",
      " 8   latitude            47655 non-null  float64        \n",
      " 9   longitude           47655 non-null  float64        \n",
      " 10  fee                 47655 non-null  float64        \n",
      " 11  ended_by            47638 non-null  object         \n",
      " 12  plug_in_event_id    47655 non-null  int64          \n",
      " 13  driver_postal_code  46251 non-null  float64        \n",
      " 14  user_id             46269 non-null  object         \n",
      "dtypes: datetime64[ns](2), float64(4), int64(2), object(5), timedelta64[ns](2)\n",
      "memory usage: 5.8+ MB\n"
     ]
    }
   ],
   "source": [
    "charging_2019.info()"
   ]
  },
  {
   "cell_type": "code",
   "execution_count": 11,
   "metadata": {},
   "outputs": [
    {
     "name": "stderr",
     "output_type": "stream",
     "text": [
      "<ipython-input-11-7ec4f59bfc9b>:2: SettingWithCopyWarning: \n",
      "A value is trying to be set on a copy of a slice from a DataFrame.\n",
      "Try using .loc[row_indexer,col_indexer] = value instead\n",
      "\n",
      "See the caveats in the documentation: https://pandas.pydata.org/pandas-docs/stable/user_guide/indexing.html#returning-a-view-versus-a-copy\n",
      "  charging_2019['end_date'] = charging_2019['end_date'].fillna((charging_2019['start_date'] + charging_2019['total_duration']))\n"
     ]
    }
   ],
   "source": [
    "# replace NaT in end_date with start_date + total_duration\n",
    "charging_2019['end_date'] = charging_2019['end_date'].fillna((charging_2019['start_date'] + charging_2019['total_duration']))"
   ]
  },
  {
   "cell_type": "code",
   "execution_count": 12,
   "metadata": {},
   "outputs": [
    {
     "name": "stderr",
     "output_type": "stream",
     "text": [
      "<ipython-input-12-99e212b80dbc>:2: SettingWithCopyWarning: \n",
      "A value is trying to be set on a copy of a slice from a DataFrame.\n",
      "Try using .loc[row_indexer,col_indexer] = value instead\n",
      "\n",
      "See the caveats in the documentation: https://pandas.pydata.org/pandas-docs/stable/user_guide/indexing.html#returning-a-view-versus-a-copy\n",
      "  charging_2019['fee_bol'] = np.where(charging_2019['fee']== 0.0, False, True)\n",
      "/usr/local/Caskroom/miniconda/base/envs/sql-practice/lib/python3.8/site-packages/pandas/core/frame.py:4308: SettingWithCopyWarning: \n",
      "A value is trying to be set on a copy of a slice from a DataFrame\n",
      "\n",
      "See the caveats in the documentation: https://pandas.pydata.org/pandas-docs/stable/user_guide/indexing.html#returning-a-view-versus-a-copy\n",
      "  return super().drop(\n"
     ]
    }
   ],
   "source": [
    "# create column fee_bol (True if user paid, False if charging was free), drop original fee column\n",
    "charging_2019['fee_bol'] = np.where(charging_2019['fee']== 0.0, False, True)\n",
    "charging_2019.drop(['fee'],inplace= True, axis= 1)"
   ]
  },
  {
   "cell_type": "code",
   "execution_count": 13,
   "metadata": {},
   "outputs": [
    {
     "name": "stderr",
     "output_type": "stream",
     "text": [
      "<ipython-input-13-e1a37cd582e9>:2: SettingWithCopyWarning: \n",
      "A value is trying to be set on a copy of a slice from a DataFrame.\n",
      "Try using .loc[row_indexer,col_indexer] = value instead\n",
      "\n",
      "See the caveats in the documentation: https://pandas.pydata.org/pandas-docs/stable/user_guide/indexing.html#returning-a-view-versus-a-copy\n",
      "  charging_2019['parking_time'] = charging_2019['total_duration'] - charging_2019['charging_time']\n"
     ]
    }
   ],
   "source": [
    "# create colum parking_time to display parking time (plugged in but not charging)\n",
    "charging_2019['parking_time'] = charging_2019['total_duration'] - charging_2019['charging_time']"
   ]
  },
  {
   "cell_type": "markdown",
   "metadata": {},
   "source": [
    "Which year do we want to analyze?\n",
    "\n",
    "unique identifier for each station plug = combination of plug ID and station name"
   ]
  },
  {
   "cell_type": "code",
   "execution_count": 14,
   "metadata": {},
   "outputs": [
    {
     "name": "stderr",
     "output_type": "stream",
     "text": [
      "<ipython-input-14-202811ed20f3>:2: SettingWithCopyWarning: \n",
      "A value is trying to be set on a copy of a slice from a DataFrame.\n",
      "Try using .loc[row_indexer,col_indexer] = value instead\n",
      "\n",
      "See the caveats in the documentation: https://pandas.pydata.org/pandas-docs/stable/user_guide/indexing.html#returning-a-view-versus-a-copy\n",
      "  charging_2019['weekday'] = charging_2019['start_date'].dt.dayofweek\n"
     ]
    }
   ],
   "source": [
    "# create column that displays weekday based on start_date\n",
    "charging_2019['weekday'] = charging_2019['start_date'].dt.dayofweek"
   ]
  },
  {
   "cell_type": "code",
   "execution_count": 15,
   "metadata": {},
   "outputs": [
    {
     "data": {
      "text/html": [
       "<div>\n",
       "<style scoped>\n",
       "    .dataframe tbody tr th:only-of-type {\n",
       "        vertical-align: middle;\n",
       "    }\n",
       "\n",
       "    .dataframe tbody tr th {\n",
       "        vertical-align: top;\n",
       "    }\n",
       "\n",
       "    .dataframe thead th {\n",
       "        text-align: right;\n",
       "    }\n",
       "</style>\n",
       "<table border=\"1\" class=\"dataframe\">\n",
       "  <thead>\n",
       "    <tr style=\"text-align: right;\">\n",
       "      <th></th>\n",
       "      <th>station_name</th>\n",
       "      <th>mac_address</th>\n",
       "      <th>start_date</th>\n",
       "      <th>end_date</th>\n",
       "      <th>total_duration</th>\n",
       "      <th>charging_time</th>\n",
       "      <th>port_type</th>\n",
       "      <th>port_number</th>\n",
       "      <th>latitude</th>\n",
       "      <th>longitude</th>\n",
       "      <th>ended_by</th>\n",
       "      <th>plug_in_event_id</th>\n",
       "      <th>driver_postal_code</th>\n",
       "      <th>user_id</th>\n",
       "      <th>fee_bol</th>\n",
       "      <th>parking_time</th>\n",
       "      <th>weekday</th>\n",
       "    </tr>\n",
       "  </thead>\n",
       "  <tbody>\n",
       "    <tr>\n",
       "      <th>191586</th>\n",
       "      <td>PALO ALTO CA / WEBSTER #3</td>\n",
       "      <td>0024:B100:0002:4277</td>\n",
       "      <td>2019-01-01 08:46:00</td>\n",
       "      <td>2019-01-01 10:58:00</td>\n",
       "      <td>0 days 02:11:14</td>\n",
       "      <td>0 days 02:06:39</td>\n",
       "      <td>Level 2</td>\n",
       "      <td>1</td>\n",
       "      <td>37.448273</td>\n",
       "      <td>-122.158234</td>\n",
       "      <td>Plug Out at Vehicle</td>\n",
       "      <td>1546361212</td>\n",
       "      <td>94601.0</td>\n",
       "      <td>492265.0</td>\n",
       "      <td>True</td>\n",
       "      <td>0 days 00:04:35</td>\n",
       "      <td>1</td>\n",
       "    </tr>\n",
       "    <tr>\n",
       "      <th>191587</th>\n",
       "      <td>PALO ALTO CA / BRYANT #6</td>\n",
       "      <td>0024:B100:0002:6B43</td>\n",
       "      <td>2019-01-01 09:18:00</td>\n",
       "      <td>2019-01-01 10:25:00</td>\n",
       "      <td>0 days 01:07:23</td>\n",
       "      <td>0 days 01:06:51</td>\n",
       "      <td>Level 2</td>\n",
       "      <td>1</td>\n",
       "      <td>37.446667</td>\n",
       "      <td>-122.162170</td>\n",
       "      <td>Plug Out at Vehicle</td>\n",
       "      <td>2951</td>\n",
       "      <td>94025.0</td>\n",
       "      <td>3174411.0</td>\n",
       "      <td>True</td>\n",
       "      <td>0 days 00:00:32</td>\n",
       "      <td>1</td>\n",
       "    </tr>\n",
       "    <tr>\n",
       "      <th>191588</th>\n",
       "      <td>PALO ALTO CA / BRYANT #1</td>\n",
       "      <td>000D:6F00:009D:9A1B</td>\n",
       "      <td>2019-01-01 09:19:00</td>\n",
       "      <td>2019-01-01 18:36:00</td>\n",
       "      <td>0 days 09:16:18</td>\n",
       "      <td>0 days 03:34:31</td>\n",
       "      <td>Level 2</td>\n",
       "      <td>2</td>\n",
       "      <td>37.446613</td>\n",
       "      <td>-122.162308</td>\n",
       "      <td>Plug Out at Vehicle</td>\n",
       "      <td>3524</td>\n",
       "      <td>94404.0</td>\n",
       "      <td>2358991.0</td>\n",
       "      <td>True</td>\n",
       "      <td>0 days 05:41:47</td>\n",
       "      <td>1</td>\n",
       "    </tr>\n",
       "    <tr>\n",
       "      <th>191589</th>\n",
       "      <td>PALO ALTO CA / BRYANT #5</td>\n",
       "      <td>0024:B100:0002:6D51</td>\n",
       "      <td>2019-01-01 09:46:00</td>\n",
       "      <td>2019-01-01 11:35:00</td>\n",
       "      <td>0 days 01:49:47</td>\n",
       "      <td>0 days 01:49:26</td>\n",
       "      <td>Level 2</td>\n",
       "      <td>1</td>\n",
       "      <td>37.446690</td>\n",
       "      <td>-122.162231</td>\n",
       "      <td>Plug Out at Vehicle</td>\n",
       "      <td>2792</td>\n",
       "      <td>94025.0</td>\n",
       "      <td>555879.0</td>\n",
       "      <td>True</td>\n",
       "      <td>0 days 00:00:21</td>\n",
       "      <td>1</td>\n",
       "    </tr>\n",
       "    <tr>\n",
       "      <th>191590</th>\n",
       "      <td>PALO ALTO CA / HIGH #4</td>\n",
       "      <td>0024:B100:0002:1327</td>\n",
       "      <td>2019-01-01 09:54:00</td>\n",
       "      <td>2019-01-01 11:25:00</td>\n",
       "      <td>0 days 01:31:12</td>\n",
       "      <td>0 days 01:30:53</td>\n",
       "      <td>Level 2</td>\n",
       "      <td>2</td>\n",
       "      <td>37.443138</td>\n",
       "      <td>-122.163239</td>\n",
       "      <td>Plug Out at Vehicle</td>\n",
       "      <td>2416</td>\n",
       "      <td>94305.0</td>\n",
       "      <td>3171851.0</td>\n",
       "      <td>True</td>\n",
       "      <td>0 days 00:00:19</td>\n",
       "      <td>1</td>\n",
       "    </tr>\n",
       "    <tr>\n",
       "      <th>...</th>\n",
       "      <td>...</td>\n",
       "      <td>...</td>\n",
       "      <td>...</td>\n",
       "      <td>...</td>\n",
       "      <td>...</td>\n",
       "      <td>...</td>\n",
       "      <td>...</td>\n",
       "      <td>...</td>\n",
       "      <td>...</td>\n",
       "      <td>...</td>\n",
       "      <td>...</td>\n",
       "      <td>...</td>\n",
       "      <td>...</td>\n",
       "      <td>...</td>\n",
       "      <td>...</td>\n",
       "      <td>...</td>\n",
       "      <td>...</td>\n",
       "    </tr>\n",
       "    <tr>\n",
       "      <th>239236</th>\n",
       "      <td>PALO ALTO CA / WEBSTER #1</td>\n",
       "      <td>0024:B100:0002:4233</td>\n",
       "      <td>2019-12-30 18:57:00</td>\n",
       "      <td>2019-12-30 20:38:00</td>\n",
       "      <td>0 days 01:40:55</td>\n",
       "      <td>0 days 01:07:15</td>\n",
       "      <td>Level 2</td>\n",
       "      <td>1</td>\n",
       "      <td>37.448284</td>\n",
       "      <td>-122.158272</td>\n",
       "      <td>Plug Out at Vehicle</td>\n",
       "      <td>6046</td>\n",
       "      <td>95014.0</td>\n",
       "      <td>2248301</td>\n",
       "      <td>True</td>\n",
       "      <td>0 days 00:33:40</td>\n",
       "      <td>0</td>\n",
       "    </tr>\n",
       "    <tr>\n",
       "      <th>239237</th>\n",
       "      <td>PALO ALTO CA / HIGH #2</td>\n",
       "      <td>0024:B100:0002:5959</td>\n",
       "      <td>2019-12-30 18:58:00</td>\n",
       "      <td>2019-12-30 21:06:00</td>\n",
       "      <td>0 days 02:07:33</td>\n",
       "      <td>0 days 01:58:20</td>\n",
       "      <td>Level 2</td>\n",
       "      <td>2</td>\n",
       "      <td>37.443344</td>\n",
       "      <td>-122.163231</td>\n",
       "      <td>CPS Server</td>\n",
       "      <td>6126</td>\n",
       "      <td>94582.0</td>\n",
       "      <td>1691301</td>\n",
       "      <td>True</td>\n",
       "      <td>0 days 00:09:13</td>\n",
       "      <td>0</td>\n",
       "    </tr>\n",
       "    <tr>\n",
       "      <th>239238</th>\n",
       "      <td>PALO ALTO CA / BRYANT #3</td>\n",
       "      <td>000D:6F00:009E:D39E</td>\n",
       "      <td>2019-12-30 19:32:00</td>\n",
       "      <td>2019-12-31 07:37:00</td>\n",
       "      <td>0 days 12:05:36</td>\n",
       "      <td>0 days 09:40:19</td>\n",
       "      <td>Level 2</td>\n",
       "      <td>2</td>\n",
       "      <td>37.446583</td>\n",
       "      <td>-122.162109</td>\n",
       "      <td>Plug Out at Vehicle</td>\n",
       "      <td>13879</td>\n",
       "      <td>94301.0</td>\n",
       "      <td>713785</td>\n",
       "      <td>True</td>\n",
       "      <td>0 days 02:25:17</td>\n",
       "      <td>0</td>\n",
       "    </tr>\n",
       "    <tr>\n",
       "      <th>239239</th>\n",
       "      <td>PALO ALTO CA / CAMBRIDGE #1</td>\n",
       "      <td>0024:B100:0002:1329</td>\n",
       "      <td>2019-12-30 19:48:00</td>\n",
       "      <td>2019-12-31 08:00:00</td>\n",
       "      <td>0 days 12:11:45</td>\n",
       "      <td>0 days 11:05:21</td>\n",
       "      <td>Level 2</td>\n",
       "      <td>2</td>\n",
       "      <td>37.426155</td>\n",
       "      <td>-122.146065</td>\n",
       "      <td>Plug Out at Vehicle</td>\n",
       "      <td>10318</td>\n",
       "      <td>NaN</td>\n",
       "      <td>NaN</td>\n",
       "      <td>True</td>\n",
       "      <td>0 days 01:06:24</td>\n",
       "      <td>0</td>\n",
       "    </tr>\n",
       "    <tr>\n",
       "      <th>239240</th>\n",
       "      <td>PALO ALTO CA / HIGH #3</td>\n",
       "      <td>0024:B100:0002:5939</td>\n",
       "      <td>2019-12-30 20:30:00</td>\n",
       "      <td>2019-12-30 20:34:00</td>\n",
       "      <td>0 days 00:03:44</td>\n",
       "      <td>0 days 00:03:26</td>\n",
       "      <td>Level 2</td>\n",
       "      <td>1</td>\n",
       "      <td>37.443443</td>\n",
       "      <td>-122.163139</td>\n",
       "      <td>Plug Out at Vehicle</td>\n",
       "      <td>6920</td>\n",
       "      <td>94027.0</td>\n",
       "      <td>1375221</td>\n",
       "      <td>True</td>\n",
       "      <td>0 days 00:00:18</td>\n",
       "      <td>0</td>\n",
       "    </tr>\n",
       "  </tbody>\n",
       "</table>\n",
       "<p>47655 rows × 17 columns</p>\n",
       "</div>"
      ],
      "text/plain": [
       "                       station_name          mac_address          start_date  \\\n",
       "191586    PALO ALTO CA / WEBSTER #3  0024:B100:0002:4277 2019-01-01 08:46:00   \n",
       "191587     PALO ALTO CA / BRYANT #6  0024:B100:0002:6B43 2019-01-01 09:18:00   \n",
       "191588     PALO ALTO CA / BRYANT #1  000D:6F00:009D:9A1B 2019-01-01 09:19:00   \n",
       "191589     PALO ALTO CA / BRYANT #5  0024:B100:0002:6D51 2019-01-01 09:46:00   \n",
       "191590       PALO ALTO CA / HIGH #4  0024:B100:0002:1327 2019-01-01 09:54:00   \n",
       "...                             ...                  ...                 ...   \n",
       "239236    PALO ALTO CA / WEBSTER #1  0024:B100:0002:4233 2019-12-30 18:57:00   \n",
       "239237       PALO ALTO CA / HIGH #2  0024:B100:0002:5959 2019-12-30 18:58:00   \n",
       "239238     PALO ALTO CA / BRYANT #3  000D:6F00:009E:D39E 2019-12-30 19:32:00   \n",
       "239239  PALO ALTO CA / CAMBRIDGE #1  0024:B100:0002:1329 2019-12-30 19:48:00   \n",
       "239240       PALO ALTO CA / HIGH #3  0024:B100:0002:5939 2019-12-30 20:30:00   \n",
       "\n",
       "                  end_date  total_duration   charging_time port_type  \\\n",
       "191586 2019-01-01 10:58:00 0 days 02:11:14 0 days 02:06:39   Level 2   \n",
       "191587 2019-01-01 10:25:00 0 days 01:07:23 0 days 01:06:51   Level 2   \n",
       "191588 2019-01-01 18:36:00 0 days 09:16:18 0 days 03:34:31   Level 2   \n",
       "191589 2019-01-01 11:35:00 0 days 01:49:47 0 days 01:49:26   Level 2   \n",
       "191590 2019-01-01 11:25:00 0 days 01:31:12 0 days 01:30:53   Level 2   \n",
       "...                    ...             ...             ...       ...   \n",
       "239236 2019-12-30 20:38:00 0 days 01:40:55 0 days 01:07:15   Level 2   \n",
       "239237 2019-12-30 21:06:00 0 days 02:07:33 0 days 01:58:20   Level 2   \n",
       "239238 2019-12-31 07:37:00 0 days 12:05:36 0 days 09:40:19   Level 2   \n",
       "239239 2019-12-31 08:00:00 0 days 12:11:45 0 days 11:05:21   Level 2   \n",
       "239240 2019-12-30 20:34:00 0 days 00:03:44 0 days 00:03:26   Level 2   \n",
       "\n",
       "        port_number   latitude   longitude             ended_by  \\\n",
       "191586            1  37.448273 -122.158234  Plug Out at Vehicle   \n",
       "191587            1  37.446667 -122.162170  Plug Out at Vehicle   \n",
       "191588            2  37.446613 -122.162308  Plug Out at Vehicle   \n",
       "191589            1  37.446690 -122.162231  Plug Out at Vehicle   \n",
       "191590            2  37.443138 -122.163239  Plug Out at Vehicle   \n",
       "...             ...        ...         ...                  ...   \n",
       "239236            1  37.448284 -122.158272  Plug Out at Vehicle   \n",
       "239237            2  37.443344 -122.163231           CPS Server   \n",
       "239238            2  37.446583 -122.162109  Plug Out at Vehicle   \n",
       "239239            2  37.426155 -122.146065  Plug Out at Vehicle   \n",
       "239240            1  37.443443 -122.163139  Plug Out at Vehicle   \n",
       "\n",
       "        plug_in_event_id  driver_postal_code    user_id  fee_bol  \\\n",
       "191586        1546361212             94601.0   492265.0     True   \n",
       "191587              2951             94025.0  3174411.0     True   \n",
       "191588              3524             94404.0  2358991.0     True   \n",
       "191589              2792             94025.0   555879.0     True   \n",
       "191590              2416             94305.0  3171851.0     True   \n",
       "...                  ...                 ...        ...      ...   \n",
       "239236              6046             95014.0    2248301     True   \n",
       "239237              6126             94582.0    1691301     True   \n",
       "239238             13879             94301.0     713785     True   \n",
       "239239             10318                 NaN        NaN     True   \n",
       "239240              6920             94027.0    1375221     True   \n",
       "\n",
       "          parking_time  weekday  \n",
       "191586 0 days 00:04:35        1  \n",
       "191587 0 days 00:00:32        1  \n",
       "191588 0 days 05:41:47        1  \n",
       "191589 0 days 00:00:21        1  \n",
       "191590 0 days 00:00:19        1  \n",
       "...                ...      ...  \n",
       "239236 0 days 00:33:40        0  \n",
       "239237 0 days 00:09:13        0  \n",
       "239238 0 days 02:25:17        0  \n",
       "239239 0 days 01:06:24        0  \n",
       "239240 0 days 00:00:18        0  \n",
       "\n",
       "[47655 rows x 17 columns]"
      ]
     },
     "execution_count": 15,
     "metadata": {},
     "output_type": "execute_result"
    }
   ],
   "source": [
    "charging_2019['weekday'].unique()\n",
    "mymapp = {'0': 'Monday', '1': 'Tuesday', '2': 'Wednesday', '3': 'Thursday', '4': 'Friday', '5': 'Saturday', '6': 'Sunday'}\n",
    "charging_2019.applymap(lambda s: mymapp.get(s) if s in mymapp else s)"
   ]
  },
  {
   "cell_type": "code",
   "execution_count": 16,
   "metadata": {},
   "outputs": [],
   "source": [
    "def make_weekday_names(row):\n",
    "    if row['weekday'] == 0:\n",
    "        return 'Monday'\n",
    "    if row['weekday'] == 1:\n",
    "        return 'Tuesday'\n",
    "    if row['weekday'] == 2:\n",
    "        return 'Wednesday'\n",
    "    if row['weekday'] == 3:\n",
    "        return 'Thursday'\n",
    "    if row['weekday'] == 4:\n",
    "        return 'Friday'\n",
    "    if row['weekday'] == 5:\n",
    "        return 'Saturday'\n",
    "    if row['weekday'] == 6:\n",
    "        return 'Sunday'"
   ]
  },
  {
   "cell_type": "code",
   "execution_count": 17,
   "metadata": {},
   "outputs": [
    {
     "name": "stderr",
     "output_type": "stream",
     "text": [
      "<ipython-input-17-2f77aeb8fa5c>:1: SettingWithCopyWarning: \n",
      "A value is trying to be set on a copy of a slice from a DataFrame.\n",
      "Try using .loc[row_indexer,col_indexer] = value instead\n",
      "\n",
      "See the caveats in the documentation: https://pandas.pydata.org/pandas-docs/stable/user_guide/indexing.html#returning-a-view-versus-a-copy\n",
      "  charging_2019['weekday'] = charging_2019.apply(lambda row : make_weekday_names(row), axis=1)\n"
     ]
    }
   ],
   "source": [
    "charging_2019['weekday'] = charging_2019.apply(lambda row : make_weekday_names(row), axis=1)"
   ]
  },
  {
   "cell_type": "code",
   "execution_count": 18,
   "metadata": {},
   "outputs": [
    {
     "name": "stderr",
     "output_type": "stream",
     "text": [
      "<ipython-input-18-ed39c61e56b2>:4: SettingWithCopyWarning: \n",
      "A value is trying to be set on a copy of a slice from a DataFrame.\n",
      "Try using .loc[row_indexer,col_indexer] = value instead\n",
      "\n",
      "See the caveats in the documentation: https://pandas.pydata.org/pandas-docs/stable/user_guide/indexing.html#returning-a-view-versus-a-copy\n",
      "  charging_2019['mac_address'] = charging_2019.apply(lambda row : make_mac_same(row), axis=1)\n"
     ]
    }
   ],
   "source": [
    "def make_mac_same(row):\n",
    "    return row['mac_address'].replace(':','')\n",
    "\n",
    "charging_2019['mac_address'] = charging_2019.apply(lambda row : make_mac_same(row), axis=1)"
   ]
  },
  {
   "cell_type": "code",
   "execution_count": 19,
   "metadata": {},
   "outputs": [
    {
     "name": "stderr",
     "output_type": "stream",
     "text": [
      "<ipython-input-19-9e905a49289f>:4: SettingWithCopyWarning: \n",
      "A value is trying to be set on a copy of a slice from a DataFrame.\n",
      "Try using .loc[row_indexer,col_indexer] = value instead\n",
      "\n",
      "See the caveats in the documentation: https://pandas.pydata.org/pandas-docs/stable/user_guide/indexing.html#returning-a-view-versus-a-copy\n",
      "  charging_2019['unique_plug_id'] = charging_2019.apply(lambda row : make_unique_id(row), axis=1)\n"
     ]
    }
   ],
   "source": [
    "def make_unique_id(row):\n",
    "    return str(row['mac_address']) + '_' +  str(row['port_number'])\n",
    "\n",
    "charging_2019['unique_plug_id'] = charging_2019.apply(lambda row : make_unique_id(row), axis=1)"
   ]
  },
  {
   "cell_type": "code",
   "execution_count": 20,
   "metadata": {},
   "outputs": [
    {
     "name": "stderr",
     "output_type": "stream",
     "text": [
      "<ipython-input-20-b41f60fb34ac>:1: SettingWithCopyWarning: \n",
      "A value is trying to be set on a copy of a slice from a DataFrame.\n",
      "Try using .loc[row_indexer,col_indexer] = value instead\n",
      "\n",
      "See the caveats in the documentation: https://pandas.pydata.org/pandas-docs/stable/user_guide/indexing.html#returning-a-view-versus-a-copy\n",
      "  charging_2019['index1'] = charging_2019.index\n"
     ]
    }
   ],
   "source": [
    "charging_2019['index1'] = charging_2019.index"
   ]
  },
  {
   "cell_type": "code",
   "execution_count": 21,
   "metadata": {},
   "outputs": [],
   "source": [
    "# change order of columns, put unique_plug_id in front, drop MAC ID\n",
    "charging_2019 = charging_2019[['station_name',\n",
    "                            'unique_plug_id', \n",
    "                            'start_date',\n",
    "                            'end_date',\n",
    "                            'total_duration',\n",
    "                            'charging_time',\n",
    "                            'parking_time',\n",
    "                            'port_type',\n",
    "                            'port_number',\n",
    "                            'latitude',\n",
    "                            'longitude',\n",
    "                            'ended_by', \n",
    "                            'plug_in_event_id',\n",
    "                            'driver_postal_code', \n",
    "                            'user_id',\n",
    "                            'fee_bol', \n",
    "                            'weekday']]"
   ]
  },
  {
   "cell_type": "code",
   "execution_count": 22,
   "metadata": {},
   "outputs": [],
   "source": [
    "charging_2019 = charging_2019.sort_values(['unique_plug_id', 'start_date'])\n",
    "charging_2019 = charging_2019.reset_index()\n",
    "charging_2019.drop(['index'], inplace= True, axis= 1)\n",
    "charging_2019['idle_time'] = None"
   ]
  },
  {
   "cell_type": "code",
   "execution_count": 23,
   "metadata": {},
   "outputs": [
    {
     "name": "stderr",
     "output_type": "stream",
     "text": [
      "<ipython-input-23-f94ba14cd3ef>:10: SettingWithCopyWarning: \n",
      "A value is trying to be set on a copy of a slice from a DataFrame\n",
      "\n",
      "See the caveats in the documentation: https://pandas.pydata.org/pandas-docs/stable/user_guide/indexing.html#returning-a-view-versus-a-copy\n",
      "  charging_2019['idle_time'][index] = charging_2019['start_date'][index+1] - charging_2019['end_date'][index]\n",
      "<ipython-input-23-f94ba14cd3ef>:8: SettingWithCopyWarning: \n",
      "A value is trying to be set on a copy of a slice from a DataFrame\n",
      "\n",
      "See the caveats in the documentation: https://pandas.pydata.org/pandas-docs/stable/user_guide/indexing.html#returning-a-view-versus-a-copy\n",
      "  charging_2019['idle_time'][index] = None\n",
      "<ipython-input-23-f94ba14cd3ef>:5: SettingWithCopyWarning: \n",
      "A value is trying to be set on a copy of a slice from a DataFrame\n",
      "\n",
      "See the caveats in the documentation: https://pandas.pydata.org/pandas-docs/stable/user_guide/indexing.html#returning-a-view-versus-a-copy\n",
      "  charging_2019['idle_time'][index] = None\n"
     ]
    }
   ],
   "source": [
    "max_index = int(len(charging_2019) -1)\n",
    "\n",
    "for index, row in charging_2019.iterrows():\n",
    "    if index >= max_index:\n",
    "        charging_2019['idle_time'][index] = None\n",
    "    elif index <= max_index:\n",
    "        if charging_2019['unique_plug_id'][index+1] != charging_2019['unique_plug_id'][index]:\n",
    "            charging_2019['idle_time'][index] = None\n",
    "        elif charging_2019['unique_plug_id'][index+1] == charging_2019['unique_plug_id'][index]:\n",
    "            charging_2019['idle_time'][index] = charging_2019['start_date'][index+1] - charging_2019['end_date'][index]"
   ]
  },
  {
   "cell_type": "code",
   "execution_count": 24,
   "metadata": {},
   "outputs": [],
   "source": [
    "duration_cols = [\"idle_time\"]\n",
    "\n",
    "for col in duration_cols:\n",
    "     charging_2019[duration_cols] = charging_2019[duration_cols].apply(pd.to_timedelta, errors=\"coerce\")"
   ]
  },
  {
   "cell_type": "code",
   "execution_count": 25,
   "metadata": {},
   "outputs": [],
   "source": [
    "# bring idle_time to front\n",
    "charging_2019 = charging_2019[['station_name',\n",
    "                            'unique_plug_id', \n",
    "                            'start_date',\n",
    "                            'end_date',\n",
    "                            'total_duration',\n",
    "                            'charging_time',\n",
    "                            'parking_time',\n",
    "                            'idle_time',\n",
    "                            'port_type',\n",
    "                            'port_number',\n",
    "                            'latitude',\n",
    "                            'longitude',\n",
    "                            'ended_by', \n",
    "                            'plug_in_event_id',\n",
    "                            'driver_postal_code', \n",
    "                            'user_id',\n",
    "                            'fee_bol', \n",
    "                            'weekday']]"
   ]
  },
  {
   "cell_type": "code",
   "execution_count": 42,
   "metadata": {},
   "outputs": [],
   "source": [
    "# make column whether zip is from PA (1) or not (0)\n",
    "pa_zip_codes = ['94020', '94301', '94306', '94022', '94302', '95033', '94024', '94303', '94028', '94304']\n",
    "def determine_pa_zip(row):\n",
    "    if str(row['driver_postal_code']) in pa_zip_codes:\n",
    "        return 1\n",
    "    elif str(row['driver_postal_code']) not in pa_zip_codes:\n",
    "        return 0\n",
    "charging_2019['pa_zip_code'] = charging_2019.apply(lambda row: determine_pa_zip(row), axis=1)"
   ]
  },
  {
   "cell_type": "code",
   "execution_count": 43,
   "metadata": {},
   "outputs": [
    {
     "data": {
      "text/plain": [
       "2"
      ]
     },
     "execution_count": 43,
     "metadata": {},
     "output_type": "execute_result"
    }
   ],
   "source": [
    "charging_2019.pa_zip_code.nunique()"
   ]
  },
  {
   "cell_type": "code",
   "execution_count": 44,
   "metadata": {},
   "outputs": [
    {
     "data": {
      "text/plain": [
       "571"
      ]
     },
     "execution_count": 44,
     "metadata": {},
     "output_type": "execute_result"
    }
   ],
   "source": [
    "# determine local & out-of-city users \n",
    "# first get rid of decimal in postal code\n",
    "charging_2019['driver_postal_code'] = charging_2019['driver_postal_code'].fillna(0).astype(int)\n",
    "charging_2019['driver_postal_code'].nunique() # 571 unique postal codes"
   ]
  },
  {
   "cell_type": "code",
   "execution_count": 45,
   "metadata": {},
   "outputs": [
    {
     "data": {
      "text/plain": [
       "5"
      ]
     },
     "execution_count": 45,
     "metadata": {},
     "output_type": "execute_result"
    }
   ],
   "source": [
    "def make_h3_code(row):\n",
    "    return h3.geo_to_h3(\n",
    "            lat=row['latitude'],\n",
    "            lng=row['longitude'],\n",
    "            resolution=8    # Average Hexagon Area (km2): 0.7373276\n",
    "                            # Average Hexagon Edge Length (km)\n",
    "                            # https://h3geo.org/docs/core-library/restable/\n",
    ")\n",
    "charging_2019['h3_code'] = charging_2019.apply(lambda row : make_h3_code(row), axis=1)\n",
    "charging_2019.h3_code.nunique()"
   ]
  },
  {
   "cell_type": "code",
   "execution_count": 30,
   "metadata": {},
   "outputs": [],
   "source": [
    "# table_name = 'charging_df_nd_2019'\n",
    "# # Write records stored in a dataframe to SQL database\n",
    "# if engine!=None:\n",
    "#     try:\n",
    "#         charging_2019.to_sql(name=table_name, # Name of SQL table\n",
    "#                         con=engine, # Engine or connection\n",
    "#                         if_exists='replace', # Drop the table before inserting new values \n",
    "#                         index=False, # Write DataFrame index as a column\n",
    "#                         chunksize=5000, # Specify the number of rows in each batch to be written at a time\n",
    "#                         method='multi') # Pass multiple values in a single INSERT clause\n",
    "#         print(f\"The {table_name} table was imported successfully.\")\n",
    "#     # Error handling\n",
    "#     except (Exception, psycopg2.DatabaseError) as error:\n",
    "#         print(error)\n",
    "#         engine = None"
   ]
  },
  {
   "cell_type": "markdown",
   "metadata": {},
   "source": [
    "### Potential Research Questions\n",
    "\n",
    "Goal: Incentivize consumers in Germany (MUC and surroundings) to buy an EV by providing an optimal charging infrastructure (this means: there is (almost) always a charging station available at the right place (residential, leisure, work)\n",
    "\n",
    "Identifying charging behavior patterns in relation to location specifics - Is Palo Alto a best practice example? If yes, what can other cities (e.g. MUC) learn from them in terms of charging infrastructure?\n",
    "\n",
    "* Impact of COVID -- if time permits\n",
    "* crisis 2013/2014 -- if time permits\n",
    "* identify usage patterns according to location \n",
    "    * What are peak hours? Difference between weekdays / weekends?, per month? per year? \n",
    "    * peak times: How many PA users and how many from outside?\n",
    "    * avg. charging time, avg. parking time, idle times\n",
    "    * How many users are not from PA? What does MUC have to take into account in terms of \"outside\"/\"shuttle\" users?\n",
    "    * Analyze recurring charging customers with zip codes not from PA? Which stations do they use? \n",
    "* What infrastructure strategy is PA using (e.g. how many new stations per year, where? (location characteristics); Is Palo Alto best practice? (define KPIs, what makes a best practice? Ideas: high idle times (even during peak hours or at least other free station nearby), high ratio of charging stations per EV, high coverage?)\n",
    "* How does MUC compare?\n",
    "* Which stations were added newly each year? compare with MUC\n",
    "\n",
    "Potential categories: living, working, shopping, recreation"
   ]
  },
  {
   "cell_type": "code",
   "execution_count": 46,
   "metadata": {},
   "outputs": [],
   "source": [
    "# h3 to geo returns a tuple, so we have to convert it into a list to access it right\n",
    "\n",
    "h3_list = charging_2019.h3_code.unique()\n",
    "geo_center_list = []\n",
    "\n",
    "for i in h3_list:\n",
    "    k = list(h3.h3_to_geo(i))\n",
    "    geo_center_list.append(k)\n",
    "\n",
    "geo_center_list_string = []\n",
    "\n",
    "def make_string_geo():\n",
    "    for i in geo_center_list:\n",
    "        string = str(i[0]) + ',' + str(i[1])\n",
    "        geo_center_list_string.append(string)\n",
    "make_string_geo()\n"
   ]
  },
  {
   "cell_type": "code",
   "execution_count": 47,
   "metadata": {},
   "outputs": [
    {
     "name": "stdout",
     "output_type": "stream",
     "text": [
      "Places nearby: 427\n"
     ]
    }
   ],
   "source": [
    "api_key= 'Z1XB-w87ksYmy5gJnj4gfLPJUJRkiyyPDLEtyjnMYy0'\n",
    "# url_range = f'https://browse.search.hereapi.com/v1/browse?at={GEO}&in=circle:{GEO};r=700&limit=100&apiKey={api_key}'\n",
    "\n",
    "title_list = []\n",
    "cat_id_list = []\n",
    "cat_def_list = []\n",
    "cat_name_list = []\n",
    "lat_list = []\n",
    "lng_list = []\n",
    "source_geo = []\n",
    "h3_source_list = []\n",
    "\n",
    "\n",
    "count = 0\n",
    "\n",
    "for index, GEO in enumerate(geo_center_list_string):\n",
    "    resp = requests.get(url = f'https://browse.search.hereapi.com/v1/browse?at={GEO}&in=circle:{GEO};r=700&limit=100&apiKey={api_key}')\n",
    "    data= resp.json()\n",
    "\n",
    "    for i in data['items']:\n",
    "        if 'categories' not in i:\n",
    "            continue\n",
    "        else:\n",
    "            title_list.append(str(i['title']))\n",
    "            cat_id_list.append(str(i['categories'][0]['id']))\n",
    "            cat_name_list.append(str(i['categories'][0]['name']))\n",
    "            lat_list.append(str(i['position']['lat']))\n",
    "            lng_list.append(str(i['position']['lng']))\n",
    "            source_geo.append(GEO)\n",
    "            h3_source_list.append(h3_list[index])\n",
    "            count +=1\n",
    "print('Places nearby: ' + str(count))"
   ]
  },
  {
   "cell_type": "code",
   "execution_count": 48,
   "metadata": {},
   "outputs": [],
   "source": [
    "dict = {'title': title_list, 'cat_id': cat_id_list, 'cat_name': cat_name_list, 'latitude': lat_list, 'longitude': lng_list, 'geo_source': source_geo, 'h3_source': h3_source_list} \n",
    "cat_df = pd.DataFrame(dict)"
   ]
  },
  {
   "cell_type": "code",
   "execution_count": 49,
   "metadata": {},
   "outputs": [],
   "source": [
    "# searched for 1 instead of 100 because we had null-values in cat 500 ( there was a 550 at the beginning)\n",
    "\n",
    "def make_cat_def(row):\n",
    "    if row['cat_id'][:1] == '1':\n",
    "        return 'Eat & Drink'\n",
    "    elif row['cat_id'][:1] == '2':\n",
    "        return 'Going Out-Entertainment'\n",
    "    elif row['cat_id'][:1] == '3':\n",
    "        return 'Sights and Museums'\n",
    "    elif row['cat_id'][:1] == '4':\n",
    "        return 'Transport'\n",
    "    elif row['cat_id'][:1] == '5':\n",
    "        return 'Accommodations'\n",
    "    elif row['cat_id'][:1] == '6':\n",
    "        return 'Shopping'\n",
    "    elif row['cat_id'][:1] == '7':\n",
    "        return 'Business and Services'\n",
    "    elif row['cat_id'][:1] == '8':\n",
    "        return 'Facilities'\n",
    "    elif row['cat_id'][:1] == '9':\n",
    "        return 'Areas and Buildings'\n",
    "\n",
    "cat_df['cat_definition'] = cat_df.apply(lambda row : make_cat_def(row), axis=1)"
   ]
  },
  {
   "cell_type": "code",
   "execution_count": 50,
   "metadata": {},
   "outputs": [],
   "source": [
    "cat_df = cat_df[[   'h3_source',\n",
    "                    'cat_definition', \n",
    "                    'cat_name',\n",
    "                    'title'\n",
    "                ]]"
   ]
  },
  {
   "cell_type": "code",
   "execution_count": 51,
   "metadata": {},
   "outputs": [
    {
     "data": {
      "text/html": [
       "<div>\n",
       "<style scoped>\n",
       "    .dataframe tbody tr th:only-of-type {\n",
       "        vertical-align: middle;\n",
       "    }\n",
       "\n",
       "    .dataframe tbody tr th {\n",
       "        vertical-align: top;\n",
       "    }\n",
       "\n",
       "    .dataframe thead th {\n",
       "        text-align: right;\n",
       "    }\n",
       "</style>\n",
       "<table border=\"1\" class=\"dataframe\">\n",
       "  <thead>\n",
       "    <tr style=\"text-align: right;\">\n",
       "      <th></th>\n",
       "      <th>h3_source</th>\n",
       "      <th>cat_definition</th>\n",
       "      <th>cat_name</th>\n",
       "      <th>title</th>\n",
       "    </tr>\n",
       "  </thead>\n",
       "  <tbody>\n",
       "    <tr>\n",
       "      <th>240</th>\n",
       "      <td>8828347433fffff</td>\n",
       "      <td>Business and Services</td>\n",
       "      <td>Engineering and Scientific Services</td>\n",
       "      <td>Fergus Garber Young Architects</td>\n",
       "    </tr>\n",
       "    <tr>\n",
       "      <th>241</th>\n",
       "      <td>8828347433fffff</td>\n",
       "      <td>Business and Services</td>\n",
       "      <td>Social Services</td>\n",
       "      <td>Bay Area Senior Games</td>\n",
       "    </tr>\n",
       "    <tr>\n",
       "      <th>242</th>\n",
       "      <td>8828347433fffff</td>\n",
       "      <td>Business and Services</td>\n",
       "      <td>Advertising/Marketing, PR &amp; Market Research</td>\n",
       "      <td>Opportunity Health</td>\n",
       "    </tr>\n",
       "    <tr>\n",
       "      <th>243</th>\n",
       "      <td>8828347433fffff</td>\n",
       "      <td>Business and Services</td>\n",
       "      <td>Consumer Services</td>\n",
       "      <td>Peninsula Healthcare Connection</td>\n",
       "    </tr>\n",
       "    <tr>\n",
       "      <th>252</th>\n",
       "      <td>8828347433fffff</td>\n",
       "      <td>Business and Services</td>\n",
       "      <td>Consumer Services</td>\n",
       "      <td>Bhati Santosh MD Palo Alto Med FDTN</td>\n",
       "    </tr>\n",
       "    <tr>\n",
       "      <th>...</th>\n",
       "      <td>...</td>\n",
       "      <td>...</td>\n",
       "      <td>...</td>\n",
       "      <td>...</td>\n",
       "    </tr>\n",
       "    <tr>\n",
       "      <th>77</th>\n",
       "      <td>88283475d9fffff</td>\n",
       "      <td>Facilities</td>\n",
       "      <td>Therapist</td>\n",
       "      <td>Gloria Kardong MD</td>\n",
       "    </tr>\n",
       "    <tr>\n",
       "      <th>78</th>\n",
       "      <td>88283475d9fffff</td>\n",
       "      <td>Facilities</td>\n",
       "      <td>Therapist</td>\n",
       "      <td>Renee Burgard, LCSW</td>\n",
       "    </tr>\n",
       "    <tr>\n",
       "      <th>87</th>\n",
       "      <td>88283475d9fffff</td>\n",
       "      <td>Facilities</td>\n",
       "      <td>Parking Garage/Parking House</td>\n",
       "      <td>Webster-Cowper Parking Garage</td>\n",
       "    </tr>\n",
       "    <tr>\n",
       "      <th>89</th>\n",
       "      <td>88283475d9fffff</td>\n",
       "      <td>Facilities</td>\n",
       "      <td>Family/General Practice Physicians</td>\n",
       "      <td>Dr. Richard D. Lee, MD</td>\n",
       "    </tr>\n",
       "    <tr>\n",
       "      <th>2</th>\n",
       "      <td>88283475d9fffff</td>\n",
       "      <td>Shopping</td>\n",
       "      <td>Hair &amp; Beauty</td>\n",
       "      <td>Just Terri</td>\n",
       "    </tr>\n",
       "  </tbody>\n",
       "</table>\n",
       "<p>427 rows × 4 columns</p>\n",
       "</div>"
      ],
      "text/plain": [
       "           h3_source         cat_definition  \\\n",
       "240  8828347433fffff  Business and Services   \n",
       "241  8828347433fffff  Business and Services   \n",
       "242  8828347433fffff  Business and Services   \n",
       "243  8828347433fffff  Business and Services   \n",
       "252  8828347433fffff  Business and Services   \n",
       "..               ...                    ...   \n",
       "77   88283475d9fffff             Facilities   \n",
       "78   88283475d9fffff             Facilities   \n",
       "87   88283475d9fffff             Facilities   \n",
       "89   88283475d9fffff             Facilities   \n",
       "2    88283475d9fffff               Shopping   \n",
       "\n",
       "                                        cat_name  \\\n",
       "240          Engineering and Scientific Services   \n",
       "241                              Social Services   \n",
       "242  Advertising/Marketing, PR & Market Research   \n",
       "243                            Consumer Services   \n",
       "252                            Consumer Services   \n",
       "..                                           ...   \n",
       "77                                     Therapist   \n",
       "78                                     Therapist   \n",
       "87                  Parking Garage/Parking House   \n",
       "89            Family/General Practice Physicians   \n",
       "2                                  Hair & Beauty   \n",
       "\n",
       "                                   title  \n",
       "240       Fergus Garber Young Architects  \n",
       "241                Bay Area Senior Games  \n",
       "242                   Opportunity Health  \n",
       "243      Peninsula Healthcare Connection  \n",
       "252  Bhati Santosh MD Palo Alto Med FDTN  \n",
       "..                                   ...  \n",
       "77                     Gloria Kardong MD  \n",
       "78                   Renee Burgard, LCSW  \n",
       "87         Webster-Cowper Parking Garage  \n",
       "89                Dr. Richard D. Lee, MD  \n",
       "2                             Just Terri  \n",
       "\n",
       "[427 rows x 4 columns]"
      ]
     },
     "execution_count": 51,
     "metadata": {},
     "output_type": "execute_result"
    }
   ],
   "source": [
    "cat_df.sort_values(['h3_source', 'cat_definition'])"
   ]
  },
  {
   "cell_type": "code",
   "execution_count": 52,
   "metadata": {},
   "outputs": [],
   "source": [
    "new_df_dict = { \n",
    "                'h3_code': h3_list, \n",
    "                'station_count': None, \n",
    "                'plug_count': None, \n",
    "                'Eat_and_Drink': None, \n",
    "                'Going_Out-Entertainment': None, \n",
    "                'Sights_and_Museums': None, \n",
    "                'Transport': None,\n",
    "                'Accommodations': None, \n",
    "                'Shopping': None, \n",
    "                'Business_and_Services': None,\n",
    "                'Facilities': None, \n",
    "                'Areas_and_Buildings': None}\n",
    "master_compare_df = pd.DataFrame(new_df_dict)"
   ]
  },
  {
   "cell_type": "code",
   "execution_count": 53,
   "metadata": {},
   "outputs": [],
   "source": [
    "def count_station_in_h3(row):\n",
    "    return charging_2019[charging_2019.h3_code == row['h3_code']].nunique()['station_name']  \n",
    "def count_plug_id_in_h3(row):\n",
    "    return charging_2019[charging_2019.h3_code == row['h3_code']].nunique()['unique_plug_id']\n",
    "def count_100_in_h3(row):\n",
    "    return cat_df[(cat_df.h3_source == row['h3_code']) & (cat_df.cat_definition == 'Eat & Drink')].count()\n",
    "def count_200_in_h3(row):\n",
    "    return cat_df[(cat_df.h3_source == row['h3_code']) & (cat_df.cat_definition == 'Going Out-Entertainment')].count()\n",
    "def count_300_in_h3(row):\n",
    "    return cat_df[(cat_df.h3_source == row['h3_code']) & (cat_df.cat_definition == 'Sights and Museums')].count()\n",
    "def count_400_in_h3(row):\n",
    "    return cat_df[(cat_df.h3_source == row['h3_code']) & (cat_df.cat_definition == 'Transport')].count()\n",
    "def count_500_in_h3(row):\n",
    "    return cat_df[(cat_df.h3_source == row['h3_code']) & (cat_df.cat_definition == 'Accommodations')].count()\n",
    "def count_600_in_h3(row):\n",
    "    return cat_df[(cat_df.h3_source == row['h3_code']) & (cat_df.cat_definition == 'Shopping')].count()\n",
    "def count_700_in_h3(row):\n",
    "    return cat_df[(cat_df.h3_source == row['h3_code']) & (cat_df.cat_definition == 'Business and Services')].count()\n",
    "def count_800_in_h3(row):\n",
    "    return cat_df[(cat_df.h3_source == row['h3_code']) & (cat_df.cat_definition == 'Facilities')].count()\n",
    "def count_900_in_h3(row):\n",
    "    return cat_df[(cat_df.h3_source == row['h3_code']) & (cat_df.cat_definition == 'Areas and Buildings')].count()\n",
    "def total_poi(row):\n",
    "    return row['Eat_and_Drink']+row['Going_Out-Entertainment']+row['Sights_and_Museums']+row['Transport']+row['Accommodations']+row['Shopping']+row['Business_and_Services']+row['Facilities']+row['Areas_and_Buildings']"
   ]
  },
  {
   "cell_type": "code",
   "execution_count": 54,
   "metadata": {},
   "outputs": [],
   "source": [
    "master_compare_df['station_count'] = master_compare_df.apply(lambda row : count_station_in_h3(row), axis=1)\n",
    "master_compare_df['plug_count'] = master_compare_df.apply(lambda row : count_plug_id_in_h3(row), axis=1)\n",
    "master_compare_df['Eat_and_Drink'] = master_compare_df.apply(lambda row : count_100_in_h3(row), axis=1)\n",
    "master_compare_df['Going_Out-Entertainment'] = master_compare_df.apply(lambda row : count_200_in_h3(row), axis=1)\n",
    "master_compare_df['Sights_and_Museums'] = master_compare_df.apply(lambda row : count_300_in_h3(row), axis=1)\n",
    "master_compare_df['Transport'] = master_compare_df.apply(lambda row : count_400_in_h3(row), axis=1)\n",
    "master_compare_df['Accommodations'] = master_compare_df.apply(lambda row : count_500_in_h3(row), axis=1)\n",
    "master_compare_df['Shopping'] = master_compare_df.apply(lambda row : count_600_in_h3(row), axis=1)\n",
    "master_compare_df['Business_and_Services'] = master_compare_df.apply(lambda row : count_700_in_h3(row), axis=1)\n",
    "master_compare_df['Facilities'] = master_compare_df.apply(lambda row : count_800_in_h3(row), axis=1)\n",
    "master_compare_df['Areas_and_Buildings'] = master_compare_df.apply(lambda row : count_900_in_h3(row), axis=1)\n",
    "master_compare_df['total_poi'] = master_compare_df.apply(lambda row : total_poi(row), axis=1)"
   ]
  },
  {
   "cell_type": "code",
   "execution_count": 55,
   "metadata": {},
   "outputs": [
    {
     "data": {
      "text/html": [
       "<div>\n",
       "<style scoped>\n",
       "    .dataframe tbody tr th:only-of-type {\n",
       "        vertical-align: middle;\n",
       "    }\n",
       "\n",
       "    .dataframe tbody tr th {\n",
       "        vertical-align: top;\n",
       "    }\n",
       "\n",
       "    .dataframe thead th {\n",
       "        text-align: right;\n",
       "    }\n",
       "</style>\n",
       "<table border=\"1\" class=\"dataframe\">\n",
       "  <thead>\n",
       "    <tr style=\"text-align: right;\">\n",
       "      <th></th>\n",
       "      <th>h3_code</th>\n",
       "      <th>station_count</th>\n",
       "      <th>plug_count</th>\n",
       "      <th>Eat_and_Drink</th>\n",
       "      <th>Going_Out-Entertainment</th>\n",
       "      <th>Sights_and_Museums</th>\n",
       "      <th>Transport</th>\n",
       "      <th>Accommodations</th>\n",
       "      <th>Shopping</th>\n",
       "      <th>Business_and_Services</th>\n",
       "      <th>Facilities</th>\n",
       "      <th>Areas_and_Buildings</th>\n",
       "      <th>total_poi</th>\n",
       "    </tr>\n",
       "  </thead>\n",
       "  <tbody>\n",
       "    <tr>\n",
       "      <th>0</th>\n",
       "      <td>88283475d9fffff</td>\n",
       "      <td>10</td>\n",
       "      <td>20</td>\n",
       "      <td>1</td>\n",
       "      <td>0</td>\n",
       "      <td>0</td>\n",
       "      <td>0</td>\n",
       "      <td>0</td>\n",
       "      <td>1</td>\n",
       "      <td>68</td>\n",
       "      <td>30</td>\n",
       "      <td>0</td>\n",
       "      <td>100</td>\n",
       "    </tr>\n",
       "    <tr>\n",
       "      <th>1</th>\n",
       "      <td>88283475cbfffff</td>\n",
       "      <td>3</td>\n",
       "      <td>5</td>\n",
       "      <td>1</td>\n",
       "      <td>0</td>\n",
       "      <td>4</td>\n",
       "      <td>1</td>\n",
       "      <td>2</td>\n",
       "      <td>6</td>\n",
       "      <td>21</td>\n",
       "      <td>16</td>\n",
       "      <td>0</td>\n",
       "      <td>51</td>\n",
       "    </tr>\n",
       "    <tr>\n",
       "      <th>2</th>\n",
       "      <td>8828347553fffff</td>\n",
       "      <td>6</td>\n",
       "      <td>8</td>\n",
       "      <td>8</td>\n",
       "      <td>2</td>\n",
       "      <td>3</td>\n",
       "      <td>8</td>\n",
       "      <td>1</td>\n",
       "      <td>9</td>\n",
       "      <td>21</td>\n",
       "      <td>29</td>\n",
       "      <td>0</td>\n",
       "      <td>81</td>\n",
       "    </tr>\n",
       "    <tr>\n",
       "      <th>3</th>\n",
       "      <td>8828347433fffff</td>\n",
       "      <td>5</td>\n",
       "      <td>10</td>\n",
       "      <td>0</td>\n",
       "      <td>0</td>\n",
       "      <td>0</td>\n",
       "      <td>0</td>\n",
       "      <td>0</td>\n",
       "      <td>1</td>\n",
       "      <td>7</td>\n",
       "      <td>92</td>\n",
       "      <td>0</td>\n",
       "      <td>100</td>\n",
       "    </tr>\n",
       "    <tr>\n",
       "      <th>4</th>\n",
       "      <td>882834743dfffff</td>\n",
       "      <td>9</td>\n",
       "      <td>22</td>\n",
       "      <td>7</td>\n",
       "      <td>1</td>\n",
       "      <td>2</td>\n",
       "      <td>0</td>\n",
       "      <td>0</td>\n",
       "      <td>8</td>\n",
       "      <td>46</td>\n",
       "      <td>31</td>\n",
       "      <td>0</td>\n",
       "      <td>95</td>\n",
       "    </tr>\n",
       "  </tbody>\n",
       "</table>\n",
       "</div>"
      ],
      "text/plain": [
       "           h3_code  station_count  plug_count  Eat_and_Drink  \\\n",
       "0  88283475d9fffff             10          20              1   \n",
       "1  88283475cbfffff              3           5              1   \n",
       "2  8828347553fffff              6           8              8   \n",
       "3  8828347433fffff              5          10              0   \n",
       "4  882834743dfffff              9          22              7   \n",
       "\n",
       "   Going_Out-Entertainment  Sights_and_Museums  Transport  Accommodations  \\\n",
       "0                        0                   0          0               0   \n",
       "1                        0                   4          1               2   \n",
       "2                        2                   3          8               1   \n",
       "3                        0                   0          0               0   \n",
       "4                        1                   2          0               0   \n",
       "\n",
       "   Shopping  Business_and_Services  Facilities  Areas_and_Buildings  total_poi  \n",
       "0         1                     68          30                    0        100  \n",
       "1         6                     21          16                    0         51  \n",
       "2         9                     21          29                    0         81  \n",
       "3         1                      7          92                    0        100  \n",
       "4         8                     46          31                    0         95  "
      ]
     },
     "metadata": {},
     "output_type": "display_data"
    }
   ],
   "source": [
    "display(master_compare_df)"
   ]
  },
  {
   "cell_type": "code",
   "execution_count": null,
   "metadata": {},
   "outputs": [],
   "source": []
  },
  {
   "cell_type": "code",
   "execution_count": 57,
   "metadata": {},
   "outputs": [
    {
     "ename": "ImportError",
     "evalue": "matplotlib is required for plotting when the default backend \"matplotlib\" is selected.",
     "output_type": "error",
     "traceback": [
      "\u001b[0;31m---------------------------------------------------------------------------\u001b[0m",
      "\u001b[0;31mImportError\u001b[0m                               Traceback (most recent call last)",
      "\u001b[0;32m<ipython-input-57-c031d01ebc07>\u001b[0m in \u001b[0;36m<module>\u001b[0;34m\u001b[0m\n\u001b[1;32m      3\u001b[0m \u001b[0mcharging_2019\u001b[0m\u001b[0;34m[\u001b[0m\u001b[0;34m'driver_postal_code'\u001b[0m\u001b[0;34m]\u001b[0m \u001b[0;34m=\u001b[0m \u001b[0mcharging_2019\u001b[0m\u001b[0;34m[\u001b[0m\u001b[0;34m'driver_postal_code'\u001b[0m\u001b[0;34m]\u001b[0m\u001b[0;34m.\u001b[0m\u001b[0mfillna\u001b[0m\u001b[0;34m(\u001b[0m\u001b[0;36m0\u001b[0m\u001b[0;34m)\u001b[0m\u001b[0;34m.\u001b[0m\u001b[0mastype\u001b[0m\u001b[0;34m(\u001b[0m\u001b[0mint\u001b[0m\u001b[0;34m)\u001b[0m\u001b[0;34m\u001b[0m\u001b[0;34m\u001b[0m\u001b[0m\n\u001b[1;32m      4\u001b[0m \u001b[0mcharging_2019\u001b[0m\u001b[0;34m[\u001b[0m\u001b[0;34m'driver_postal_code'\u001b[0m\u001b[0;34m]\u001b[0m\u001b[0;34m.\u001b[0m\u001b[0mnunique\u001b[0m\u001b[0;34m(\u001b[0m\u001b[0;34m)\u001b[0m \u001b[0;31m# 571 unique postal codes\u001b[0m\u001b[0;34m\u001b[0m\u001b[0;34m\u001b[0m\u001b[0m\n\u001b[0;32m----> 5\u001b[0;31m \u001b[0mcharging_2019\u001b[0m\u001b[0;34m.\u001b[0m\u001b[0mgroupby\u001b[0m\u001b[0;34m(\u001b[0m\u001b[0;34m'weekday'\u001b[0m\u001b[0;34m)\u001b[0m\u001b[0;34m.\u001b[0m\u001b[0mcount\u001b[0m\u001b[0;34m(\u001b[0m\u001b[0;34m)\u001b[0m\u001b[0;34m[\u001b[0m\u001b[0;34m'driver_postal_code'\u001b[0m\u001b[0;34m]\u001b[0m\u001b[0;34m.\u001b[0m\u001b[0mplot\u001b[0m\u001b[0;34m(\u001b[0m\u001b[0mkind\u001b[0m\u001b[0;34m=\u001b[0m\u001b[0;34m'bar'\u001b[0m\u001b[0;34m)\u001b[0m\u001b[0;34m\u001b[0m\u001b[0;34m\u001b[0m\u001b[0m\n\u001b[0m\u001b[1;32m      6\u001b[0m \u001b[0mcharging_2019\u001b[0m\u001b[0;34m.\u001b[0m\u001b[0mgroupby\u001b[0m\u001b[0;34m(\u001b[0m\u001b[0;34m'weekday'\u001b[0m\u001b[0;34m)\u001b[0m\u001b[0;34m.\u001b[0m\u001b[0mcount\u001b[0m\u001b[0;34m(\u001b[0m\u001b[0;34m)\u001b[0m\u001b[0;34m[\u001b[0m\u001b[0;34m'driver_postal_code'\u001b[0m\u001b[0;34m]\u001b[0m\u001b[0;34m.\u001b[0m\u001b[0mplot\u001b[0m\u001b[0;34m(\u001b[0m\u001b[0mkind\u001b[0m\u001b[0;34m=\u001b[0m\u001b[0;34m'bar'\u001b[0m\u001b[0;34m)\u001b[0m\u001b[0;34m\u001b[0m\u001b[0;34m\u001b[0m\u001b[0m\n\u001b[1;32m      7\u001b[0m \u001b[0;31m# during the week we have a higher count of zip_codes --> lots of commuters to PA\u001b[0m\u001b[0;34m\u001b[0m\u001b[0;34m\u001b[0m\u001b[0;34m\u001b[0m\u001b[0m\n",
      "\u001b[0;32m/usr/local/Caskroom/miniconda/base/envs/sql-practice/lib/python3.8/site-packages/pandas/plotting/_core.py\u001b[0m in \u001b[0;36m__call__\u001b[0;34m(self, *args, **kwargs)\u001b[0m\n\u001b[1;32m    873\u001b[0m \u001b[0;34m\u001b[0m\u001b[0m\n\u001b[1;32m    874\u001b[0m     \u001b[0;32mdef\u001b[0m \u001b[0m__call__\u001b[0m\u001b[0;34m(\u001b[0m\u001b[0mself\u001b[0m\u001b[0;34m,\u001b[0m \u001b[0;34m*\u001b[0m\u001b[0margs\u001b[0m\u001b[0;34m,\u001b[0m \u001b[0;34m**\u001b[0m\u001b[0mkwargs\u001b[0m\u001b[0;34m)\u001b[0m\u001b[0;34m:\u001b[0m\u001b[0;34m\u001b[0m\u001b[0;34m\u001b[0m\u001b[0m\n\u001b[0;32m--> 875\u001b[0;31m         \u001b[0mplot_backend\u001b[0m \u001b[0;34m=\u001b[0m \u001b[0m_get_plot_backend\u001b[0m\u001b[0;34m(\u001b[0m\u001b[0mkwargs\u001b[0m\u001b[0;34m.\u001b[0m\u001b[0mpop\u001b[0m\u001b[0;34m(\u001b[0m\u001b[0;34m\"backend\"\u001b[0m\u001b[0;34m,\u001b[0m \u001b[0;32mNone\u001b[0m\u001b[0;34m)\u001b[0m\u001b[0;34m)\u001b[0m\u001b[0;34m\u001b[0m\u001b[0;34m\u001b[0m\u001b[0m\n\u001b[0m\u001b[1;32m    876\u001b[0m \u001b[0;34m\u001b[0m\u001b[0m\n\u001b[1;32m    877\u001b[0m         x, y, kind, kwargs = self._get_call_args(\n",
      "\u001b[0;32m/usr/local/Caskroom/miniconda/base/envs/sql-practice/lib/python3.8/site-packages/pandas/plotting/_core.py\u001b[0m in \u001b[0;36m_get_plot_backend\u001b[0;34m(backend)\u001b[0m\n\u001b[1;32m   1784\u001b[0m             \u001b[0;32mimport\u001b[0m \u001b[0mpandas\u001b[0m\u001b[0;34m.\u001b[0m\u001b[0mplotting\u001b[0m\u001b[0;34m.\u001b[0m\u001b[0m_matplotlib\u001b[0m \u001b[0;32mas\u001b[0m \u001b[0mmodule\u001b[0m\u001b[0;34m\u001b[0m\u001b[0;34m\u001b[0m\u001b[0m\n\u001b[1;32m   1785\u001b[0m         \u001b[0;32mexcept\u001b[0m \u001b[0mImportError\u001b[0m\u001b[0;34m:\u001b[0m\u001b[0;34m\u001b[0m\u001b[0;34m\u001b[0m\u001b[0m\n\u001b[0;32m-> 1786\u001b[0;31m             raise ImportError(\n\u001b[0m\u001b[1;32m   1787\u001b[0m                 \u001b[0;34m\"matplotlib is required for plotting when the \"\u001b[0m\u001b[0;34m\u001b[0m\u001b[0;34m\u001b[0m\u001b[0m\n\u001b[1;32m   1788\u001b[0m                 \u001b[0;34m'default backend \"matplotlib\" is selected.'\u001b[0m\u001b[0;34m\u001b[0m\u001b[0;34m\u001b[0m\u001b[0m\n",
      "\u001b[0;31mImportError\u001b[0m: matplotlib is required for plotting when the default backend \"matplotlib\" is selected."
     ]
    }
   ],
   "source": [
    "# determine local & out-of-city users\n",
    "# first get rid of decimal in postal code\n",
    "charging_2019['driver_postal_code'] = charging_2019['driver_postal_code'].fillna(0).astype(int)\n",
    "charging_2019['driver_postal_code'].nunique() # 571 unique postal codes\n",
    "charging_2019.groupby('weekday').count()['driver_postal_code'].plot(kind='bar')\n",
    "charging_2019.groupby('weekday').count()['driver_postal_code'].plot(kind='bar')\n",
    "# during the week we have a higher count of zip_codes --> lots of commuters to PA"
   ]
  },
  {
   "cell_type": "code",
   "execution_count": null,
   "metadata": {},
   "outputs": [],
   "source": [
    "# make column whether zip is from PA (1) or not (0)\n",
    "pa_zip_codes = ['94020', '94301', '94306', '94022', '94302', '95033', '94024', '94303', '94028', '94304']\n",
    "def determine_pa_zip(row):\n",
    "    if str(row['driver_postal_code']) in pa_zip_codes:\n",
    "        return 1\n",
    "    elif str(row['driver_postal_code']) not in pa_zip_codes:\n",
    "        return 0\n",
    "charging_2019['pa_zip_code'] = charging_2019.apply(lambda row: determine_pa_zip(row), axis=1)"
   ]
  },
  {
   "cell_type": "code",
   "execution_count": null,
   "metadata": {},
   "outputs": [
    {
     "ename": "ImportError",
     "evalue": "matplotlib is required for plotting when the default backend \"matplotlib\" is selected.",
     "output_type": "error",
     "traceback": [
      "\u001b[0;31m---------------------------------------------------------------------------\u001b[0m",
      "\u001b[0;31mImportError\u001b[0m                               Traceback (most recent call last)",
      "\u001b[0;32m<ipython-input-111-2fbdc64a284c>\u001b[0m in \u001b[0;36m<module>\u001b[0;34m\u001b[0m\n\u001b[1;32m      1\u001b[0m \u001b[0;31m# plot PA vs. non-PA zips per weekday\u001b[0m\u001b[0;34m\u001b[0m\u001b[0;34m\u001b[0m\u001b[0;34m\u001b[0m\u001b[0m\n\u001b[0;32m----> 2\u001b[0;31m \u001b[0mcharging_2019\u001b[0m\u001b[0;34m.\u001b[0m\u001b[0mgroupby\u001b[0m\u001b[0;34m(\u001b[0m\u001b[0;34m[\u001b[0m\u001b[0;34m'h3_code'\u001b[0m\u001b[0;34m,\u001b[0m\u001b[0;34m'weekday'\u001b[0m\u001b[0;34m]\u001b[0m\u001b[0;34m)\u001b[0m\u001b[0;34m.\u001b[0m\u001b[0msum\u001b[0m\u001b[0;34m(\u001b[0m\u001b[0;34m)\u001b[0m\u001b[0;34m[\u001b[0m\u001b[0;34m'pa_zip_code'\u001b[0m\u001b[0;34m]\u001b[0m\u001b[0;34m.\u001b[0m\u001b[0mplot\u001b[0m\u001b[0;34m(\u001b[0m\u001b[0mkind\u001b[0m\u001b[0;34m=\u001b[0m\u001b[0;34m'bar'\u001b[0m\u001b[0;34m)\u001b[0m\u001b[0;34m\u001b[0m\u001b[0;34m\u001b[0m\u001b[0m\n\u001b[0m",
      "\u001b[0;32m/usr/local/Caskroom/miniconda/base/envs/sql-practice/lib/python3.8/site-packages/pandas/plotting/_core.py\u001b[0m in \u001b[0;36m__call__\u001b[0;34m(self, *args, **kwargs)\u001b[0m\n\u001b[1;32m    873\u001b[0m \u001b[0;34m\u001b[0m\u001b[0m\n\u001b[1;32m    874\u001b[0m     \u001b[0;32mdef\u001b[0m \u001b[0m__call__\u001b[0m\u001b[0;34m(\u001b[0m\u001b[0mself\u001b[0m\u001b[0;34m,\u001b[0m \u001b[0;34m*\u001b[0m\u001b[0margs\u001b[0m\u001b[0;34m,\u001b[0m \u001b[0;34m**\u001b[0m\u001b[0mkwargs\u001b[0m\u001b[0;34m)\u001b[0m\u001b[0;34m:\u001b[0m\u001b[0;34m\u001b[0m\u001b[0;34m\u001b[0m\u001b[0m\n\u001b[0;32m--> 875\u001b[0;31m         \u001b[0mplot_backend\u001b[0m \u001b[0;34m=\u001b[0m \u001b[0m_get_plot_backend\u001b[0m\u001b[0;34m(\u001b[0m\u001b[0mkwargs\u001b[0m\u001b[0;34m.\u001b[0m\u001b[0mpop\u001b[0m\u001b[0;34m(\u001b[0m\u001b[0;34m\"backend\"\u001b[0m\u001b[0;34m,\u001b[0m \u001b[0;32mNone\u001b[0m\u001b[0;34m)\u001b[0m\u001b[0;34m)\u001b[0m\u001b[0;34m\u001b[0m\u001b[0;34m\u001b[0m\u001b[0m\n\u001b[0m\u001b[1;32m    876\u001b[0m \u001b[0;34m\u001b[0m\u001b[0m\n\u001b[1;32m    877\u001b[0m         x, y, kind, kwargs = self._get_call_args(\n",
      "\u001b[0;32m/usr/local/Caskroom/miniconda/base/envs/sql-practice/lib/python3.8/site-packages/pandas/plotting/_core.py\u001b[0m in \u001b[0;36m_get_plot_backend\u001b[0;34m(backend)\u001b[0m\n\u001b[1;32m   1784\u001b[0m             \u001b[0;32mimport\u001b[0m \u001b[0mpandas\u001b[0m\u001b[0;34m.\u001b[0m\u001b[0mplotting\u001b[0m\u001b[0;34m.\u001b[0m\u001b[0m_matplotlib\u001b[0m \u001b[0;32mas\u001b[0m \u001b[0mmodule\u001b[0m\u001b[0;34m\u001b[0m\u001b[0;34m\u001b[0m\u001b[0m\n\u001b[1;32m   1785\u001b[0m         \u001b[0;32mexcept\u001b[0m \u001b[0mImportError\u001b[0m\u001b[0;34m:\u001b[0m\u001b[0;34m\u001b[0m\u001b[0;34m\u001b[0m\u001b[0m\n\u001b[0;32m-> 1786\u001b[0;31m             raise ImportError(\n\u001b[0m\u001b[1;32m   1787\u001b[0m                 \u001b[0;34m\"matplotlib is required for plotting when the \"\u001b[0m\u001b[0;34m\u001b[0m\u001b[0;34m\u001b[0m\u001b[0m\n\u001b[1;32m   1788\u001b[0m                 \u001b[0;34m'default backend \"matplotlib\" is selected.'\u001b[0m\u001b[0;34m\u001b[0m\u001b[0;34m\u001b[0m\u001b[0m\n",
      "\u001b[0;31mImportError\u001b[0m: matplotlib is required for plotting when the default backend \"matplotlib\" is selected."
     ]
    }
   ],
   "source": [
    "# plot PA vs. non-PA zips per weekday\n",
    "charging_2019.groupby(['h3_code','weekday']).sum()['pa_zip_code'].plot(kind='bar')"
   ]
  },
  {
   "cell_type": "code",
   "execution_count": null,
   "metadata": {},
   "outputs": [
    {
     "ename": "DataError",
     "evalue": "No numeric types to aggregate",
     "output_type": "error",
     "traceback": [
      "\u001b[0;31m---------------------------------------------------------------------------\u001b[0m",
      "\u001b[0;31mDataError\u001b[0m                                 Traceback (most recent call last)",
      "\u001b[0;32m<ipython-input-112-7b13d547dda3>\u001b[0m in \u001b[0;36m<module>\u001b[0;34m\u001b[0m\n\u001b[0;32m----> 1\u001b[0;31m \u001b[0mcharging_2019\u001b[0m\u001b[0;34m.\u001b[0m\u001b[0mgroupby\u001b[0m\u001b[0;34m(\u001b[0m\u001b[0;34m[\u001b[0m\u001b[0;34m'h3_code'\u001b[0m\u001b[0;34m,\u001b[0m \u001b[0;34m'weekday'\u001b[0m\u001b[0;34m]\u001b[0m\u001b[0;34m)\u001b[0m\u001b[0;34m[\u001b[0m\u001b[0;34m'charging_time'\u001b[0m\u001b[0;34m]\u001b[0m\u001b[0;34m.\u001b[0m\u001b[0mmean\u001b[0m\u001b[0;34m(\u001b[0m\u001b[0;34m)\u001b[0m\u001b[0;34m\u001b[0m\u001b[0;34m\u001b[0m\u001b[0m\n\u001b[0m",
      "\u001b[0;32m/usr/local/Caskroom/miniconda/base/envs/sql-practice/lib/python3.8/site-packages/pandas/core/groupby/groupby.py\u001b[0m in \u001b[0;36mmean\u001b[0;34m(self, numeric_only)\u001b[0m\n\u001b[1;32m   1494\u001b[0m         \u001b[0mName\u001b[0m\u001b[0;34m:\u001b[0m \u001b[0mB\u001b[0m\u001b[0;34m,\u001b[0m \u001b[0mdtype\u001b[0m\u001b[0;34m:\u001b[0m \u001b[0mfloat64\u001b[0m\u001b[0;34m\u001b[0m\u001b[0;34m\u001b[0m\u001b[0m\n\u001b[1;32m   1495\u001b[0m         \"\"\"\n\u001b[0;32m-> 1496\u001b[0;31m         return self._cython_agg_general(\n\u001b[0m\u001b[1;32m   1497\u001b[0m             \u001b[0;34m\"mean\"\u001b[0m\u001b[0;34m,\u001b[0m\u001b[0;34m\u001b[0m\u001b[0;34m\u001b[0m\u001b[0m\n\u001b[1;32m   1498\u001b[0m             \u001b[0malt\u001b[0m\u001b[0;34m=\u001b[0m\u001b[0;32mlambda\u001b[0m \u001b[0mx\u001b[0m\u001b[0;34m,\u001b[0m \u001b[0maxis\u001b[0m\u001b[0;34m:\u001b[0m \u001b[0mSeries\u001b[0m\u001b[0;34m(\u001b[0m\u001b[0mx\u001b[0m\u001b[0;34m)\u001b[0m\u001b[0;34m.\u001b[0m\u001b[0mmean\u001b[0m\u001b[0;34m(\u001b[0m\u001b[0mnumeric_only\u001b[0m\u001b[0;34m=\u001b[0m\u001b[0mnumeric_only\u001b[0m\u001b[0;34m)\u001b[0m\u001b[0;34m,\u001b[0m\u001b[0;34m\u001b[0m\u001b[0;34m\u001b[0m\u001b[0m\n",
      "\u001b[0;32m/usr/local/Caskroom/miniconda/base/envs/sql-practice/lib/python3.8/site-packages/pandas/core/groupby/groupby.py\u001b[0m in \u001b[0;36m_cython_agg_general\u001b[0;34m(self, how, alt, numeric_only, min_count)\u001b[0m\n\u001b[1;32m   1079\u001b[0m \u001b[0;34m\u001b[0m\u001b[0m\n\u001b[1;32m   1080\u001b[0m         \u001b[0;32mif\u001b[0m \u001b[0;32mnot\u001b[0m \u001b[0moutput\u001b[0m\u001b[0;34m:\u001b[0m\u001b[0;34m\u001b[0m\u001b[0;34m\u001b[0m\u001b[0m\n\u001b[0;32m-> 1081\u001b[0;31m             \u001b[0;32mraise\u001b[0m \u001b[0mDataError\u001b[0m\u001b[0;34m(\u001b[0m\u001b[0;34m\"No numeric types to aggregate\"\u001b[0m\u001b[0;34m)\u001b[0m\u001b[0;34m\u001b[0m\u001b[0;34m\u001b[0m\u001b[0m\n\u001b[0m\u001b[1;32m   1082\u001b[0m \u001b[0;34m\u001b[0m\u001b[0m\n\u001b[1;32m   1083\u001b[0m         \u001b[0;32mreturn\u001b[0m \u001b[0mself\u001b[0m\u001b[0;34m.\u001b[0m\u001b[0m_wrap_aggregated_output\u001b[0m\u001b[0;34m(\u001b[0m\u001b[0moutput\u001b[0m\u001b[0;34m,\u001b[0m \u001b[0mindex\u001b[0m\u001b[0;34m=\u001b[0m\u001b[0mself\u001b[0m\u001b[0;34m.\u001b[0m\u001b[0mgrouper\u001b[0m\u001b[0;34m.\u001b[0m\u001b[0mresult_index\u001b[0m\u001b[0;34m)\u001b[0m\u001b[0;34m\u001b[0m\u001b[0;34m\u001b[0m\u001b[0m\n",
      "\u001b[0;31mDataError\u001b[0m: No numeric types to aggregate"
     ]
    }
   ],
   "source": [
    "charging_2019.groupby(['h3_code', 'weekday'])['charging_time'].mean()"
   ]
  },
  {
   "cell_type": "code",
   "execution_count": null,
   "metadata": {},
   "outputs": [
    {
     "ename": "DataError",
     "evalue": "No numeric types to aggregate",
     "output_type": "error",
     "traceback": [
      "\u001b[0;31m---------------------------------------------------------------------------\u001b[0m",
      "\u001b[0;31mDataError\u001b[0m                                 Traceback (most recent call last)",
      "\u001b[0;32m<ipython-input-113-a61a9823da7d>\u001b[0m in \u001b[0;36m<module>\u001b[0;34m\u001b[0m\n\u001b[0;32m----> 1\u001b[0;31m \u001b[0mcharging_2019\u001b[0m\u001b[0;34m.\u001b[0m\u001b[0mgroupby\u001b[0m\u001b[0;34m(\u001b[0m\u001b[0;34m[\u001b[0m\u001b[0;34m'h3_code'\u001b[0m\u001b[0;34m,\u001b[0m \u001b[0;34m'weekday'\u001b[0m\u001b[0;34m]\u001b[0m\u001b[0;34m)\u001b[0m\u001b[0;34m[\u001b[0m\u001b[0;34m'idle_time'\u001b[0m\u001b[0;34m]\u001b[0m\u001b[0;34m.\u001b[0m\u001b[0mmean\u001b[0m\u001b[0;34m(\u001b[0m\u001b[0;34m)\u001b[0m\u001b[0;34m\u001b[0m\u001b[0;34m\u001b[0m\u001b[0m\n\u001b[0m",
      "\u001b[0;32m/usr/local/Caskroom/miniconda/base/envs/sql-practice/lib/python3.8/site-packages/pandas/core/groupby/groupby.py\u001b[0m in \u001b[0;36mmean\u001b[0;34m(self, numeric_only)\u001b[0m\n\u001b[1;32m   1494\u001b[0m         \u001b[0mName\u001b[0m\u001b[0;34m:\u001b[0m \u001b[0mB\u001b[0m\u001b[0;34m,\u001b[0m \u001b[0mdtype\u001b[0m\u001b[0;34m:\u001b[0m \u001b[0mfloat64\u001b[0m\u001b[0;34m\u001b[0m\u001b[0;34m\u001b[0m\u001b[0m\n\u001b[1;32m   1495\u001b[0m         \"\"\"\n\u001b[0;32m-> 1496\u001b[0;31m         return self._cython_agg_general(\n\u001b[0m\u001b[1;32m   1497\u001b[0m             \u001b[0;34m\"mean\"\u001b[0m\u001b[0;34m,\u001b[0m\u001b[0;34m\u001b[0m\u001b[0;34m\u001b[0m\u001b[0m\n\u001b[1;32m   1498\u001b[0m             \u001b[0malt\u001b[0m\u001b[0;34m=\u001b[0m\u001b[0;32mlambda\u001b[0m \u001b[0mx\u001b[0m\u001b[0;34m,\u001b[0m \u001b[0maxis\u001b[0m\u001b[0;34m:\u001b[0m \u001b[0mSeries\u001b[0m\u001b[0;34m(\u001b[0m\u001b[0mx\u001b[0m\u001b[0;34m)\u001b[0m\u001b[0;34m.\u001b[0m\u001b[0mmean\u001b[0m\u001b[0;34m(\u001b[0m\u001b[0mnumeric_only\u001b[0m\u001b[0;34m=\u001b[0m\u001b[0mnumeric_only\u001b[0m\u001b[0;34m)\u001b[0m\u001b[0;34m,\u001b[0m\u001b[0;34m\u001b[0m\u001b[0;34m\u001b[0m\u001b[0m\n",
      "\u001b[0;32m/usr/local/Caskroom/miniconda/base/envs/sql-practice/lib/python3.8/site-packages/pandas/core/groupby/groupby.py\u001b[0m in \u001b[0;36m_cython_agg_general\u001b[0;34m(self, how, alt, numeric_only, min_count)\u001b[0m\n\u001b[1;32m   1079\u001b[0m \u001b[0;34m\u001b[0m\u001b[0m\n\u001b[1;32m   1080\u001b[0m         \u001b[0;32mif\u001b[0m \u001b[0;32mnot\u001b[0m \u001b[0moutput\u001b[0m\u001b[0;34m:\u001b[0m\u001b[0;34m\u001b[0m\u001b[0;34m\u001b[0m\u001b[0m\n\u001b[0;32m-> 1081\u001b[0;31m             \u001b[0;32mraise\u001b[0m \u001b[0mDataError\u001b[0m\u001b[0;34m(\u001b[0m\u001b[0;34m\"No numeric types to aggregate\"\u001b[0m\u001b[0;34m)\u001b[0m\u001b[0;34m\u001b[0m\u001b[0;34m\u001b[0m\u001b[0m\n\u001b[0m\u001b[1;32m   1082\u001b[0m \u001b[0;34m\u001b[0m\u001b[0m\n\u001b[1;32m   1083\u001b[0m         \u001b[0;32mreturn\u001b[0m \u001b[0mself\u001b[0m\u001b[0;34m.\u001b[0m\u001b[0m_wrap_aggregated_output\u001b[0m\u001b[0;34m(\u001b[0m\u001b[0moutput\u001b[0m\u001b[0;34m,\u001b[0m \u001b[0mindex\u001b[0m\u001b[0;34m=\u001b[0m\u001b[0mself\u001b[0m\u001b[0;34m.\u001b[0m\u001b[0mgrouper\u001b[0m\u001b[0;34m.\u001b[0m\u001b[0mresult_index\u001b[0m\u001b[0;34m)\u001b[0m\u001b[0;34m\u001b[0m\u001b[0;34m\u001b[0m\u001b[0m\n",
      "\u001b[0;31mDataError\u001b[0m: No numeric types to aggregate"
     ]
    }
   ],
   "source": [
    "charging_2019.groupby(['h3_code', 'weekday'])['idle_time'].mean()"
   ]
  },
  {
   "cell_type": "code",
   "execution_count": null,
   "metadata": {},
   "outputs": [
    {
     "ename": "DataError",
     "evalue": "No numeric types to aggregate",
     "output_type": "error",
     "traceback": [
      "\u001b[0;31m---------------------------------------------------------------------------\u001b[0m",
      "\u001b[0;31mDataError\u001b[0m                                 Traceback (most recent call last)",
      "\u001b[0;32m<ipython-input-114-09899a6c8277>\u001b[0m in \u001b[0;36m<module>\u001b[0;34m\u001b[0m\n\u001b[0;32m----> 1\u001b[0;31m \u001b[0mcharging_2019\u001b[0m\u001b[0;34m.\u001b[0m\u001b[0mgroupby\u001b[0m\u001b[0;34m(\u001b[0m\u001b[0;34m[\u001b[0m\u001b[0;34m'h3_code'\u001b[0m\u001b[0;34m,\u001b[0m \u001b[0;34m'weekday'\u001b[0m\u001b[0;34m]\u001b[0m\u001b[0;34m)\u001b[0m\u001b[0;34m[\u001b[0m\u001b[0;34m'parking_time'\u001b[0m\u001b[0;34m]\u001b[0m\u001b[0;34m.\u001b[0m\u001b[0mmean\u001b[0m\u001b[0;34m(\u001b[0m\u001b[0;34m)\u001b[0m\u001b[0;34m\u001b[0m\u001b[0;34m\u001b[0m\u001b[0m\n\u001b[0m",
      "\u001b[0;32m/usr/local/Caskroom/miniconda/base/envs/sql-practice/lib/python3.8/site-packages/pandas/core/groupby/groupby.py\u001b[0m in \u001b[0;36mmean\u001b[0;34m(self, numeric_only)\u001b[0m\n\u001b[1;32m   1494\u001b[0m         \u001b[0mName\u001b[0m\u001b[0;34m:\u001b[0m \u001b[0mB\u001b[0m\u001b[0;34m,\u001b[0m \u001b[0mdtype\u001b[0m\u001b[0;34m:\u001b[0m \u001b[0mfloat64\u001b[0m\u001b[0;34m\u001b[0m\u001b[0;34m\u001b[0m\u001b[0m\n\u001b[1;32m   1495\u001b[0m         \"\"\"\n\u001b[0;32m-> 1496\u001b[0;31m         return self._cython_agg_general(\n\u001b[0m\u001b[1;32m   1497\u001b[0m             \u001b[0;34m\"mean\"\u001b[0m\u001b[0;34m,\u001b[0m\u001b[0;34m\u001b[0m\u001b[0;34m\u001b[0m\u001b[0m\n\u001b[1;32m   1498\u001b[0m             \u001b[0malt\u001b[0m\u001b[0;34m=\u001b[0m\u001b[0;32mlambda\u001b[0m \u001b[0mx\u001b[0m\u001b[0;34m,\u001b[0m \u001b[0maxis\u001b[0m\u001b[0;34m:\u001b[0m \u001b[0mSeries\u001b[0m\u001b[0;34m(\u001b[0m\u001b[0mx\u001b[0m\u001b[0;34m)\u001b[0m\u001b[0;34m.\u001b[0m\u001b[0mmean\u001b[0m\u001b[0;34m(\u001b[0m\u001b[0mnumeric_only\u001b[0m\u001b[0;34m=\u001b[0m\u001b[0mnumeric_only\u001b[0m\u001b[0;34m)\u001b[0m\u001b[0;34m,\u001b[0m\u001b[0;34m\u001b[0m\u001b[0;34m\u001b[0m\u001b[0m\n",
      "\u001b[0;32m/usr/local/Caskroom/miniconda/base/envs/sql-practice/lib/python3.8/site-packages/pandas/core/groupby/groupby.py\u001b[0m in \u001b[0;36m_cython_agg_general\u001b[0;34m(self, how, alt, numeric_only, min_count)\u001b[0m\n\u001b[1;32m   1079\u001b[0m \u001b[0;34m\u001b[0m\u001b[0m\n\u001b[1;32m   1080\u001b[0m         \u001b[0;32mif\u001b[0m \u001b[0;32mnot\u001b[0m \u001b[0moutput\u001b[0m\u001b[0;34m:\u001b[0m\u001b[0;34m\u001b[0m\u001b[0;34m\u001b[0m\u001b[0m\n\u001b[0;32m-> 1081\u001b[0;31m             \u001b[0;32mraise\u001b[0m \u001b[0mDataError\u001b[0m\u001b[0;34m(\u001b[0m\u001b[0;34m\"No numeric types to aggregate\"\u001b[0m\u001b[0;34m)\u001b[0m\u001b[0;34m\u001b[0m\u001b[0;34m\u001b[0m\u001b[0m\n\u001b[0m\u001b[1;32m   1082\u001b[0m \u001b[0;34m\u001b[0m\u001b[0m\n\u001b[1;32m   1083\u001b[0m         \u001b[0;32mreturn\u001b[0m \u001b[0mself\u001b[0m\u001b[0;34m.\u001b[0m\u001b[0m_wrap_aggregated_output\u001b[0m\u001b[0;34m(\u001b[0m\u001b[0moutput\u001b[0m\u001b[0;34m,\u001b[0m \u001b[0mindex\u001b[0m\u001b[0;34m=\u001b[0m\u001b[0mself\u001b[0m\u001b[0;34m.\u001b[0m\u001b[0mgrouper\u001b[0m\u001b[0;34m.\u001b[0m\u001b[0mresult_index\u001b[0m\u001b[0;34m)\u001b[0m\u001b[0;34m\u001b[0m\u001b[0;34m\u001b[0m\u001b[0m\n",
      "\u001b[0;31mDataError\u001b[0m: No numeric types to aggregate"
     ]
    }
   ],
   "source": [
    "charging_2019.groupby(['h3_code', 'weekday'])['parking_time'].mean()"
   ]
  },
  {
   "cell_type": "code",
   "execution_count": null,
   "metadata": {},
   "outputs": [],
   "source": []
  }
 ],
 "metadata": {
  "interpreter": {
   "hash": "e90ca5e0c4747f62b22fb91b9a1c014c884d23ee898efe3f2ec66be015ea02ff"
  },
  "kernelspec": {
   "display_name": "Python 3.8.5 64-bit ('sql-practice': conda)",
   "language": "python",
   "name": "python3"
  },
  "language_info": {
   "codemirror_mode": {
    "name": "ipython",
    "version": 3
   },
   "file_extension": ".py",
   "mimetype": "text/x-python",
   "name": "python",
   "nbconvert_exporter": "python",
   "pygments_lexer": "ipython3",
   "version": "3.8.5"
  },
  "orig_nbformat": 4
 },
 "nbformat": 4,
 "nbformat_minor": 2
}
