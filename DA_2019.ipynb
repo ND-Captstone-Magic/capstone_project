{
 "cells": [
  {
   "cell_type": "code",
   "execution_count": 15,
   "metadata": {},
   "outputs": [
    {
     "name": "stderr",
     "output_type": "stream",
     "text": [
      "/usr/local/Caskroom/miniconda/base/envs/sql-practice/lib/python3.8/site-packages/IPython/core/interactiveshell.py:3165: DtypeWarning: Columns (29,30,32) have mixed types.Specify dtype option on import or set low_memory=False.\n",
      "  has_raised = await self.run_ast_nodes(code_ast.body, cell_name,\n"
     ]
    }
   ],
   "source": [
    "import pandas as pd\n",
    "import numpy as np\n",
    "import psycopg2\n",
    "from sql import engine\n",
    "import h3\n",
    "\n",
    "pa_data = pd.read_csv('./data/Charging_PA.csv',sep=',')"
   ]
  },
  {
   "cell_type": "code",
   "execution_count": 16,
   "metadata": {},
   "outputs": [],
   "source": [
    "charging_df = pd.DataFrame(pa_data)"
   ]
  },
  {
   "cell_type": "code",
   "execution_count": 17,
   "metadata": {},
   "outputs": [],
   "source": [
    "charging_df.drop(['Start Time Zone','End Time Zone', 'Transaction Date (Pacific Time)',\n",
    "                'GHG Savings (kg)', 'Gasoline Savings (gallons)','Address 1','City', \n",
    "                'State/Province', 'Postal Code', 'Country', 'County', 'System S/N', \n",
    "                'Model Number','Org Name','EVSE ID','Energy (kWh)','Plug Type','Currency'], inplace= True, axis= 1)"
   ]
  },
  {
   "cell_type": "code",
   "execution_count": 18,
   "metadata": {},
   "outputs": [],
   "source": [
    "charging_df.columns = charging_df.columns.str.replace(' ', '_')\n",
    "charging_df.columns = charging_df.columns.str.lower()\n",
    "charging_df.columns = charging_df.columns.str.rstrip()"
   ]
  },
  {
   "cell_type": "code",
   "execution_count": 19,
   "metadata": {},
   "outputs": [],
   "source": [
    "charging_df = charging_df.rename(columns={'total_duration_(hh:mm:ss)': 'total_duration', \"charging_time_(hh:mm:ss)\": \"charging_time\"})"
   ]
  },
  {
   "cell_type": "code",
   "execution_count": 20,
   "metadata": {},
   "outputs": [],
   "source": [
    "# Make datetime columns only for 2019\n",
    "date_cols = [\"start_date\", \"end_date\"]\n",
    "duration_cols = [\"total_duration\", \"charging_time\"]\n",
    "\n",
    "for col in date_cols:\n",
    "     charging_df[date_cols] = charging_df[date_cols].apply(pd.to_datetime, errors = \"coerce\")\n",
    "\n",
    "\n",
    "for col in duration_cols:\n",
    "     charging_df[duration_cols] = charging_df[duration_cols].apply(pd.to_timedelta, errors=\"coerce\")"
   ]
  },
  {
   "cell_type": "code",
   "execution_count": 21,
   "metadata": {},
   "outputs": [],
   "source": [
    "charging_2020 = charging_df.query('start_date >= \"2020-01-01\" & start_date <= \"2020-12-31\"')\n",
    "charging_2019 = charging_df.query('start_date >= \"2019-01-01\" & start_date <= \"2019-12-31\"')\n",
    "charging_2018 = charging_df.query('start_date >= \"2018-01-01\" & start_date <= \"2018-12-31\"')\n",
    "charging_2017 = charging_df.query('start_date >= \"2017-01-01\" & start_date <= \"2017-12-31\"')\n",
    "charging_2016 = charging_df.query('start_date >= \"2016-01-01\" & start_date <= \"2016-12-31\"')\n",
    "charging_2015 = charging_df.query('start_date >= \"2015-01-01\" & start_date <= \"2015-12-31\"')\n",
    "charging_2014 = charging_df.query('start_date >= \"2014-01-01\" & start_date <= \"2014-12-31\"')\n",
    "charging_2013 = charging_df.query('start_date >= \"2013-01-01\" & start_date <= \"2013-12-31\"')\n",
    "charging_2012 = charging_df.query('start_date >= \"2012-01-01\" & start_date <= \"2012-12-31\"')\n",
    "charging_2011 = charging_df.query('start_date >= \"2011-01-01\" & start_date <= \"2011-12-31\"')"
   ]
  },
  {
   "cell_type": "code",
   "execution_count": 22,
   "metadata": {},
   "outputs": [
    {
     "data": {
      "text/html": [
       "<div>\n",
       "<style scoped>\n",
       "    .dataframe tbody tr th:only-of-type {\n",
       "        vertical-align: middle;\n",
       "    }\n",
       "\n",
       "    .dataframe tbody tr th {\n",
       "        vertical-align: top;\n",
       "    }\n",
       "\n",
       "    .dataframe thead th {\n",
       "        text-align: right;\n",
       "    }\n",
       "</style>\n",
       "<table border=\"1\" class=\"dataframe\">\n",
       "  <thead>\n",
       "    <tr style=\"text-align: right;\">\n",
       "      <th></th>\n",
       "      <th>station_name</th>\n",
       "      <th>mac_address</th>\n",
       "      <th>start_date</th>\n",
       "      <th>end_date</th>\n",
       "      <th>total_duration</th>\n",
       "      <th>charging_time</th>\n",
       "      <th>port_type</th>\n",
       "      <th>port_number</th>\n",
       "      <th>latitude</th>\n",
       "      <th>longitude</th>\n",
       "      <th>fee</th>\n",
       "      <th>ended_by</th>\n",
       "      <th>plug_in_event_id</th>\n",
       "      <th>driver_postal_code</th>\n",
       "      <th>user_id</th>\n",
       "    </tr>\n",
       "  </thead>\n",
       "  <tbody>\n",
       "    <tr>\n",
       "      <th>191586</th>\n",
       "      <td>PALO ALTO CA / WEBSTER #3</td>\n",
       "      <td>0024:B100:0002:4277</td>\n",
       "      <td>2019-01-01 08:46:00</td>\n",
       "      <td>2019-01-01 10:58:00</td>\n",
       "      <td>0 days 02:11:14</td>\n",
       "      <td>0 days 02:06:39</td>\n",
       "      <td>Level 2</td>\n",
       "      <td>1</td>\n",
       "      <td>37.448273</td>\n",
       "      <td>-122.158234</td>\n",
       "      <td>2.86</td>\n",
       "      <td>Plug Out at Vehicle</td>\n",
       "      <td>1546361212</td>\n",
       "      <td>94601.0</td>\n",
       "      <td>492265.0</td>\n",
       "    </tr>\n",
       "    <tr>\n",
       "      <th>191587</th>\n",
       "      <td>PALO ALTO CA / BRYANT #6</td>\n",
       "      <td>0024:B100:0002:6B43</td>\n",
       "      <td>2019-01-01 09:18:00</td>\n",
       "      <td>2019-01-01 10:25:00</td>\n",
       "      <td>0 days 01:07:23</td>\n",
       "      <td>0 days 01:06:51</td>\n",
       "      <td>Level 2</td>\n",
       "      <td>1</td>\n",
       "      <td>37.446667</td>\n",
       "      <td>-122.162170</td>\n",
       "      <td>1.52</td>\n",
       "      <td>Plug Out at Vehicle</td>\n",
       "      <td>2951</td>\n",
       "      <td>94025.0</td>\n",
       "      <td>3174411.0</td>\n",
       "    </tr>\n",
       "    <tr>\n",
       "      <th>191588</th>\n",
       "      <td>PALO ALTO CA / BRYANT #1</td>\n",
       "      <td>000D:6F00:009D:9A1B</td>\n",
       "      <td>2019-01-01 09:19:00</td>\n",
       "      <td>2019-01-01 18:36:00</td>\n",
       "      <td>0 days 09:16:18</td>\n",
       "      <td>0 days 03:34:31</td>\n",
       "      <td>Level 2</td>\n",
       "      <td>2</td>\n",
       "      <td>37.446613</td>\n",
       "      <td>-122.162308</td>\n",
       "      <td>2.65</td>\n",
       "      <td>Plug Out at Vehicle</td>\n",
       "      <td>3524</td>\n",
       "      <td>94404.0</td>\n",
       "      <td>2358991.0</td>\n",
       "    </tr>\n",
       "    <tr>\n",
       "      <th>191589</th>\n",
       "      <td>PALO ALTO CA / BRYANT #5</td>\n",
       "      <td>0024:B100:0002:6D51</td>\n",
       "      <td>2019-01-01 09:46:00</td>\n",
       "      <td>2019-01-01 11:35:00</td>\n",
       "      <td>0 days 01:49:47</td>\n",
       "      <td>0 days 01:49:26</td>\n",
       "      <td>Level 2</td>\n",
       "      <td>1</td>\n",
       "      <td>37.446690</td>\n",
       "      <td>-122.162231</td>\n",
       "      <td>1.40</td>\n",
       "      <td>Plug Out at Vehicle</td>\n",
       "      <td>2792</td>\n",
       "      <td>94025.0</td>\n",
       "      <td>555879.0</td>\n",
       "    </tr>\n",
       "    <tr>\n",
       "      <th>191590</th>\n",
       "      <td>PALO ALTO CA / HIGH #4</td>\n",
       "      <td>0024:B100:0002:1327</td>\n",
       "      <td>2019-01-01 09:54:00</td>\n",
       "      <td>2019-01-01 11:25:00</td>\n",
       "      <td>0 days 01:31:12</td>\n",
       "      <td>0 days 01:30:53</td>\n",
       "      <td>Level 2</td>\n",
       "      <td>2</td>\n",
       "      <td>37.443138</td>\n",
       "      <td>-122.163239</td>\n",
       "      <td>2.08</td>\n",
       "      <td>Plug Out at Vehicle</td>\n",
       "      <td>2416</td>\n",
       "      <td>94305.0</td>\n",
       "      <td>3171851.0</td>\n",
       "    </tr>\n",
       "  </tbody>\n",
       "</table>\n",
       "</div>"
      ],
      "text/plain": [
       "                     station_name          mac_address          start_date  \\\n",
       "191586  PALO ALTO CA / WEBSTER #3  0024:B100:0002:4277 2019-01-01 08:46:00   \n",
       "191587   PALO ALTO CA / BRYANT #6  0024:B100:0002:6B43 2019-01-01 09:18:00   \n",
       "191588   PALO ALTO CA / BRYANT #1  000D:6F00:009D:9A1B 2019-01-01 09:19:00   \n",
       "191589   PALO ALTO CA / BRYANT #5  0024:B100:0002:6D51 2019-01-01 09:46:00   \n",
       "191590     PALO ALTO CA / HIGH #4  0024:B100:0002:1327 2019-01-01 09:54:00   \n",
       "\n",
       "                  end_date  total_duration   charging_time port_type  \\\n",
       "191586 2019-01-01 10:58:00 0 days 02:11:14 0 days 02:06:39   Level 2   \n",
       "191587 2019-01-01 10:25:00 0 days 01:07:23 0 days 01:06:51   Level 2   \n",
       "191588 2019-01-01 18:36:00 0 days 09:16:18 0 days 03:34:31   Level 2   \n",
       "191589 2019-01-01 11:35:00 0 days 01:49:47 0 days 01:49:26   Level 2   \n",
       "191590 2019-01-01 11:25:00 0 days 01:31:12 0 days 01:30:53   Level 2   \n",
       "\n",
       "        port_number   latitude   longitude   fee             ended_by  \\\n",
       "191586            1  37.448273 -122.158234  2.86  Plug Out at Vehicle   \n",
       "191587            1  37.446667 -122.162170  1.52  Plug Out at Vehicle   \n",
       "191588            2  37.446613 -122.162308  2.65  Plug Out at Vehicle   \n",
       "191589            1  37.446690 -122.162231  1.40  Plug Out at Vehicle   \n",
       "191590            2  37.443138 -122.163239  2.08  Plug Out at Vehicle   \n",
       "\n",
       "        plug_in_event_id  driver_postal_code    user_id  \n",
       "191586        1546361212             94601.0   492265.0  \n",
       "191587              2951             94025.0  3174411.0  \n",
       "191588              3524             94404.0  2358991.0  \n",
       "191589              2792             94025.0   555879.0  \n",
       "191590              2416             94305.0  3171851.0  "
      ]
     },
     "execution_count": 22,
     "metadata": {},
     "output_type": "execute_result"
    }
   ],
   "source": [
    "charging_2019.head()"
   ]
  },
  {
   "cell_type": "code",
   "execution_count": null,
   "metadata": {},
   "outputs": [],
   "source": []
  },
  {
   "cell_type": "code",
   "execution_count": 23,
   "metadata": {},
   "outputs": [
    {
     "name": "stdout",
     "output_type": "stream",
     "text": [
      "<class 'pandas.core.frame.DataFrame'>\n",
      "Int64Index: 47655 entries, 191586 to 239240\n",
      "Data columns (total 15 columns):\n",
      " #   Column              Non-Null Count  Dtype          \n",
      "---  ------              --------------  -----          \n",
      " 0   station_name        47655 non-null  object         \n",
      " 1   mac_address         47655 non-null  object         \n",
      " 2   start_date          47655 non-null  datetime64[ns] \n",
      " 3   end_date            47655 non-null  datetime64[ns] \n",
      " 4   total_duration      47655 non-null  timedelta64[ns]\n",
      " 5   charging_time       47655 non-null  timedelta64[ns]\n",
      " 6   port_type           47655 non-null  object         \n",
      " 7   port_number         47655 non-null  int64          \n",
      " 8   latitude            47655 non-null  float64        \n",
      " 9   longitude           47655 non-null  float64        \n",
      " 10  fee                 47655 non-null  float64        \n",
      " 11  ended_by            47638 non-null  object         \n",
      " 12  plug_in_event_id    47655 non-null  int64          \n",
      " 13  driver_postal_code  46251 non-null  float64        \n",
      " 14  user_id             46269 non-null  object         \n",
      "dtypes: datetime64[ns](2), float64(4), int64(2), object(5), timedelta64[ns](2)\n",
      "memory usage: 5.8+ MB\n"
     ]
    }
   ],
   "source": [
    "charging_2019.info()"
   ]
  },
  {
   "cell_type": "code",
   "execution_count": 24,
   "metadata": {},
   "outputs": [
    {
     "name": "stderr",
     "output_type": "stream",
     "text": [
      "<ipython-input-24-7ec4f59bfc9b>:2: SettingWithCopyWarning: \n",
      "A value is trying to be set on a copy of a slice from a DataFrame.\n",
      "Try using .loc[row_indexer,col_indexer] = value instead\n",
      "\n",
      "See the caveats in the documentation: https://pandas.pydata.org/pandas-docs/stable/user_guide/indexing.html#returning-a-view-versus-a-copy\n",
      "  charging_2019['end_date'] = charging_2019['end_date'].fillna((charging_2019['start_date'] + charging_2019['total_duration']))\n"
     ]
    }
   ],
   "source": [
    "# replace NaT in end_date with start_date + total_duration\n",
    "charging_2019['end_date'] = charging_2019['end_date'].fillna((charging_2019['start_date'] + charging_2019['total_duration']))"
   ]
  },
  {
   "cell_type": "code",
   "execution_count": 25,
   "metadata": {},
   "outputs": [
    {
     "name": "stderr",
     "output_type": "stream",
     "text": [
      "<ipython-input-25-99e212b80dbc>:2: SettingWithCopyWarning: \n",
      "A value is trying to be set on a copy of a slice from a DataFrame.\n",
      "Try using .loc[row_indexer,col_indexer] = value instead\n",
      "\n",
      "See the caveats in the documentation: https://pandas.pydata.org/pandas-docs/stable/user_guide/indexing.html#returning-a-view-versus-a-copy\n",
      "  charging_2019['fee_bol'] = np.where(charging_2019['fee']== 0.0, False, True)\n",
      "/usr/local/Caskroom/miniconda/base/envs/sql-practice/lib/python3.8/site-packages/pandas/core/frame.py:4308: SettingWithCopyWarning: \n",
      "A value is trying to be set on a copy of a slice from a DataFrame\n",
      "\n",
      "See the caveats in the documentation: https://pandas.pydata.org/pandas-docs/stable/user_guide/indexing.html#returning-a-view-versus-a-copy\n",
      "  return super().drop(\n"
     ]
    }
   ],
   "source": [
    "# create column fee_bol (True if user paid, False if charging was free), drop original fee column\n",
    "charging_2019['fee_bol'] = np.where(charging_2019['fee']== 0.0, False, True)\n",
    "charging_2019.drop(['fee'],inplace= True, axis= 1)"
   ]
  },
  {
   "cell_type": "code",
   "execution_count": 26,
   "metadata": {},
   "outputs": [
    {
     "name": "stderr",
     "output_type": "stream",
     "text": [
      "<ipython-input-26-e1a37cd582e9>:2: SettingWithCopyWarning: \n",
      "A value is trying to be set on a copy of a slice from a DataFrame.\n",
      "Try using .loc[row_indexer,col_indexer] = value instead\n",
      "\n",
      "See the caveats in the documentation: https://pandas.pydata.org/pandas-docs/stable/user_guide/indexing.html#returning-a-view-versus-a-copy\n",
      "  charging_2019['parking_time'] = charging_2019['total_duration'] - charging_2019['charging_time']\n"
     ]
    }
   ],
   "source": [
    "# create colum parking_time to display parking time (plugged in but not charging)\n",
    "charging_2019['parking_time'] = charging_2019['total_duration'] - charging_2019['charging_time']"
   ]
  },
  {
   "cell_type": "markdown",
   "metadata": {},
   "source": [
    "Which year do we want to analyze?\n",
    "\n",
    "unique identifier for each station plug = combination of plug ID and station name"
   ]
  },
  {
   "cell_type": "code",
   "execution_count": 27,
   "metadata": {},
   "outputs": [
    {
     "name": "stderr",
     "output_type": "stream",
     "text": [
      "<ipython-input-27-202811ed20f3>:2: SettingWithCopyWarning: \n",
      "A value is trying to be set on a copy of a slice from a DataFrame.\n",
      "Try using .loc[row_indexer,col_indexer] = value instead\n",
      "\n",
      "See the caveats in the documentation: https://pandas.pydata.org/pandas-docs/stable/user_guide/indexing.html#returning-a-view-versus-a-copy\n",
      "  charging_2019['weekday'] = charging_2019['start_date'].dt.dayofweek\n"
     ]
    }
   ],
   "source": [
    "# create column that displays weekday based on start_date\n",
    "charging_2019['weekday'] = charging_2019['start_date'].dt.dayofweek"
   ]
  },
  {
   "cell_type": "code",
   "execution_count": 28,
   "metadata": {},
   "outputs": [
    {
     "data": {
      "text/html": [
       "<div>\n",
       "<style scoped>\n",
       "    .dataframe tbody tr th:only-of-type {\n",
       "        vertical-align: middle;\n",
       "    }\n",
       "\n",
       "    .dataframe tbody tr th {\n",
       "        vertical-align: top;\n",
       "    }\n",
       "\n",
       "    .dataframe thead th {\n",
       "        text-align: right;\n",
       "    }\n",
       "</style>\n",
       "<table border=\"1\" class=\"dataframe\">\n",
       "  <thead>\n",
       "    <tr style=\"text-align: right;\">\n",
       "      <th></th>\n",
       "      <th>station_name</th>\n",
       "      <th>mac_address</th>\n",
       "      <th>start_date</th>\n",
       "      <th>end_date</th>\n",
       "      <th>total_duration</th>\n",
       "      <th>charging_time</th>\n",
       "      <th>port_type</th>\n",
       "      <th>port_number</th>\n",
       "      <th>latitude</th>\n",
       "      <th>longitude</th>\n",
       "      <th>ended_by</th>\n",
       "      <th>plug_in_event_id</th>\n",
       "      <th>driver_postal_code</th>\n",
       "      <th>user_id</th>\n",
       "      <th>fee_bol</th>\n",
       "      <th>parking_time</th>\n",
       "      <th>weekday</th>\n",
       "    </tr>\n",
       "  </thead>\n",
       "  <tbody>\n",
       "    <tr>\n",
       "      <th>191586</th>\n",
       "      <td>PALO ALTO CA / WEBSTER #3</td>\n",
       "      <td>0024:B100:0002:4277</td>\n",
       "      <td>2019-01-01 08:46:00</td>\n",
       "      <td>2019-01-01 10:58:00</td>\n",
       "      <td>0 days 02:11:14</td>\n",
       "      <td>0 days 02:06:39</td>\n",
       "      <td>Level 2</td>\n",
       "      <td>1</td>\n",
       "      <td>37.448273</td>\n",
       "      <td>-122.158234</td>\n",
       "      <td>Plug Out at Vehicle</td>\n",
       "      <td>1546361212</td>\n",
       "      <td>94601.0</td>\n",
       "      <td>492265.0</td>\n",
       "      <td>True</td>\n",
       "      <td>0 days 00:04:35</td>\n",
       "      <td>1</td>\n",
       "    </tr>\n",
       "    <tr>\n",
       "      <th>191587</th>\n",
       "      <td>PALO ALTO CA / BRYANT #6</td>\n",
       "      <td>0024:B100:0002:6B43</td>\n",
       "      <td>2019-01-01 09:18:00</td>\n",
       "      <td>2019-01-01 10:25:00</td>\n",
       "      <td>0 days 01:07:23</td>\n",
       "      <td>0 days 01:06:51</td>\n",
       "      <td>Level 2</td>\n",
       "      <td>1</td>\n",
       "      <td>37.446667</td>\n",
       "      <td>-122.162170</td>\n",
       "      <td>Plug Out at Vehicle</td>\n",
       "      <td>2951</td>\n",
       "      <td>94025.0</td>\n",
       "      <td>3174411.0</td>\n",
       "      <td>True</td>\n",
       "      <td>0 days 00:00:32</td>\n",
       "      <td>1</td>\n",
       "    </tr>\n",
       "    <tr>\n",
       "      <th>191588</th>\n",
       "      <td>PALO ALTO CA / BRYANT #1</td>\n",
       "      <td>000D:6F00:009D:9A1B</td>\n",
       "      <td>2019-01-01 09:19:00</td>\n",
       "      <td>2019-01-01 18:36:00</td>\n",
       "      <td>0 days 09:16:18</td>\n",
       "      <td>0 days 03:34:31</td>\n",
       "      <td>Level 2</td>\n",
       "      <td>2</td>\n",
       "      <td>37.446613</td>\n",
       "      <td>-122.162308</td>\n",
       "      <td>Plug Out at Vehicle</td>\n",
       "      <td>3524</td>\n",
       "      <td>94404.0</td>\n",
       "      <td>2358991.0</td>\n",
       "      <td>True</td>\n",
       "      <td>0 days 05:41:47</td>\n",
       "      <td>1</td>\n",
       "    </tr>\n",
       "    <tr>\n",
       "      <th>191589</th>\n",
       "      <td>PALO ALTO CA / BRYANT #5</td>\n",
       "      <td>0024:B100:0002:6D51</td>\n",
       "      <td>2019-01-01 09:46:00</td>\n",
       "      <td>2019-01-01 11:35:00</td>\n",
       "      <td>0 days 01:49:47</td>\n",
       "      <td>0 days 01:49:26</td>\n",
       "      <td>Level 2</td>\n",
       "      <td>1</td>\n",
       "      <td>37.446690</td>\n",
       "      <td>-122.162231</td>\n",
       "      <td>Plug Out at Vehicle</td>\n",
       "      <td>2792</td>\n",
       "      <td>94025.0</td>\n",
       "      <td>555879.0</td>\n",
       "      <td>True</td>\n",
       "      <td>0 days 00:00:21</td>\n",
       "      <td>1</td>\n",
       "    </tr>\n",
       "    <tr>\n",
       "      <th>191590</th>\n",
       "      <td>PALO ALTO CA / HIGH #4</td>\n",
       "      <td>0024:B100:0002:1327</td>\n",
       "      <td>2019-01-01 09:54:00</td>\n",
       "      <td>2019-01-01 11:25:00</td>\n",
       "      <td>0 days 01:31:12</td>\n",
       "      <td>0 days 01:30:53</td>\n",
       "      <td>Level 2</td>\n",
       "      <td>2</td>\n",
       "      <td>37.443138</td>\n",
       "      <td>-122.163239</td>\n",
       "      <td>Plug Out at Vehicle</td>\n",
       "      <td>2416</td>\n",
       "      <td>94305.0</td>\n",
       "      <td>3171851.0</td>\n",
       "      <td>True</td>\n",
       "      <td>0 days 00:00:19</td>\n",
       "      <td>1</td>\n",
       "    </tr>\n",
       "    <tr>\n",
       "      <th>...</th>\n",
       "      <td>...</td>\n",
       "      <td>...</td>\n",
       "      <td>...</td>\n",
       "      <td>...</td>\n",
       "      <td>...</td>\n",
       "      <td>...</td>\n",
       "      <td>...</td>\n",
       "      <td>...</td>\n",
       "      <td>...</td>\n",
       "      <td>...</td>\n",
       "      <td>...</td>\n",
       "      <td>...</td>\n",
       "      <td>...</td>\n",
       "      <td>...</td>\n",
       "      <td>...</td>\n",
       "      <td>...</td>\n",
       "      <td>...</td>\n",
       "    </tr>\n",
       "    <tr>\n",
       "      <th>239236</th>\n",
       "      <td>PALO ALTO CA / WEBSTER #1</td>\n",
       "      <td>0024:B100:0002:4233</td>\n",
       "      <td>2019-12-30 18:57:00</td>\n",
       "      <td>2019-12-30 20:38:00</td>\n",
       "      <td>0 days 01:40:55</td>\n",
       "      <td>0 days 01:07:15</td>\n",
       "      <td>Level 2</td>\n",
       "      <td>1</td>\n",
       "      <td>37.448284</td>\n",
       "      <td>-122.158272</td>\n",
       "      <td>Plug Out at Vehicle</td>\n",
       "      <td>6046</td>\n",
       "      <td>95014.0</td>\n",
       "      <td>2248301</td>\n",
       "      <td>True</td>\n",
       "      <td>0 days 00:33:40</td>\n",
       "      <td>0</td>\n",
       "    </tr>\n",
       "    <tr>\n",
       "      <th>239237</th>\n",
       "      <td>PALO ALTO CA / HIGH #2</td>\n",
       "      <td>0024:B100:0002:5959</td>\n",
       "      <td>2019-12-30 18:58:00</td>\n",
       "      <td>2019-12-30 21:06:00</td>\n",
       "      <td>0 days 02:07:33</td>\n",
       "      <td>0 days 01:58:20</td>\n",
       "      <td>Level 2</td>\n",
       "      <td>2</td>\n",
       "      <td>37.443344</td>\n",
       "      <td>-122.163231</td>\n",
       "      <td>CPS Server</td>\n",
       "      <td>6126</td>\n",
       "      <td>94582.0</td>\n",
       "      <td>1691301</td>\n",
       "      <td>True</td>\n",
       "      <td>0 days 00:09:13</td>\n",
       "      <td>0</td>\n",
       "    </tr>\n",
       "    <tr>\n",
       "      <th>239238</th>\n",
       "      <td>PALO ALTO CA / BRYANT #3</td>\n",
       "      <td>000D:6F00:009E:D39E</td>\n",
       "      <td>2019-12-30 19:32:00</td>\n",
       "      <td>2019-12-31 07:37:00</td>\n",
       "      <td>0 days 12:05:36</td>\n",
       "      <td>0 days 09:40:19</td>\n",
       "      <td>Level 2</td>\n",
       "      <td>2</td>\n",
       "      <td>37.446583</td>\n",
       "      <td>-122.162109</td>\n",
       "      <td>Plug Out at Vehicle</td>\n",
       "      <td>13879</td>\n",
       "      <td>94301.0</td>\n",
       "      <td>713785</td>\n",
       "      <td>True</td>\n",
       "      <td>0 days 02:25:17</td>\n",
       "      <td>0</td>\n",
       "    </tr>\n",
       "    <tr>\n",
       "      <th>239239</th>\n",
       "      <td>PALO ALTO CA / CAMBRIDGE #1</td>\n",
       "      <td>0024:B100:0002:1329</td>\n",
       "      <td>2019-12-30 19:48:00</td>\n",
       "      <td>2019-12-31 08:00:00</td>\n",
       "      <td>0 days 12:11:45</td>\n",
       "      <td>0 days 11:05:21</td>\n",
       "      <td>Level 2</td>\n",
       "      <td>2</td>\n",
       "      <td>37.426155</td>\n",
       "      <td>-122.146065</td>\n",
       "      <td>Plug Out at Vehicle</td>\n",
       "      <td>10318</td>\n",
       "      <td>NaN</td>\n",
       "      <td>NaN</td>\n",
       "      <td>True</td>\n",
       "      <td>0 days 01:06:24</td>\n",
       "      <td>0</td>\n",
       "    </tr>\n",
       "    <tr>\n",
       "      <th>239240</th>\n",
       "      <td>PALO ALTO CA / HIGH #3</td>\n",
       "      <td>0024:B100:0002:5939</td>\n",
       "      <td>2019-12-30 20:30:00</td>\n",
       "      <td>2019-12-30 20:34:00</td>\n",
       "      <td>0 days 00:03:44</td>\n",
       "      <td>0 days 00:03:26</td>\n",
       "      <td>Level 2</td>\n",
       "      <td>1</td>\n",
       "      <td>37.443443</td>\n",
       "      <td>-122.163139</td>\n",
       "      <td>Plug Out at Vehicle</td>\n",
       "      <td>6920</td>\n",
       "      <td>94027.0</td>\n",
       "      <td>1375221</td>\n",
       "      <td>True</td>\n",
       "      <td>0 days 00:00:18</td>\n",
       "      <td>0</td>\n",
       "    </tr>\n",
       "  </tbody>\n",
       "</table>\n",
       "<p>47655 rows × 17 columns</p>\n",
       "</div>"
      ],
      "text/plain": [
       "                       station_name          mac_address          start_date  \\\n",
       "191586    PALO ALTO CA / WEBSTER #3  0024:B100:0002:4277 2019-01-01 08:46:00   \n",
       "191587     PALO ALTO CA / BRYANT #6  0024:B100:0002:6B43 2019-01-01 09:18:00   \n",
       "191588     PALO ALTO CA / BRYANT #1  000D:6F00:009D:9A1B 2019-01-01 09:19:00   \n",
       "191589     PALO ALTO CA / BRYANT #5  0024:B100:0002:6D51 2019-01-01 09:46:00   \n",
       "191590       PALO ALTO CA / HIGH #4  0024:B100:0002:1327 2019-01-01 09:54:00   \n",
       "...                             ...                  ...                 ...   \n",
       "239236    PALO ALTO CA / WEBSTER #1  0024:B100:0002:4233 2019-12-30 18:57:00   \n",
       "239237       PALO ALTO CA / HIGH #2  0024:B100:0002:5959 2019-12-30 18:58:00   \n",
       "239238     PALO ALTO CA / BRYANT #3  000D:6F00:009E:D39E 2019-12-30 19:32:00   \n",
       "239239  PALO ALTO CA / CAMBRIDGE #1  0024:B100:0002:1329 2019-12-30 19:48:00   \n",
       "239240       PALO ALTO CA / HIGH #3  0024:B100:0002:5939 2019-12-30 20:30:00   \n",
       "\n",
       "                  end_date  total_duration   charging_time port_type  \\\n",
       "191586 2019-01-01 10:58:00 0 days 02:11:14 0 days 02:06:39   Level 2   \n",
       "191587 2019-01-01 10:25:00 0 days 01:07:23 0 days 01:06:51   Level 2   \n",
       "191588 2019-01-01 18:36:00 0 days 09:16:18 0 days 03:34:31   Level 2   \n",
       "191589 2019-01-01 11:35:00 0 days 01:49:47 0 days 01:49:26   Level 2   \n",
       "191590 2019-01-01 11:25:00 0 days 01:31:12 0 days 01:30:53   Level 2   \n",
       "...                    ...             ...             ...       ...   \n",
       "239236 2019-12-30 20:38:00 0 days 01:40:55 0 days 01:07:15   Level 2   \n",
       "239237 2019-12-30 21:06:00 0 days 02:07:33 0 days 01:58:20   Level 2   \n",
       "239238 2019-12-31 07:37:00 0 days 12:05:36 0 days 09:40:19   Level 2   \n",
       "239239 2019-12-31 08:00:00 0 days 12:11:45 0 days 11:05:21   Level 2   \n",
       "239240 2019-12-30 20:34:00 0 days 00:03:44 0 days 00:03:26   Level 2   \n",
       "\n",
       "        port_number   latitude   longitude             ended_by  \\\n",
       "191586            1  37.448273 -122.158234  Plug Out at Vehicle   \n",
       "191587            1  37.446667 -122.162170  Plug Out at Vehicle   \n",
       "191588            2  37.446613 -122.162308  Plug Out at Vehicle   \n",
       "191589            1  37.446690 -122.162231  Plug Out at Vehicle   \n",
       "191590            2  37.443138 -122.163239  Plug Out at Vehicle   \n",
       "...             ...        ...         ...                  ...   \n",
       "239236            1  37.448284 -122.158272  Plug Out at Vehicle   \n",
       "239237            2  37.443344 -122.163231           CPS Server   \n",
       "239238            2  37.446583 -122.162109  Plug Out at Vehicle   \n",
       "239239            2  37.426155 -122.146065  Plug Out at Vehicle   \n",
       "239240            1  37.443443 -122.163139  Plug Out at Vehicle   \n",
       "\n",
       "        plug_in_event_id  driver_postal_code    user_id  fee_bol  \\\n",
       "191586        1546361212             94601.0   492265.0     True   \n",
       "191587              2951             94025.0  3174411.0     True   \n",
       "191588              3524             94404.0  2358991.0     True   \n",
       "191589              2792             94025.0   555879.0     True   \n",
       "191590              2416             94305.0  3171851.0     True   \n",
       "...                  ...                 ...        ...      ...   \n",
       "239236              6046             95014.0    2248301     True   \n",
       "239237              6126             94582.0    1691301     True   \n",
       "239238             13879             94301.0     713785     True   \n",
       "239239             10318                 NaN        NaN     True   \n",
       "239240              6920             94027.0    1375221     True   \n",
       "\n",
       "          parking_time  weekday  \n",
       "191586 0 days 00:04:35        1  \n",
       "191587 0 days 00:00:32        1  \n",
       "191588 0 days 05:41:47        1  \n",
       "191589 0 days 00:00:21        1  \n",
       "191590 0 days 00:00:19        1  \n",
       "...                ...      ...  \n",
       "239236 0 days 00:33:40        0  \n",
       "239237 0 days 00:09:13        0  \n",
       "239238 0 days 02:25:17        0  \n",
       "239239 0 days 01:06:24        0  \n",
       "239240 0 days 00:00:18        0  \n",
       "\n",
       "[47655 rows x 17 columns]"
      ]
     },
     "execution_count": 28,
     "metadata": {},
     "output_type": "execute_result"
    }
   ],
   "source": [
    "charging_2019['weekday'].unique()\n",
    "mymapp = {'0': 'Monday', '1': 'Tuesday', '2': 'Wednesday', '3': 'Thursday', '4': 'Friday', '5': 'Saturday', '6': 'Sunday'}\n",
    "charging_2019.applymap(lambda s: mymapp.get(s) if s in mymapp else s)"
   ]
  },
  {
   "cell_type": "code",
   "execution_count": 29,
   "metadata": {},
   "outputs": [],
   "source": [
    "def make_weekday_names(row):\n",
    "    if row['weekday'] == 0:\n",
    "        return 'Monday'\n",
    "    if row['weekday'] == 1:\n",
    "        return 'Tuesday'\n",
    "    if row['weekday'] == 2:\n",
    "        return 'Wednesday'\n",
    "    if row['weekday'] == 3:\n",
    "        return 'Thursday'\n",
    "    if row['weekday'] == 4:\n",
    "        return 'Friday'\n",
    "    if row['weekday'] == 5:\n",
    "        return 'Saturday'\n",
    "    if row['weekday'] == 6:\n",
    "        return 'Sunday'"
   ]
  },
  {
   "cell_type": "code",
   "execution_count": 30,
   "metadata": {},
   "outputs": [
    {
     "name": "stderr",
     "output_type": "stream",
     "text": [
      "<ipython-input-30-2f77aeb8fa5c>:1: SettingWithCopyWarning: \n",
      "A value is trying to be set on a copy of a slice from a DataFrame.\n",
      "Try using .loc[row_indexer,col_indexer] = value instead\n",
      "\n",
      "See the caveats in the documentation: https://pandas.pydata.org/pandas-docs/stable/user_guide/indexing.html#returning-a-view-versus-a-copy\n",
      "  charging_2019['weekday'] = charging_2019.apply(lambda row : make_weekday_names(row), axis=1)\n"
     ]
    }
   ],
   "source": [
    "charging_2019['weekday'] = charging_2019.apply(lambda row : make_weekday_names(row), axis=1)"
   ]
  },
  {
   "cell_type": "code",
   "execution_count": 31,
   "metadata": {},
   "outputs": [
    {
     "name": "stderr",
     "output_type": "stream",
     "text": [
      "<ipython-input-31-ed39c61e56b2>:4: SettingWithCopyWarning: \n",
      "A value is trying to be set on a copy of a slice from a DataFrame.\n",
      "Try using .loc[row_indexer,col_indexer] = value instead\n",
      "\n",
      "See the caveats in the documentation: https://pandas.pydata.org/pandas-docs/stable/user_guide/indexing.html#returning-a-view-versus-a-copy\n",
      "  charging_2019['mac_address'] = charging_2019.apply(lambda row : make_mac_same(row), axis=1)\n"
     ]
    }
   ],
   "source": [
    "def make_mac_same(row):\n",
    "    return row['mac_address'].replace(':','')\n",
    "\n",
    "charging_2019['mac_address'] = charging_2019.apply(lambda row : make_mac_same(row), axis=1)"
   ]
  },
  {
   "cell_type": "code",
   "execution_count": 32,
   "metadata": {},
   "outputs": [
    {
     "name": "stderr",
     "output_type": "stream",
     "text": [
      "<ipython-input-32-9e905a49289f>:4: SettingWithCopyWarning: \n",
      "A value is trying to be set on a copy of a slice from a DataFrame.\n",
      "Try using .loc[row_indexer,col_indexer] = value instead\n",
      "\n",
      "See the caveats in the documentation: https://pandas.pydata.org/pandas-docs/stable/user_guide/indexing.html#returning-a-view-versus-a-copy\n",
      "  charging_2019['unique_plug_id'] = charging_2019.apply(lambda row : make_unique_id(row), axis=1)\n"
     ]
    }
   ],
   "source": [
    "def make_unique_id(row):\n",
    "    return str(row['mac_address']) + '_' +  str(row['port_number'])\n",
    "\n",
    "charging_2019['unique_plug_id'] = charging_2019.apply(lambda row : make_unique_id(row), axis=1)"
   ]
  },
  {
   "cell_type": "code",
   "execution_count": 33,
   "metadata": {},
   "outputs": [
    {
     "name": "stderr",
     "output_type": "stream",
     "text": [
      "<ipython-input-33-b41f60fb34ac>:1: SettingWithCopyWarning: \n",
      "A value is trying to be set on a copy of a slice from a DataFrame.\n",
      "Try using .loc[row_indexer,col_indexer] = value instead\n",
      "\n",
      "See the caveats in the documentation: https://pandas.pydata.org/pandas-docs/stable/user_guide/indexing.html#returning-a-view-versus-a-copy\n",
      "  charging_2019['index1'] = charging_2019.index\n"
     ]
    }
   ],
   "source": [
    "charging_2019['index1'] = charging_2019.index"
   ]
  },
  {
   "cell_type": "code",
   "execution_count": 34,
   "metadata": {},
   "outputs": [],
   "source": [
    "# change order of columns, put unique_plug_id in front, drop MAC ID\n",
    "charging_2019 = charging_2019[['station_name',\n",
    "                            'unique_plug_id', \n",
    "                            'start_date',\n",
    "                            'end_date',\n",
    "                            'total_duration',\n",
    "                            'charging_time',\n",
    "                            'parking_time',\n",
    "                            'port_type',\n",
    "                            'port_number',\n",
    "                            'latitude',\n",
    "                            'longitude',\n",
    "                            'ended_by', \n",
    "                            'plug_in_event_id',\n",
    "                            'driver_postal_code', \n",
    "                            'user_id',\n",
    "                            'fee_bol', \n",
    "                            'weekday']]"
   ]
  },
  {
   "cell_type": "code",
   "execution_count": 35,
   "metadata": {},
   "outputs": [],
   "source": [
    "charging_2019 = charging_2019.sort_values(['unique_plug_id', 'start_date'])\n",
    "charging_2019 = charging_2019.reset_index()\n",
    "charging_2019.drop(['index'], inplace= True, axis= 1)\n",
    "charging_2019['idle_time'] = None"
   ]
  },
  {
   "cell_type": "code",
   "execution_count": 36,
   "metadata": {},
   "outputs": [
    {
     "name": "stderr",
     "output_type": "stream",
     "text": [
      "<ipython-input-36-f94ba14cd3ef>:10: SettingWithCopyWarning: \n",
      "A value is trying to be set on a copy of a slice from a DataFrame\n",
      "\n",
      "See the caveats in the documentation: https://pandas.pydata.org/pandas-docs/stable/user_guide/indexing.html#returning-a-view-versus-a-copy\n",
      "  charging_2019['idle_time'][index] = charging_2019['start_date'][index+1] - charging_2019['end_date'][index]\n",
      "<ipython-input-36-f94ba14cd3ef>:8: SettingWithCopyWarning: \n",
      "A value is trying to be set on a copy of a slice from a DataFrame\n",
      "\n",
      "See the caveats in the documentation: https://pandas.pydata.org/pandas-docs/stable/user_guide/indexing.html#returning-a-view-versus-a-copy\n",
      "  charging_2019['idle_time'][index] = None\n",
      "<ipython-input-36-f94ba14cd3ef>:5: SettingWithCopyWarning: \n",
      "A value is trying to be set on a copy of a slice from a DataFrame\n",
      "\n",
      "See the caveats in the documentation: https://pandas.pydata.org/pandas-docs/stable/user_guide/indexing.html#returning-a-view-versus-a-copy\n",
      "  charging_2019['idle_time'][index] = None\n"
     ]
    }
   ],
   "source": [
    "max_index = int(len(charging_2019) -1)\n",
    "\n",
    "for index, row in charging_2019.iterrows():\n",
    "    if index >= max_index:\n",
    "        charging_2019['idle_time'][index] = None\n",
    "    elif index <= max_index:\n",
    "        if charging_2019['unique_plug_id'][index+1] != charging_2019['unique_plug_id'][index]:\n",
    "            charging_2019['idle_time'][index] = None\n",
    "        elif charging_2019['unique_plug_id'][index+1] == charging_2019['unique_plug_id'][index]:\n",
    "            charging_2019['idle_time'][index] = charging_2019['start_date'][index+1] - charging_2019['end_date'][index]"
   ]
  },
  {
   "cell_type": "code",
   "execution_count": 37,
   "metadata": {},
   "outputs": [],
   "source": [
    "duration_cols = [\"idle_time\"]\n",
    "\n",
    "for col in duration_cols:\n",
    "     charging_2019[duration_cols] = charging_2019[duration_cols].apply(pd.to_timedelta, errors=\"coerce\")"
   ]
  },
  {
   "cell_type": "code",
   "execution_count": 38,
   "metadata": {},
   "outputs": [],
   "source": [
    "# bring idle_time to front\n",
    "charging_2019 = charging_2019[['station_name',\n",
    "                            'unique_plug_id', \n",
    "                            'start_date',\n",
    "                            'end_date',\n",
    "                            'total_duration',\n",
    "                            'charging_time',\n",
    "                            'parking_time',\n",
    "                            'idle_time',\n",
    "                            'port_type',\n",
    "                            'port_number',\n",
    "                            'latitude',\n",
    "                            'longitude',\n",
    "                            'ended_by', \n",
    "                            'plug_in_event_id',\n",
    "                            'driver_postal_code', \n",
    "                            'user_id',\n",
    "                            'fee_bol', \n",
    "                            'weekday']]"
   ]
  },
  {
   "cell_type": "markdown",
   "metadata": {},
   "source": [
    "### Potential Research Questions\n",
    "\n",
    "Goal: Incentivize consumers in Germany (MUC and surroundings) to buy an EV by providing an optimal charging infrastructure (this means: there is (almost) always a charging station available at the right place (residential, leisure, work)\n",
    "\n",
    "Identifying charging behavior patterns in relation to location specifics - Is Palo Alto a best practice example? If yes, what can other cities (e.g. MUC) learn from them in terms of charging infrastructure?\n",
    "\n",
    "* Impact of COVID -- if time permits\n",
    "* crisis 2013/2014 -- if time permits\n",
    "* identify usage patterns according to location \n",
    "    * What are peak hours? Difference between weekdays / weekends?, per month? per year? \n",
    "    * peak times: How many PA users and how many from outside?\n",
    "    * avg. charging time, avg. parking time, idle times\n",
    "    * How many users are not from PA? What does MUC have to take into account in terms of \"outside\"/\"shuttle\" users?\n",
    "    * Analyze recurring charging customers with zip codes not from PA? Which stations do they use? \n",
    "* What infrastructure strategy is PA using (e.g. how many new stations per year, where? (location characteristics); Is Palo Alto best practice? (define KPIs, what makes a best practice? Ideas: high idle times (even during peak hours or at least other free station nearby), high ratio of charging stations per EV, high coverage?)\n",
    "* How does MUC compare?\n",
    "* Which stations were added newly each year? compare with MUC\n",
    "\n",
    "Potential categories: living, working, shopping, recreation"
   ]
  },
  {
   "cell_type": "code",
   "execution_count": 39,
   "metadata": {},
   "outputs": [
    {
     "data": {
      "text/plain": [
       "5"
      ]
     },
     "execution_count": 39,
     "metadata": {},
     "output_type": "execute_result"
    }
   ],
   "source": [
    "def make_h3_code(row):\n",
    "    return h3.geo_to_h3(\n",
    "            lat=row['latitude'],\n",
    "            lng=row['longitude'],\n",
    "            resolution=8    # Average Hexagon Area (km2): 0.7373276\n",
    "                            # Average Hexagon Edge Length (km)\n",
    "                            # https://h3geo.org/docs/core-library/restable/\n",
    ")\n",
    "charging_2019['h3_code'] = charging_2019.apply(lambda row : make_h3_code(row), axis=1)\n",
    "charging_2019.h3_code.nunique()"
   ]
  }
 ],
 "metadata": {
  "interpreter": {
   "hash": "e90ca5e0c4747f62b22fb91b9a1c014c884d23ee898efe3f2ec66be015ea02ff"
  },
  "kernelspec": {
   "display_name": "Python 3.8.5 64-bit ('sql-practice': conda)",
   "language": "python",
   "name": "python3"
  },
  "language_info": {
   "codemirror_mode": {
    "name": "ipython",
    "version": 3
   },
   "file_extension": ".py",
   "mimetype": "text/x-python",
   "name": "python",
   "nbconvert_exporter": "python",
   "pygments_lexer": "ipython3",
   "version": "3.8.5"
  },
  "orig_nbformat": 4
 },
 "nbformat": 4,
 "nbformat_minor": 2
}
