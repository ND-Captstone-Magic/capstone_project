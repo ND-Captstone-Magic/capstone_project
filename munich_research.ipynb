{
 "cells": [
  {
   "cell_type": "code",
   "execution_count": 3,
   "metadata": {},
   "outputs": [],
   "source": [
    "import pandas as pd\n",
    "import h3\n",
    "import keplergl as KeplerGl"
   ]
  },
  {
   "cell_type": "code",
   "execution_count": 6,
   "metadata": {},
   "outputs": [],
   "source": [
    "brd_charging_df = pd.read_csv('/Users/dk/Visualcode/Capstone/capstone_project/data/brd.csv')"
   ]
  },
  {
   "cell_type": "code",
   "execution_count": 48,
   "metadata": {},
   "outputs": [],
   "source": [
    "muc_charging_df = brd_charging_df.query('Ort == \"München\"')"
   ]
  },
  {
   "cell_type": "code",
   "execution_count": 50,
   "metadata": {},
   "outputs": [],
   "source": [
    "muc_charging_df.columns = muc_charging_df.columns.str.replace(' ', '_')\n",
    "muc_charging_df.columns = muc_charging_df.columns.str.lower()\n",
    "muc_charging_df.columns = muc_charging_df.columns.str.rstrip()\n"
   ]
  },
  {
   "cell_type": "code",
   "execution_count": 52,
   "metadata": {},
   "outputs": [
    {
     "name": "stderr",
     "output_type": "stream",
     "text": [
      "<ipython-input-52-663903972dbe>:1: SettingWithCopyWarning: \n",
      "A value is trying to be set on a copy of a slice from a DataFrame.\n",
      "Try using .loc[row_indexer,col_indexer] = value instead\n",
      "\n",
      "See the caveats in the documentation: https://pandas.pydata.org/pandas-docs/stable/user_guide/indexing.html#returning-a-view-versus-a-copy\n",
      "  muc_charging_df['breitengrad']=muc_charging_df['breitengrad'].apply(pd.to_numeric)\n",
      "<ipython-input-52-663903972dbe>:2: SettingWithCopyWarning: \n",
      "A value is trying to be set on a copy of a slice from a DataFrame.\n",
      "Try using .loc[row_indexer,col_indexer] = value instead\n",
      "\n",
      "See the caveats in the documentation: https://pandas.pydata.org/pandas-docs/stable/user_guide/indexing.html#returning-a-view-versus-a-copy\n",
      "  muc_charging_df['längengrad']=muc_charging_df['längengrad'].apply(pd.to_numeric)\n"
     ]
    }
   ],
   "source": [
    "muc_charging_df['breitengrad']=muc_charging_df['breitengrad'].apply(pd.to_numeric)\n",
    "muc_charging_df['längengrad']=muc_charging_df['längengrad'].apply(pd.to_numeric)\n",
    "# df[[\"a\", \"b\"]] = df[[\"a\", \"b\"]].apply(pd.to_numeric)"
   ]
  },
  {
   "cell_type": "code",
   "execution_count": 53,
   "metadata": {},
   "outputs": [],
   "source": [
    "def make_h3_code(row):\n",
    "    return h3.geo_to_h3(\n",
    "            lat=row['breitengrad'],\n",
    "            lng=row['längengrad'],\n",
    "            resolution=8    # Average Hexagon Area (km2): 0.7373276\n",
    "                            # Average Hexagon Edge Length (km)\n",
    "                            # https://h3geo.org/docs/core-library/restable/\n",
    ")"
   ]
  },
  {
   "cell_type": "code",
   "execution_count": 54,
   "metadata": {},
   "outputs": [
    {
     "name": "stderr",
     "output_type": "stream",
     "text": [
      "<ipython-input-54-0ea912f1d864>:1: SettingWithCopyWarning: \n",
      "A value is trying to be set on a copy of a slice from a DataFrame.\n",
      "Try using .loc[row_indexer,col_indexer] = value instead\n",
      "\n",
      "See the caveats in the documentation: https://pandas.pydata.org/pandas-docs/stable/user_guide/indexing.html#returning-a-view-versus-a-copy\n",
      "  muc_charging_df['h3_code'] = muc_charging_df.apply(lambda row : make_h3_code(row), axis=1)\n"
     ]
    }
   ],
   "source": [
    "muc_charging_df['h3_code'] = muc_charging_df.apply(lambda row : make_h3_code(row), axis=1)"
   ]
  },
  {
   "cell_type": "code",
   "execution_count": 55,
   "metadata": {},
   "outputs": [],
   "source": [
    "muc_charging_df = muc_charging_df[[ 'betreiber',\n",
    "                                    'postleitzahl',\n",
    "                                    'breitengrad',\n",
    "                                    'längengrad',\n",
    "                                    'inbetriebnahmedatum',\n",
    "                                    'h3_code']]"
   ]
  },
  {
   "cell_type": "code",
   "execution_count": 56,
   "metadata": {},
   "outputs": [
    {
     "data": {
      "text/html": [
       "<div>\n",
       "<style scoped>\n",
       "    .dataframe tbody tr th:only-of-type {\n",
       "        vertical-align: middle;\n",
       "    }\n",
       "\n",
       "    .dataframe tbody tr th {\n",
       "        vertical-align: top;\n",
       "    }\n",
       "\n",
       "    .dataframe thead th {\n",
       "        text-align: right;\n",
       "    }\n",
       "</style>\n",
       "<table border=\"1\" class=\"dataframe\">\n",
       "  <thead>\n",
       "    <tr style=\"text-align: right;\">\n",
       "      <th></th>\n",
       "      <th>betreiber</th>\n",
       "      <th>postleitzahl</th>\n",
       "      <th>breitengrad</th>\n",
       "      <th>längengrad</th>\n",
       "      <th>inbetriebnahmedatum</th>\n",
       "      <th>h3_code</th>\n",
       "    </tr>\n",
       "  </thead>\n",
       "  <tbody>\n",
       "    <tr>\n",
       "      <th>4502</th>\n",
       "      <td>SWM Versorgungs GmbH</td>\n",
       "      <td>80241</td>\n",
       "      <td>48.137018</td>\n",
       "      <td>11.456796</td>\n",
       "      <td>31/1/2020</td>\n",
       "      <td>881f8d4515fffff</td>\n",
       "    </tr>\n",
       "    <tr>\n",
       "      <th>4503</th>\n",
       "      <td>SWM Versorgungs GmbH</td>\n",
       "      <td>80245</td>\n",
       "      <td>48.159746</td>\n",
       "      <td>11.445709</td>\n",
       "      <td>7/12/2018</td>\n",
       "      <td>881f8d4551fffff</td>\n",
       "    </tr>\n",
       "    <tr>\n",
       "      <th>4504</th>\n",
       "      <td>SWM Versorgungs GmbH</td>\n",
       "      <td>80245</td>\n",
       "      <td>48.159701</td>\n",
       "      <td>11.445643</td>\n",
       "      <td>7/12/2018</td>\n",
       "      <td>881f8d4551fffff</td>\n",
       "    </tr>\n",
       "    <tr>\n",
       "      <th>4505</th>\n",
       "      <td>SWM Versorgungs GmbH</td>\n",
       "      <td>80249</td>\n",
       "      <td>48.147492</td>\n",
       "      <td>11.419531</td>\n",
       "      <td>11/12/2018</td>\n",
       "      <td>881f8d4547fffff</td>\n",
       "    </tr>\n",
       "    <tr>\n",
       "      <th>4506</th>\n",
       "      <td>SWM Versorgungs GmbH</td>\n",
       "      <td>80331</td>\n",
       "      <td>48.135646</td>\n",
       "      <td>11.580395</td>\n",
       "      <td>21/12/2017</td>\n",
       "      <td>881f8d7a49fffff</td>\n",
       "    </tr>\n",
       "  </tbody>\n",
       "</table>\n",
       "</div>"
      ],
      "text/plain": [
       "                 betreiber  postleitzahl  breitengrad  längengrad  \\\n",
       "4502  SWM Versorgungs GmbH         80241    48.137018   11.456796   \n",
       "4503  SWM Versorgungs GmbH         80245    48.159746   11.445709   \n",
       "4504  SWM Versorgungs GmbH         80245    48.159701   11.445643   \n",
       "4505  SWM Versorgungs GmbH         80249    48.147492   11.419531   \n",
       "4506  SWM Versorgungs GmbH         80331    48.135646   11.580395   \n",
       "\n",
       "     inbetriebnahmedatum          h3_code  \n",
       "4502           31/1/2020  881f8d4515fffff  \n",
       "4503           7/12/2018  881f8d4551fffff  \n",
       "4504           7/12/2018  881f8d4551fffff  \n",
       "4505          11/12/2018  881f8d4547fffff  \n",
       "4506          21/12/2017  881f8d7a49fffff  "
      ]
     },
     "execution_count": 56,
     "metadata": {},
     "output_type": "execute_result"
    }
   ],
   "source": [
    "muc_charging_df.head()"
   ]
  },
  {
   "cell_type": "code",
   "execution_count": 57,
   "metadata": {},
   "outputs": [
    {
     "data": {
      "text/plain": [
       "204"
      ]
     },
     "execution_count": 57,
     "metadata": {},
     "output_type": "execute_result"
    }
   ],
   "source": [
    "muc_charging_df.h3_code.nunique()"
   ]
  },
  {
   "cell_type": "code",
   "execution_count": 58,
   "metadata": {},
   "outputs": [],
   "source": [
    "muc_charging_df.to_csv('muc_charging_df.csv', encoding='utf-8', index=False)"
   ]
  },
  {
   "cell_type": "code",
   "execution_count": null,
   "metadata": {},
   "outputs": [],
   "source": [
    "muc_charging_groupby_h3 = muc_charging_df.groupby('h3_code')"
   ]
  }
 ],
 "metadata": {
  "interpreter": {
   "hash": "e90ca5e0c4747f62b22fb91b9a1c014c884d23ee898efe3f2ec66be015ea02ff"
  },
  "kernelspec": {
   "display_name": "Python 3.8.5 64-bit ('sql-practice': conda)",
   "language": "python",
   "name": "python3"
  },
  "language_info": {
   "codemirror_mode": {
    "name": "ipython",
    "version": 3
   },
   "file_extension": ".py",
   "mimetype": "text/x-python",
   "name": "python",
   "nbconvert_exporter": "python",
   "pygments_lexer": "ipython3",
   "version": "3.8.5"
  },
  "orig_nbformat": 4
 },
 "nbformat": 4,
 "nbformat_minor": 2
}
