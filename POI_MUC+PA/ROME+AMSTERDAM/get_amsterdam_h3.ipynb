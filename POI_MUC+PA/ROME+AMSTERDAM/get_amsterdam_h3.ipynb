{
 "cells": [
  {
   "cell_type": "code",
   "execution_count": 1,
   "metadata": {},
   "outputs": [],
   "source": [
    "import h3\n",
    "import pandas as pd\n",
    "import keplergl as KeplerGl\n",
    "import requests\n",
    "import json"
   ]
  },
  {
   "cell_type": "code",
   "execution_count": 2,
   "metadata": {},
   "outputs": [],
   "source": [
    "url_1 = 'https://nominatim.openstreetmap.org/search.php'\n",
    "params_2 = {\n",
    "'q':f'amsterdam', \n",
    "'polygon_geojson':1,\n",
    "'format':'geojson'\n",
    "}\n",
    "\n",
    "geo_object = requests.get(url_1, params_2)\n",
    "geo_json_object = json.loads(geo_object.content)\n",
    "geo_feature = geo_json_object.get('features')[0].get('geometry')\n"
   ]
  },
  {
   "cell_type": "code",
   "execution_count": 4,
   "metadata": {},
   "outputs": [],
   "source": [
    "#print(geo_feature)"
   ]
  },
  {
   "cell_type": "code",
   "execution_count": 10,
   "metadata": {},
   "outputs": [],
   "source": [
    "# geo_feature gives back a multiPolygon\n",
    "# We can't work with it so we manipulate the dict\n",
    "\n",
    "manipulated_geo_feature = {\n",
    "    'type': 'Polygon',\n",
    "    'coordinates': geo_feature[\"coordinates\"][0]\n",
    "}\n"
   ]
  },
  {
   "cell_type": "code",
   "execution_count": 11,
   "metadata": {},
   "outputs": [],
   "source": [
    "ROME_h3_from_polyfill = h3.polyfill_geojson(manipulated_geo_feature, res=9)\n",
    "ROME_h3_list =[]\n",
    "for i in ROME_h3_from_polyfill:\n",
    "    ROME_h3_list.append(i)\n",
    "\n",
    "    # Make DF for Munich for POI\n",
    "ROME_dict = {\n",
    "    'city': 'ROME',\n",
    "    'h3_code': ROME_h3_list\n",
    "}\n",
    "ROME_poi_df = pd.DataFrame(ROME_dict)"
   ]
  },
  {
   "cell_type": "code",
   "execution_count": 12,
   "metadata": {},
   "outputs": [],
   "source": [
    "h3_All = h3.polyfill_geojson(manipulated_geo_feature, res=9)\n",
    "df_rome = pd.DataFrame(h3_All)\n",
    "df_rome.to_csv('AMSTERDAM_all.csv', sep=',')"
   ]
  },
  {
   "cell_type": "markdown",
   "metadata": {},
   "source": [
    "### #4 Get ROME all POI"
   ]
  },
  {
   "cell_type": "code",
   "execution_count": 13,
   "metadata": {},
   "outputs": [],
   "source": [
    "#find the center of every h3_code\n",
    "\n",
    "ROME_geo_center_list = []\n",
    "\n",
    "for i in ROME_h3_list:\n",
    "    k = list(h3.h3_to_geo(i))\n",
    "    ROME_geo_center_list.append(k)\n",
    "\n",
    "ROME_geo_center_list_string = []\n",
    "\n",
    "def make_string_geo():\n",
    "    for i in ROME_geo_center_list:\n",
    "        string = str(i[0]) + ',' + str(i[1])\n",
    "        ROME_geo_center_list_string.append(string)\n",
    "make_string_geo()"
   ]
  },
  {
   "cell_type": "code",
   "execution_count": 14,
   "metadata": {},
   "outputs": [
    {
     "name": "stdout",
     "output_type": "stream",
     "text": [
      "POI`s found: 60948\n"
     ]
    }
   ],
   "source": [
    "api_key= 'Z1XB-w87ksYmy5gJnj4gfLPJUJRkiyyPDLEtyjnMYy0'\n",
    "# url_range = f'https://browse.search.hereapi.com/v1/browse?at={GEO}&in=circle:{GEO};r=700&limit=100&apiKey={api_key}'\n",
    "\n",
    "ROME_title_list = []\n",
    "ROME_cat_id_list = []\n",
    "ROME_cat_name_list = []\n",
    "ROME_h3_source_list = []\n",
    "\n",
    "\n",
    "count = 0\n",
    "\n",
    "for index, GEO in enumerate(ROME_geo_center_list_string):\n",
    "    resp = requests.get(url = f'https://browse.search.hereapi.com/v1/browse?at={GEO}&in=circle:{GEO};r=200&limit=100&apiKey={api_key}')\n",
    "    data= resp.json()\n",
    "\n",
    "    for i in data['items']:\n",
    "        if 'categories' not in i:\n",
    "            continue\n",
    "        else:\n",
    "            ROME_title_list.append(str(i['title']))\n",
    "            ROME_cat_id_list.append(str(i['categories'][0]['id']))\n",
    "            ROME_cat_name_list.append(str(i['categories'][0]['name']))\n",
    "            ROME_h3_source_list.append(ROME_h3_list[index])\n",
    "            count +=1\n",
    "print('POI`s found: ' + str(count))"
   ]
  },
  {
   "cell_type": "code",
   "execution_count": 15,
   "metadata": {},
   "outputs": [],
   "source": [
    "ROME_here_dict = { 'title': ROME_title_list, \n",
    "                'cat_id': ROME_cat_id_list, \n",
    "                'cat_name': ROME_cat_name_list, \n",
    "                'h3_source': ROME_h3_source_list} \n",
    "ROME_poi_df = pd.DataFrame(ROME_here_dict)"
   ]
  },
  {
   "cell_type": "code",
   "execution_count": 16,
   "metadata": {},
   "outputs": [],
   "source": [
    "def make_cat_def(row):\n",
    "    if row['cat_id'][:1] == '1':\n",
    "        return 'Eat & Drink'\n",
    "    elif row['cat_id'][:1] == '2':\n",
    "        return 'Going Out-Entertainment'\n",
    "    elif row['cat_id'][:1] == '3':\n",
    "        return 'Sights and Museums'\n",
    "    elif row['cat_id'][:1] == '4':\n",
    "        return 'Transport'\n",
    "    elif row['cat_id'][:1] == '5':\n",
    "        return 'Accommodations'\n",
    "    elif row['cat_id'][:1] == '6':\n",
    "        return 'Shopping'\n",
    "    elif row['cat_id'][:1] == '7':\n",
    "        return 'Business and Services'\n",
    "    elif row['cat_id'][:1] == '8':\n",
    "        return 'Facilities'\n",
    "    elif row['cat_id'][:1] == '9':\n",
    "        return 'Areas and Buildings'"
   ]
  },
  {
   "cell_type": "code",
   "execution_count": 17,
   "metadata": {},
   "outputs": [],
   "source": [
    "ROME_poi_df['cat_definition'] = ROME_poi_df.apply(lambda row : make_cat_def(row), axis=1)\n",
    "\n",
    "ROME_poi_df = ROME_poi_df[[ 'h3_source',\n",
    "                            'cat_definition', \n",
    "                            'cat_name',\n",
    "                            'title'\n",
    "                ]]\n",
    "ROME_poi_df.to_csv('AMSTERDAM_poi_df.csv', sep=',')"
   ]
  },
  {
   "cell_type": "code",
   "execution_count": null,
   "metadata": {},
   "outputs": [],
   "source": []
  },
  {
   "cell_type": "code",
   "execution_count": null,
   "metadata": {},
   "outputs": [],
   "source": []
  }
 ],
 "metadata": {
  "interpreter": {
   "hash": "fbe0aead5cca8d2ea82be07e886227a87e9bb2a57fe7325eef0acd6ed9d1683b"
  },
  "kernelspec": {
   "display_name": "Python 3.8.5 64-bit ('sql-practice': conda)",
   "name": "python3"
  },
  "language_info": {
   "codemirror_mode": {
    "name": "ipython",
    "version": 3
   },
   "file_extension": ".py",
   "mimetype": "text/x-python",
   "name": "python",
   "nbconvert_exporter": "python",
   "pygments_lexer": "ipython3",
   "version": "3.8.5"
  },
  "orig_nbformat": 4
 },
 "nbformat": 4,
 "nbformat_minor": 2
}
