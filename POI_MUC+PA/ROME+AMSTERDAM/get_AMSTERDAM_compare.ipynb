{
 "cells": [
  {
   "cell_type": "code",
   "execution_count": 13,
   "source": [
    "# veicoli elettrici"
   ],
   "outputs": [],
   "metadata": {}
  },
  {
   "cell_type": "code",
   "execution_count": 14,
   "source": [
    "import pandas as pd"
   ],
   "outputs": [],
   "metadata": {}
  },
  {
   "cell_type": "code",
   "execution_count": 15,
   "source": [
    "ROME_df = pd.read_csv('AMSTERDAM_poi_df.csv')"
   ],
   "outputs": [],
   "metadata": {}
  },
  {
   "cell_type": "code",
   "execution_count": 16,
   "source": [
    "ROME_compare_dict = { \n",
    "                'h3_code': ROME_df.h3_source, \n",
    "                'total_poi': None,\n",
    "                'station_count': None, \n",
    "                'Eat_and_Drink': None, \n",
    "                'Going_Out-Entertainment': None, \n",
    "                'Sights_and_Museums': None, \n",
    "                'Transport': None,\n",
    "                'Accommodations': None, \n",
    "                'Shopping': None, \n",
    "                'Business_and_Services': None,\n",
    "                'Facilities': None, \n",
    "                'Areas_and_Buildings': None}\n",
    "ROME_compare_df = pd.DataFrame(ROME_compare_dict)\n",
    "ROME_compare_df = ROME_compare_df.drop_duplicates()"
   ],
   "outputs": [],
   "metadata": {}
  },
  {
   "cell_type": "code",
   "execution_count": 17,
   "source": [
    "def ROME_stations_in_h3(row):\n",
    "    return ROME_df[(ROME_df.h3_source == row['h3_code']) & (ROME_df.cat_name == \"Oplaadpunt voor elektrische auto's \")].count()\n",
    "def ROME_count_100_in_h3(row):\n",
    "    return ROME_df[(ROME_df.h3_source == row['h3_code']) & (ROME_df.cat_definition == 'Eat & Drink')].count()\n",
    "def ROME_count_200_in_h3(row):\n",
    "    return ROME_df[(ROME_df.h3_source == row['h3_code']) & (ROME_df.cat_definition == 'Going Out-Entertainment')].count()\n",
    "def ROME_count_300_in_h3(row):\n",
    "    return ROME_df[(ROME_df.h3_source == row['h3_code']) & (ROME_df.cat_definition == 'Sights and Museums')].count()\n",
    "def ROME_count_400_in_h3(row):\n",
    "    return ROME_df[(ROME_df.h3_source == row['h3_code']) & (ROME_df.cat_definition == 'Transport')].count()\n",
    "def ROME_count_500_in_h3(row):\n",
    "    return ROME_df[(ROME_df.h3_source == row['h3_code']) & (ROME_df.cat_definition == 'Accommodations')].count()\n",
    "def ROME_count_600_in_h3(row):\n",
    "    return ROME_df[(ROME_df.h3_source == row['h3_code']) & (ROME_df.cat_definition == 'Shopping')].count()\n",
    "def ROME_count_700_in_h3(row):\n",
    "    return ROME_df[(ROME_df.h3_source == row['h3_code']) & (ROME_df.cat_definition == 'Business and Services')].count()\n",
    "def ROME_count_800_in_h3(row):\n",
    "    return ROME_df[(ROME_df.h3_source == row['h3_code']) & (ROME_df.cat_definition == 'Facilities')].count()\n",
    "def ROME_count_900_in_h3(row):\n",
    "    return ROME_df[(ROME_df.h3_source == row['h3_code']) & (ROME_df.cat_definition == 'Areas and Buildings')].count()\n",
    "def ROME_total_poi(row):\n",
    "    return row['Eat_and_Drink']+row['Going_Out-Entertainment']+row['Sights_and_Museums']+row['Transport']+row['Accommodations']+row['Shopping']+row['Business_and_Services']+row['Facilities']+row['Areas_and_Buildings']\n",
    "def ROME_area_high_low(row):\n",
    "    if row['total_poi']<30:\n",
    "        return 'Low-area'\n",
    "    elif row['total_poi'] >= 30:\n",
    "        return 'High-area'   "
   ],
   "outputs": [],
   "metadata": {}
  },
  {
   "cell_type": "code",
   "execution_count": 18,
   "source": [
    "ROME_compare_df['station_count'] = ROME_compare_df.apply(lambda row : ROME_stations_in_h3(row), axis=1)\n",
    "ROME_compare_df['Eat_and_Drink'] = ROME_compare_df.apply(lambda row : ROME_count_100_in_h3(row), axis=1)\n",
    "ROME_compare_df['Going_Out-Entertainment'] = ROME_compare_df.apply(lambda row : ROME_count_200_in_h3(row), axis=1)\n",
    "ROME_compare_df['Sights_and_Museums'] = ROME_compare_df.apply(lambda row : ROME_count_300_in_h3(row), axis=1)\n",
    "ROME_compare_df['Transport'] = ROME_compare_df.apply(lambda row : ROME_count_400_in_h3(row), axis=1)\n",
    "ROME_compare_df['Accommodations'] = ROME_compare_df.apply(lambda row : ROME_count_500_in_h3(row), axis=1)\n",
    "ROME_compare_df['Shopping'] = ROME_compare_df.apply(lambda row : ROME_count_600_in_h3(row), axis=1)\n",
    "ROME_compare_df['Business_and_Services'] = ROME_compare_df.apply(lambda row : ROME_count_700_in_h3(row), axis=1)\n",
    "ROME_compare_df['Facilities'] = ROME_compare_df.apply(lambda row : ROME_count_800_in_h3(row), axis=1)\n",
    "ROME_compare_df['Areas_and_Buildings'] = ROME_compare_df.apply(lambda row : ROME_count_900_in_h3(row), axis=1)\n",
    "ROME_compare_df['total_poi'] = ROME_compare_df.apply(lambda row : ROME_total_poi(row), axis=1)\n",
    "ROME_compare_df['h3_area'] = ROME_compare_df.apply(lambda row : ROME_area_high_low(row), axis=1)"
   ],
   "outputs": [],
   "metadata": {}
  },
  {
   "cell_type": "code",
   "execution_count": 19,
   "source": [
    "def is_station(row):\n",
    "    if row['station_count'] >= 1:\n",
    "        return True\n",
    "    elif row['station_count'] == 0:\n",
    "        return False"
   ],
   "outputs": [],
   "metadata": {}
  },
  {
   "cell_type": "code",
   "execution_count": 20,
   "source": [
    "ROME_compare_df['is_station'] = ROME_compare_df.apply(lambda row : is_station(row), axis=1)"
   ],
   "outputs": [],
   "metadata": {}
  },
  {
   "cell_type": "code",
   "execution_count": 21,
   "source": [
    "ROME_compare_df.head()"
   ],
   "outputs": [
    {
     "output_type": "execute_result",
     "data": {
      "text/html": [
       "<div>\n",
       "<style scoped>\n",
       "    .dataframe tbody tr th:only-of-type {\n",
       "        vertical-align: middle;\n",
       "    }\n",
       "\n",
       "    .dataframe tbody tr th {\n",
       "        vertical-align: top;\n",
       "    }\n",
       "\n",
       "    .dataframe thead th {\n",
       "        text-align: right;\n",
       "    }\n",
       "</style>\n",
       "<table border=\"1\" class=\"dataframe\">\n",
       "  <thead>\n",
       "    <tr style=\"text-align: right;\">\n",
       "      <th></th>\n",
       "      <th>h3_code</th>\n",
       "      <th>total_poi</th>\n",
       "      <th>station_count</th>\n",
       "      <th>Eat_and_Drink</th>\n",
       "      <th>Going_Out-Entertainment</th>\n",
       "      <th>Sights_and_Museums</th>\n",
       "      <th>Transport</th>\n",
       "      <th>Accommodations</th>\n",
       "      <th>Shopping</th>\n",
       "      <th>Business_and_Services</th>\n",
       "      <th>Facilities</th>\n",
       "      <th>Areas_and_Buildings</th>\n",
       "      <th>h3_area</th>\n",
       "      <th>is_station</th>\n",
       "    </tr>\n",
       "  </thead>\n",
       "  <tbody>\n",
       "    <tr>\n",
       "      <th>0</th>\n",
       "      <td>891969c9933ffff</td>\n",
       "      <td>89</td>\n",
       "      <td>3</td>\n",
       "      <td>7</td>\n",
       "      <td>1</td>\n",
       "      <td>0</td>\n",
       "      <td>0</td>\n",
       "      <td>0</td>\n",
       "      <td>5</td>\n",
       "      <td>64</td>\n",
       "      <td>12</td>\n",
       "      <td>0</td>\n",
       "      <td>High-area</td>\n",
       "      <td>True</td>\n",
       "    </tr>\n",
       "    <tr>\n",
       "      <th>89</th>\n",
       "      <td>8919695268bffff</td>\n",
       "      <td>92</td>\n",
       "      <td>2</td>\n",
       "      <td>3</td>\n",
       "      <td>3</td>\n",
       "      <td>2</td>\n",
       "      <td>1</td>\n",
       "      <td>1</td>\n",
       "      <td>3</td>\n",
       "      <td>70</td>\n",
       "      <td>9</td>\n",
       "      <td>0</td>\n",
       "      <td>High-area</td>\n",
       "      <td>True</td>\n",
       "    </tr>\n",
       "    <tr>\n",
       "      <th>181</th>\n",
       "      <td>89196952513ffff</td>\n",
       "      <td>4</td>\n",
       "      <td>0</td>\n",
       "      <td>0</td>\n",
       "      <td>0</td>\n",
       "      <td>1</td>\n",
       "      <td>0</td>\n",
       "      <td>0</td>\n",
       "      <td>0</td>\n",
       "      <td>3</td>\n",
       "      <td>0</td>\n",
       "      <td>0</td>\n",
       "      <td>Low-area</td>\n",
       "      <td>False</td>\n",
       "    </tr>\n",
       "    <tr>\n",
       "      <th>185</th>\n",
       "      <td>891969c8aa7ffff</td>\n",
       "      <td>1</td>\n",
       "      <td>0</td>\n",
       "      <td>0</td>\n",
       "      <td>0</td>\n",
       "      <td>0</td>\n",
       "      <td>0</td>\n",
       "      <td>0</td>\n",
       "      <td>0</td>\n",
       "      <td>0</td>\n",
       "      <td>1</td>\n",
       "      <td>0</td>\n",
       "      <td>Low-area</td>\n",
       "      <td>False</td>\n",
       "    </tr>\n",
       "    <tr>\n",
       "      <th>186</th>\n",
       "      <td>891969c9d63ffff</td>\n",
       "      <td>31</td>\n",
       "      <td>1</td>\n",
       "      <td>0</td>\n",
       "      <td>0</td>\n",
       "      <td>2</td>\n",
       "      <td>0</td>\n",
       "      <td>1</td>\n",
       "      <td>4</td>\n",
       "      <td>15</td>\n",
       "      <td>9</td>\n",
       "      <td>0</td>\n",
       "      <td>High-area</td>\n",
       "      <td>True</td>\n",
       "    </tr>\n",
       "  </tbody>\n",
       "</table>\n",
       "</div>"
      ],
      "text/plain": [
       "             h3_code  total_poi  station_count  Eat_and_Drink  \\\n",
       "0    891969c9933ffff         89              3              7   \n",
       "89   8919695268bffff         92              2              3   \n",
       "181  89196952513ffff          4              0              0   \n",
       "185  891969c8aa7ffff          1              0              0   \n",
       "186  891969c9d63ffff         31              1              0   \n",
       "\n",
       "     Going_Out-Entertainment  Sights_and_Museums  Transport  Accommodations  \\\n",
       "0                          1                   0          0               0   \n",
       "89                         3                   2          1               1   \n",
       "181                        0                   1          0               0   \n",
       "185                        0                   0          0               0   \n",
       "186                        0                   2          0               1   \n",
       "\n",
       "     Shopping  Business_and_Services  Facilities  Areas_and_Buildings  \\\n",
       "0           5                     64          12                    0   \n",
       "89          3                     70           9                    0   \n",
       "181         0                      3           0                    0   \n",
       "185         0                      0           1                    0   \n",
       "186         4                     15           9                    0   \n",
       "\n",
       "       h3_area  is_station  \n",
       "0    High-area        True  \n",
       "89   High-area        True  \n",
       "181   Low-area       False  \n",
       "185   Low-area       False  \n",
       "186  High-area        True  "
      ]
     },
     "metadata": {},
     "execution_count": 21
    }
   ],
   "metadata": {}
  },
  {
   "cell_type": "code",
   "execution_count": 22,
   "source": [
    "ROME_compare_df.to_csv('AMSTERDAM_compare_df.csv', sep=',')"
   ],
   "outputs": [],
   "metadata": {}
  },
  {
   "cell_type": "code",
   "execution_count": 23,
   "source": [
    "ROME_is_station_df = ROME_compare_df.drop(ROME_compare_df[ROME_compare_df.is_station == False].index)"
   ],
   "outputs": [],
   "metadata": {}
  },
  {
   "cell_type": "code",
   "execution_count": 24,
   "source": [
    "ROME_is_station_df.to_csv('AMSTERDAM_is_station.csv', sep=',')"
   ],
   "outputs": [],
   "metadata": {}
  },
  {
   "cell_type": "code",
   "execution_count": null,
   "source": [],
   "outputs": [],
   "metadata": {}
  }
 ],
 "metadata": {
  "orig_nbformat": 4,
  "language_info": {
   "name": "python",
   "version": "3.8.5",
   "mimetype": "text/x-python",
   "codemirror_mode": {
    "name": "ipython",
    "version": 3
   },
   "pygments_lexer": "ipython3",
   "nbconvert_exporter": "python",
   "file_extension": ".py"
  },
  "kernelspec": {
   "name": "python3",
   "display_name": "Python 3.8.5 64-bit ('sql-practice': conda)"
  },
  "interpreter": {
   "hash": "fbe0aead5cca8d2ea82be07e886227a87e9bb2a57fe7325eef0acd6ed9d1683b"
  }
 },
 "nbformat": 4,
 "nbformat_minor": 2
}