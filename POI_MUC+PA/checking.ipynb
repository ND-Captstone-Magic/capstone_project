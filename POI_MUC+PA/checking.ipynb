{
 "cells": [
  {
   "cell_type": "code",
   "execution_count": 1,
   "source": [
    "import pandas as pd\n",
    "import requests\n",
    "import json"
   ],
   "outputs": [],
   "metadata": {}
  },
  {
   "cell_type": "code",
   "execution_count": 2,
   "source": [
    "MUC_compare_df = pd.read_csv('MUC_compare_df.csv')\n",
    "PA_compare_df = pd.read_csv('PA_compare_df.csv')\n",
    "MUC_df = pd.read_csv('MUC_poi_df.csv')\n",
    "PA_df = pd.read_csv('PA_poi_df.csv')\n",
    "charging_df = pd.read_csv('../PA_charging/PA_charging_data.csv')"
   ],
   "outputs": [],
   "metadata": {}
  },
  {
   "cell_type": "code",
   "execution_count": 3,
   "source": [
    "MUC_compare_df.h3_area.unique()"
   ],
   "outputs": [
    {
     "output_type": "execute_result",
     "data": {
      "text/plain": [
       "array(['Low-area', 'High-area'], dtype=object)"
      ]
     },
     "metadata": {},
     "execution_count": 3
    }
   ],
   "metadata": {}
  },
  {
   "cell_type": "code",
   "execution_count": 4,
   "source": [
    "MUC_high_area_df = MUC_compare_df.where(MUC_compare_df.h3_area =='High-area').sort_values(['total_poi', 'station_count', 'max_category'], ascending=[False, True, False]).dropna()\n",
    "MUC_low_area_df = MUC_compare_df.where(MUC_compare_df.h3_area =='Low-area').sort_values(['total_poi', 'station_count', 'max_category'], ascending=[False, True, False]).dropna()"
   ],
   "outputs": [],
   "metadata": {}
  },
  {
   "cell_type": "code",
   "execution_count": 25,
   "source": [
    "MUC_high_area_df_no_station = MUC_compare_df.query('h3_area ==\"High-area\" and station_count == 0').sort_values(['total_poi', 'station_count', 'max_category'], ascending=[False, True, False]).dropna()\n",
    "#MUC_low_area_df_no_station = MUC_compare_df.where((MUC_compare_df.h3_area =='Low-area') and (MUC_compare_df.station_count >= 0)).sort_values(['total_poi', 'station_count', 'max_category'], ascending=[False, True, False]).dropna()"
   ],
   "outputs": [],
   "metadata": {}
  },
  {
   "cell_type": "code",
   "execution_count": 27,
   "source": [
    "MUC_high_area_df_no_station.info()"
   ],
   "outputs": [
    {
     "output_type": "stream",
     "name": "stdout",
     "text": [
      "<class 'pandas.core.frame.DataFrame'>\n",
      "Int64Index: 844 entries, 824 to 2386\n",
      "Data columns (total 19 columns):\n",
      " #   Column                   Non-Null Count  Dtype  \n",
      "---  ------                   --------------  -----  \n",
      " 0   Unnamed: 0               844 non-null    int64  \n",
      " 1   h3_code                  844 non-null    object \n",
      " 2   total_poi                844 non-null    int64  \n",
      " 3   station_count            844 non-null    int64  \n",
      " 4   Eat_and_Drink            844 non-null    int64  \n",
      " 5   Going_Out-Entertainment  844 non-null    int64  \n",
      " 6   Sights_and_Museums       844 non-null    int64  \n",
      " 7   Transport                844 non-null    int64  \n",
      " 8   Accommodations           844 non-null    int64  \n",
      " 9   Shopping                 844 non-null    int64  \n",
      " 10  Business_and_Services    844 non-null    int64  \n",
      " 11  Facilities               844 non-null    int64  \n",
      " 12  Areas_and_Buildings      844 non-null    int64  \n",
      " 13  h3_area                  844 non-null    object \n",
      " 14  Shopping_percent         844 non-null    float64\n",
      " 15  Transport_percent        844 non-null    float64\n",
      " 16  Business_percent         844 non-null    float64\n",
      " 17  Eat_percent              844 non-null    float64\n",
      " 18  max_category             844 non-null    object \n",
      "dtypes: float64(4), int64(12), object(3)\n",
      "memory usage: 131.9+ KB\n"
     ]
    }
   ],
   "metadata": {}
  },
  {
   "cell_type": "code",
   "execution_count": 21,
   "source": [
    "# MUC_high_area_df_no_station = MUC_compare_df.where((MUC_compare_df.h3_area =='High-area') and (MUC_compare_df.station_count >= 0)).sort_values(['total_poi', 'station_count', 'max_category'], ascending=[False, True, False]).dropna()\n",
    "# MUC_low_area_df_no_station = MUC_compare_df.where((MUC_compare_df.h3_area =='Low-area') and (MUC_compare_df.station_count >= 0)).sort_values(['total_poi', 'station_count', 'max_category'], ascending=[False, True, False]).dropna()"
   ],
   "outputs": [],
   "metadata": {}
  },
  {
   "cell_type": "code",
   "execution_count": 16,
   "source": [
    "MUC_high_area_df.station_count.sum()"
   ],
   "outputs": [
    {
     "output_type": "execute_result",
     "data": {
      "text/plain": [
       "345.0"
      ]
     },
     "metadata": {},
     "execution_count": 16
    }
   ],
   "metadata": {}
  },
  {
   "cell_type": "code",
   "execution_count": 11,
   "source": [
    "MUC_is_station = MUC_compare_df.where(MUC_compare_df.station_count >= 1).dropna()"
   ],
   "outputs": [],
   "metadata": {}
  },
  {
   "cell_type": "code",
   "execution_count": 14,
   "source": [
    "MUC_is_station.info()"
   ],
   "outputs": [
    {
     "output_type": "stream",
     "name": "stdout",
     "text": [
      "<class 'pandas.core.frame.DataFrame'>\n",
      "Int64Index: 366 entries, 1 to 2456\n",
      "Data columns (total 19 columns):\n",
      " #   Column                   Non-Null Count  Dtype  \n",
      "---  ------                   --------------  -----  \n",
      " 0   Unnamed: 0               366 non-null    float64\n",
      " 1   h3_code                  366 non-null    object \n",
      " 2   total_poi                366 non-null    float64\n",
      " 3   station_count            366 non-null    float64\n",
      " 4   Eat_and_Drink            366 non-null    float64\n",
      " 5   Going_Out-Entertainment  366 non-null    float64\n",
      " 6   Sights_and_Museums       366 non-null    float64\n",
      " 7   Transport                366 non-null    float64\n",
      " 8   Accommodations           366 non-null    float64\n",
      " 9   Shopping                 366 non-null    float64\n",
      " 10  Business_and_Services    366 non-null    float64\n",
      " 11  Facilities               366 non-null    float64\n",
      " 12  Areas_and_Buildings      366 non-null    float64\n",
      " 13  h3_area                  366 non-null    object \n",
      " 14  Shopping_percent         366 non-null    float64\n",
      " 15  Transport_percent        366 non-null    float64\n",
      " 16  Business_percent         366 non-null    float64\n",
      " 17  Eat_percent              366 non-null    float64\n",
      " 18  max_category             366 non-null    object \n",
      "dtypes: float64(16), object(3)\n",
      "memory usage: 57.2+ KB\n"
     ]
    }
   ],
   "metadata": {}
  },
  {
   "cell_type": "code",
   "execution_count": 5,
   "source": [
    "#MUC_high_area_df.info() # 1125 non null\n",
    "#MUC_low_area_df.info() # 1355 non null"
   ],
   "outputs": [],
   "metadata": {}
  },
  {
   "cell_type": "code",
   "execution_count": 6,
   "source": [
    "MUC_low_area_df.h3_code.count()"
   ],
   "outputs": [
    {
     "output_type": "execute_result",
     "data": {
      "text/plain": [
       "1355"
      ]
     },
     "metadata": {},
     "execution_count": 6
    }
   ],
   "metadata": {}
  },
  {
   "cell_type": "code",
   "execution_count": 7,
   "source": [
    "MUC_high_area_df.h3_code.count()"
   ],
   "outputs": [
    {
     "output_type": "execute_result",
     "data": {
      "text/plain": [
       "1125"
      ]
     },
     "metadata": {},
     "execution_count": 7
    }
   ],
   "metadata": {}
  },
  {
   "cell_type": "code",
   "execution_count": 8,
   "source": [
    "# next_charging_station_MUC = next_charging_station_MUC[[     'h3_code',\n",
    "#                                                             'total_poi', \n",
    "#                                                             'station_count',\n",
    "#                                                             'h3_area',\n",
    "#                                                             'max_category'\n",
    "#                 ]]"
   ],
   "outputs": [],
   "metadata": {}
  },
  {
   "cell_type": "code",
   "execution_count": 9,
   "source": [
    "MUC_high_cs_build_1 = MUC_high_area_df_no_station.head(50)\n",
    "MUC_high_cs_build_2 = MUC_high_area_df_no_station.iloc[50:100 , :].head(50)\n",
    "MUC_high_cs_build_3 = MUC_high_area_df_no_station.iloc[100:150 , :].head(50)\n",
    "MUC_high_cs_build_4= MUC_high_area_df_no_station.iloc[150:200 , :].head(50)\n",
    "MUC_high_cs_build_5 = MUC_high_area_df_no_station.iloc[200:250 , :].head(50)\n",
    "MUC_high_cs_build_6 = MUC_high_area_df_no_station.iloc[250:300 , :].head(50)\n",
    "MUC_high_cs_build_7 = MUC_high_area_df_no_station.iloc[300:350 , :].head(50)\n",
    "MUC_high_cs_build_8 = MUC_high_area_df_no_station.iloc[350:400 , :].head(50)\n",
    "MUC_high_cs_build_9 = MUC_high_area_df_no_station.iloc[400:450 , :].head(50)\n",
    "MUC_high_cs_build_10 = MUC_high_area_df_no_station.iloc[500:550 , :].head(50)\n",
    "MUC_high_cs_build_11 = MUC_high_area_df_no_station.iloc[550:600 , :].head(50)\n",
    "MUC_high_cs_build_11 = MUC_high_area_df_no_station.iloc[600:650 , :].head(50)\n",
    "\n"
   ],
   "outputs": [],
   "metadata": {}
  },
  {
   "cell_type": "code",
   "execution_count": 10,
   "source": [
    "MUC_high_cs_build_1.to_csv('./build/1_build_MUC.csv', sep=',')\n",
    "MUC_high_cs_build_2.to_csv('./build/2_build_MUC.csv', sep=',')\n",
    "MUC_high_cs_build_3.to_csv('./build/3_build_MUC.csv', sep=',')\n",
    "MUC_high_cs_build_4.to_csv('./build/4_build_MUC.csv', sep=',')\n",
    "MUC_high_cs_build_5.to_csv('./build/5_build_MUC.csv', sep=',')\n",
    "MUC_high_cs_build_6.to_csv('./build/6_build_MUC.csv', sep=',')\n",
    "MUC_high_cs_build_7.to_csv('./build/7_build_MUC.csv', sep=',')\n",
    "MUC_high_cs_build_8.to_csv('./build/8_build_MUC.csv', sep=',')\n",
    "MUC_high_cs_build_9.to_csv('./build/9_build_MUC.csv', sep=',')\n",
    "MUC_high_cs_build_10.to_csv('./build/10_build_MUC.csv', sep=',')\n",
    "MUC_high_cs_build_11.to_csv('./build/11_build_MUC.csv', sep=',')"
   ],
   "outputs": [],
   "metadata": {}
  },
  {
   "cell_type": "code",
   "execution_count": 15,
   "source": [
    "MUC_is_station.to_csv('./build/MUC_is_station.csv', sep=',')"
   ],
   "outputs": [],
   "metadata": {}
  },
  {
   "cell_type": "code",
   "execution_count": null,
   "source": [],
   "outputs": [],
   "metadata": {}
  }
 ],
 "metadata": {
  "interpreter": {
   "hash": "fbe0aead5cca8d2ea82be07e886227a87e9bb2a57fe7325eef0acd6ed9d1683b"
  },
  "kernelspec": {
   "name": "python3",
   "display_name": "Python 3.8.5 64-bit ('sql-practice': conda)"
  },
  "language_info": {
   "codemirror_mode": {
    "name": "ipython",
    "version": 3
   },
   "file_extension": ".py",
   "mimetype": "text/x-python",
   "name": "python",
   "nbconvert_exporter": "python",
   "pygments_lexer": "ipython3",
   "version": "3.8.5"
  },
  "orig_nbformat": 4
 },
 "nbformat": 4,
 "nbformat_minor": 2
}