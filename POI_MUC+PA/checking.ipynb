{
 "cells": [
  {
   "cell_type": "code",
   "execution_count": 56,
   "metadata": {},
   "outputs": [],
   "source": [
    "import pandas as pd\n",
    "import requests\n",
    "import json"
   ]
  },
  {
   "cell_type": "code",
   "execution_count": 57,
   "metadata": {},
   "outputs": [],
   "source": [
    "MUC_compare_df = pd.read_csv('MUC_compare_df.csv')\n",
    "PA_compare_df = pd.read_csv('PA_compare_df.csv')\n",
    "MUC_df = pd.read_csv('MUC_poi_df.csv')\n",
    "PA_df = pd.read_csv('PA_poi_df.csv')\n",
    "charging_df = pd.read_csv('../PA_charging/PA_charging_data.csv')"
   ]
  },
  {
   "cell_type": "code",
   "execution_count": 58,
   "metadata": {},
   "outputs": [
    {
     "data": {
      "text/plain": [
       "array(['Low-area', 'High-area'], dtype=object)"
      ]
     },
     "execution_count": 58,
     "metadata": {},
     "output_type": "execute_result"
    }
   ],
   "source": [
    "MUC_compare_df.h3_area.unique()"
   ]
  },
  {
   "cell_type": "code",
   "execution_count": 59,
   "metadata": {},
   "outputs": [],
   "source": [
    "MUC_high_area_df = MUC_compare_df.where(MUC_compare_df.h3_area =='High-area').sort_values(['total_poi', 'station_count', 'max_category'], ascending=[False, True, False]).dropna()\n",
    "MUC_low_area_df = MUC_compare_df.where(MUC_compare_df.h3_area =='Low-area').sort_values(['total_poi', 'station_count', 'max_category'], ascending=[False, True, False]).dropna()"
   ]
  },
  {
   "cell_type": "code",
   "execution_count": 60,
   "metadata": {},
   "outputs": [],
   "source": [
    "#MUC_high_area_df.info() # 1125 non null\n",
    "#MUC_low_area_df.info() # 1355 non null"
   ]
  },
  {
   "cell_type": "code",
   "execution_count": 72,
   "metadata": {},
   "outputs": [
    {
     "data": {
      "text/plain": [
       "1355"
      ]
     },
     "execution_count": 72,
     "metadata": {},
     "output_type": "execute_result"
    }
   ],
   "source": [
    "MUC_low_area_df.h3_code.count()"
   ]
  },
  {
   "cell_type": "code",
   "execution_count": 73,
   "metadata": {},
   "outputs": [
    {
     "data": {
      "text/plain": [
       "1125"
      ]
     },
     "execution_count": 73,
     "metadata": {},
     "output_type": "execute_result"
    }
   ],
   "source": [
    "MUC_high_area_df.h3_code.count()"
   ]
  },
  {
   "cell_type": "code",
   "execution_count": 64,
   "metadata": {},
   "outputs": [],
   "source": [
    "# next_charging_station_MUC = next_charging_station_MUC[[     'h3_code',\n",
    "#                                                             'total_poi', \n",
    "#                                                             'station_count',\n",
    "#                                                             'h3_area',\n",
    "#                                                             'max_category'\n",
    "#                 ]]"
   ]
  },
  {
   "cell_type": "code",
   "execution_count": 84,
   "metadata": {},
   "outputs": [],
   "source": [
    "MUC_high_cs_build_1 = MUC_high_area_df.head(50)\n",
    "MUC_high_cs_build_2 = MUC_high_area_df.iloc[50:100 , :].head(50)\n",
    "MUC_high_cs_build_3 = MUC_high_area_df.iloc[100:150 , :].head(50)\n",
    "MUC_high_cs_build_4= MUC_high_area_df.iloc[150:200 , :].head(50)\n",
    "MUC_high_cs_build_5 = MUC_high_area_df.iloc[200:250 , :].head(50)\n",
    "MUC_high_cs_build_6 = MUC_high_area_df.iloc[250:300 , :].head(50)\n",
    "MUC_high_cs_build_7 = MUC_high_area_df.iloc[300:350 , :].head(50)\n",
    "MUC_high_cs_build_8 = MUC_high_area_df.iloc[350:400 , :].head(50)\n",
    "MUC_high_cs_build_9 = MUC_high_area_df.iloc[400:450 , :].head(50)\n",
    "MUC_high_cs_build_10 = MUC_high_area_df.iloc[500:550 , :].head(50)\n",
    "MUC_high_cs_build_11 = MUC_high_area_df.iloc[550:600 , :].head(50)\n",
    "MUC_high_cs_build_11 = MUC_high_area_df.iloc[600:650 , :].head(50)\n",
    "\n"
   ]
  },
  {
   "cell_type": "code",
   "execution_count": 87,
   "metadata": {},
   "outputs": [],
   "source": [
    "MUC_high_cs_build_1.to_csv('./build/1_build_MUC.csv', sep=',')\n",
    "MUC_high_cs_build_2.to_csv('./build/2_build_MUC.csv', sep=',')\n",
    "MUC_high_cs_build_3.to_csv('./build/3_build_MUC.csv', sep=',')\n",
    "MUC_high_cs_build_4.to_csv('./build/4_build_MUC.csv', sep=',')\n",
    "MUC_high_cs_build_5.to_csv('./build/5_build_MUC.csv', sep=',')\n",
    "MUC_high_cs_build_6.to_csv('./build/6_build_MUC.csv', sep=',')\n",
    "MUC_high_cs_build_7.to_csv('./build/7_build_MUC.csv', sep=',')\n",
    "MUC_high_cs_build_8.to_csv('./build/8_build_MUC.csv', sep=',')\n",
    "MUC_high_cs_build_9.to_csv('./build/9_build_MUC.csv', sep=',')\n",
    "MUC_high_cs_build_10.to_csv('./build/10_build_MUC.csv', sep=',')\n",
    "MUC_high_cs_build_11.to_csv('./build/11_build_MUC.csv', sep=',')"
   ]
  },
  {
   "cell_type": "code",
   "execution_count": null,
   "metadata": {},
   "outputs": [],
   "source": []
  }
 ],
 "metadata": {
  "interpreter": {
   "hash": "e90ca5e0c4747f62b22fb91b9a1c014c884d23ee898efe3f2ec66be015ea02ff"
  },
  "kernelspec": {
   "display_name": "Python 3.8.5 64-bit ('sql-practice': conda)",
   "language": "python",
   "name": "python3"
  },
  "language_info": {
   "codemirror_mode": {
    "name": "ipython",
    "version": 3
   },
   "file_extension": ".py",
   "mimetype": "text/x-python",
   "name": "python",
   "nbconvert_exporter": "python",
   "pygments_lexer": "ipython3",
   "version": "3.8.5"
  },
  "orig_nbformat": 4
 },
 "nbformat": 4,
 "nbformat_minor": 2
}
