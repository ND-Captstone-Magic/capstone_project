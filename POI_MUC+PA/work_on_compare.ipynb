{
 "cells": [
  {
   "cell_type": "code",
   "execution_count": 68,
   "metadata": {},
   "outputs": [],
   "source": [
    "import pandas as pd\n",
    "import seaborn as sb\n",
    "import matplotlib.pyplot as plt\n",
    "import psycopg2\n",
    "from sql import engine"
   ]
  },
  {
   "cell_type": "code",
   "execution_count": 69,
   "metadata": {},
   "outputs": [],
   "source": [
    "MUC_compare_df = pd.read_csv('MUC_compare_df.csv')\n",
    "PA_compare_df = pd.read_csv('PA_compare_df.csv')\n",
    "MUC_df = pd.read_csv('MUC_poi_df.csv')\n",
    "PA_df = pd.read_csv('PA_poi_df.csv')"
   ]
  },
  {
   "cell_type": "code",
   "execution_count": 70,
   "metadata": {},
   "outputs": [],
   "source": [
    "PA_corr = PA_compare_df.corr()\n",
    "MUC_corr = MUC_compare_df.corr()"
   ]
  },
  {
   "cell_type": "code",
   "execution_count": 71,
   "metadata": {},
   "outputs": [
    {
     "name": "stdout",
     "output_type": "stream",
     "text": [
      "max_category\n",
      "Accommodations               41\n",
      "Areas_and_Buildings           4\n",
      "Business_and_Services      2118\n",
      "Eat_and_Drink                42\n",
      "Facilities                   91\n",
      "Going_Out-Entertainment      18\n",
      "Shopping                     88\n",
      "Sights_and_Museums           33\n",
      "Transport                    43\n",
      "station_count                 2\n",
      "Name: h3_code, dtype: int64\n"
     ]
    }
   ],
   "source": [
    "MUC_find_max_df = MUC_compare_df.drop(['Unnamed: 0','h3_code','total_poi', 'h3_area'], axis= 1)\n",
    "\n",
    "MUC_max_per_row= MUC_find_max_df.idxmax(axis=1)\n",
    "\n",
    "MUC_compare_df['max_category'] = MUC_max_per_row\n",
    "\n",
    "MUC_count_of_cat_max = MUC_compare_df.groupby('max_category')['h3_code'].nunique()\n",
    "\n",
    "print(MUC_count_of_cat_max)"
   ]
  },
  {
   "cell_type": "code",
   "execution_count": 72,
   "metadata": {},
   "outputs": [
    {
     "name": "stdout",
     "output_type": "stream",
     "text": [
      "max_category\n",
      "Accommodations              13\n",
      "Business_and_Services      169\n",
      "Eat_and_Drink                2\n",
      "Facilities                  42\n",
      "Going_Out-Entertainment      1\n",
      "Shopping                    16\n",
      "Sights_and_Museums          11\n",
      "Transport                   16\n",
      "station_count                1\n",
      "Name: h3_code, dtype: int64\n"
     ]
    }
   ],
   "source": [
    "PA_find_max_df = PA_compare_df.drop(['Unnamed: 0','h3_code','total_poi', 'h3_area'], axis= 1)\n",
    "PA_max_per_row= PA_find_max_df.idxmax(axis=1)\n",
    "PA_compare_df['max_category'] = PA_max_per_row\n",
    "PA_count_of_cat_max = PA_compare_df.groupby('max_category')['h3_code'].nunique()\n",
    "print(PA_count_of_cat_max)"
   ]
  },
  {
   "cell_type": "code",
   "execution_count": 81,
   "metadata": {},
   "outputs": [],
   "source": [
    "def MUC_percent_of_shopping(row):\n",
    "    return round(row['Shopping'] / row['total_poi'] * 100,2)\n",
    "def PA_percent_of_shopping(row):\n",
    "    return round(row['Shopping'] / row['total_poi'] * 100,2)\n",
    "\n",
    "MUC_compare_df['Shopping_percent'] = MUC_compare_df.apply(lambda row : MUC_percent_of_shopping(row), axis=1)\n",
    "PA_compare_df['Shopping_percent'] = PA_compare_df.apply(lambda row : PA_percent_of_shopping(row), axis=1)\n"
   ]
  },
  {
   "cell_type": "code",
   "execution_count": 90,
   "metadata": {},
   "outputs": [
    {
     "data": {
      "text/html": [
       "<div>\n",
       "<style scoped>\n",
       "    .dataframe tbody tr th:only-of-type {\n",
       "        vertical-align: middle;\n",
       "    }\n",
       "\n",
       "    .dataframe tbody tr th {\n",
       "        vertical-align: top;\n",
       "    }\n",
       "\n",
       "    .dataframe thead th {\n",
       "        text-align: right;\n",
       "    }\n",
       "</style>\n",
       "<table border=\"1\" class=\"dataframe\">\n",
       "  <thead>\n",
       "    <tr style=\"text-align: right;\">\n",
       "      <th></th>\n",
       "      <th>Unnamed: 0</th>\n",
       "      <th>h3_code</th>\n",
       "      <th>total_poi</th>\n",
       "      <th>station_count</th>\n",
       "      <th>Eat_and_Drink</th>\n",
       "      <th>Going_Out-Entertainment</th>\n",
       "      <th>Sights_and_Museums</th>\n",
       "      <th>Transport</th>\n",
       "      <th>Accommodations</th>\n",
       "      <th>Shopping</th>\n",
       "      <th>Business_and_Services</th>\n",
       "      <th>Facilities</th>\n",
       "      <th>Areas_and_Buildings</th>\n",
       "      <th>h3_area</th>\n",
       "      <th>max_category</th>\n",
       "      <th>Shopping_percent</th>\n",
       "    </tr>\n",
       "  </thead>\n",
       "  <tbody>\n",
       "    <tr>\n",
       "      <th>0</th>\n",
       "      <td>0</td>\n",
       "      <td>891f8d7ad83ffff</td>\n",
       "      <td>23</td>\n",
       "      <td>0</td>\n",
       "      <td>0</td>\n",
       "      <td>1</td>\n",
       "      <td>0</td>\n",
       "      <td>2</td>\n",
       "      <td>2</td>\n",
       "      <td>2</td>\n",
       "      <td>11</td>\n",
       "      <td>5</td>\n",
       "      <td>0</td>\n",
       "      <td>Low-area</td>\n",
       "      <td>Business_and_Services</td>\n",
       "      <td>8.70</td>\n",
       "    </tr>\n",
       "    <tr>\n",
       "      <th>1</th>\n",
       "      <td>23</td>\n",
       "      <td>891f8d44b07ffff</td>\n",
       "      <td>98</td>\n",
       "      <td>1</td>\n",
       "      <td>2</td>\n",
       "      <td>0</td>\n",
       "      <td>0</td>\n",
       "      <td>0</td>\n",
       "      <td>0</td>\n",
       "      <td>10</td>\n",
       "      <td>71</td>\n",
       "      <td>15</td>\n",
       "      <td>0</td>\n",
       "      <td>High-area</td>\n",
       "      <td>Business_and_Services</td>\n",
       "      <td>10.20</td>\n",
       "    </tr>\n",
       "    <tr>\n",
       "      <th>2</th>\n",
       "      <td>121</td>\n",
       "      <td>891f8d4584bffff</td>\n",
       "      <td>57</td>\n",
       "      <td>0</td>\n",
       "      <td>3</td>\n",
       "      <td>1</td>\n",
       "      <td>1</td>\n",
       "      <td>1</td>\n",
       "      <td>0</td>\n",
       "      <td>7</td>\n",
       "      <td>32</td>\n",
       "      <td>12</td>\n",
       "      <td>0</td>\n",
       "      <td>High-area</td>\n",
       "      <td>Business_and_Services</td>\n",
       "      <td>12.28</td>\n",
       "    </tr>\n",
       "    <tr>\n",
       "      <th>3</th>\n",
       "      <td>178</td>\n",
       "      <td>891f8d7b44bffff</td>\n",
       "      <td>37</td>\n",
       "      <td>0</td>\n",
       "      <td>1</td>\n",
       "      <td>0</td>\n",
       "      <td>0</td>\n",
       "      <td>3</td>\n",
       "      <td>2</td>\n",
       "      <td>3</td>\n",
       "      <td>22</td>\n",
       "      <td>6</td>\n",
       "      <td>0</td>\n",
       "      <td>High-area</td>\n",
       "      <td>Business_and_Services</td>\n",
       "      <td>8.11</td>\n",
       "    </tr>\n",
       "    <tr>\n",
       "      <th>4</th>\n",
       "      <td>215</td>\n",
       "      <td>891f8d450b3ffff</td>\n",
       "      <td>47</td>\n",
       "      <td>0</td>\n",
       "      <td>1</td>\n",
       "      <td>0</td>\n",
       "      <td>0</td>\n",
       "      <td>2</td>\n",
       "      <td>0</td>\n",
       "      <td>8</td>\n",
       "      <td>32</td>\n",
       "      <td>4</td>\n",
       "      <td>0</td>\n",
       "      <td>High-area</td>\n",
       "      <td>Business_and_Services</td>\n",
       "      <td>17.02</td>\n",
       "    </tr>\n",
       "  </tbody>\n",
       "</table>\n",
       "</div>"
      ],
      "text/plain": [
       "   Unnamed: 0          h3_code  total_poi  station_count  Eat_and_Drink  \\\n",
       "0           0  891f8d7ad83ffff         23              0              0   \n",
       "1          23  891f8d44b07ffff         98              1              2   \n",
       "2         121  891f8d4584bffff         57              0              3   \n",
       "3         178  891f8d7b44bffff         37              0              1   \n",
       "4         215  891f8d450b3ffff         47              0              1   \n",
       "\n",
       "   Going_Out-Entertainment  Sights_and_Museums  Transport  Accommodations  \\\n",
       "0                        1                   0          2               2   \n",
       "1                        0                   0          0               0   \n",
       "2                        1                   1          1               0   \n",
       "3                        0                   0          3               2   \n",
       "4                        0                   0          2               0   \n",
       "\n",
       "   Shopping  Business_and_Services  Facilities  Areas_and_Buildings  \\\n",
       "0         2                     11           5                    0   \n",
       "1        10                     71          15                    0   \n",
       "2         7                     32          12                    0   \n",
       "3         3                     22           6                    0   \n",
       "4         8                     32           4                    0   \n",
       "\n",
       "     h3_area           max_category  Shopping_percent  \n",
       "0   Low-area  Business_and_Services              8.70  \n",
       "1  High-area  Business_and_Services             10.20  \n",
       "2  High-area  Business_and_Services             12.28  \n",
       "3  High-area  Business_and_Services              8.11  \n",
       "4  High-area  Business_and_Services             17.02  "
      ]
     },
     "execution_count": 90,
     "metadata": {},
     "output_type": "execute_result"
    }
   ],
   "source": [
    "MUC_compare_df.head()"
   ]
  },
  {
   "cell_type": "code",
   "execution_count": 88,
   "metadata": {},
   "outputs": [
    {
     "data": {
      "text/plain": [
       "count    271.000000\n",
       "mean       9.271808\n",
       "std       19.564944\n",
       "min        0.000000\n",
       "25%        0.000000\n",
       "50%        0.000000\n",
       "75%       11.110000\n",
       "max      100.000000\n",
       "Name: Shopping_percent, dtype: float64"
      ]
     },
     "execution_count": 88,
     "metadata": {},
     "output_type": "execute_result"
    }
   ],
   "source": [
    "PA_compare_df.Shopping_percent.describe()"
   ]
  },
  {
   "cell_type": "code",
   "execution_count": 89,
   "metadata": {},
   "outputs": [
    {
     "data": {
      "text/plain": [
       "count    2480.000000\n",
       "mean       12.894407\n",
       "std        13.110539\n",
       "min         0.000000\n",
       "25%         3.030000\n",
       "50%        11.110000\n",
       "75%        18.750000\n",
       "max       100.000000\n",
       "Name: Shopping_percent, dtype: float64"
      ]
     },
     "execution_count": 89,
     "metadata": {},
     "output_type": "execute_result"
    }
   ],
   "source": [
    "MUC_compare_df.Shopping_percent.describe()"
   ]
  },
  {
   "cell_type": "code",
   "execution_count": 73,
   "metadata": {},
   "outputs": [],
   "source": [
    "\n",
    "# fig, ax = plt.subplots(figsize=(10,10))\n",
    "# sb.heatmap(PA_corr,\n",
    "#             xticklabels=PA_corr.columns,\n",
    "#             yticklabels=PA_corr.columns,\n",
    "#             cmap='RdBu_r',\n",
    "#             annot=True,\n",
    "#             linewidth=1.5)"
   ]
  },
  {
   "cell_type": "code",
   "execution_count": 74,
   "metadata": {},
   "outputs": [],
   "source": [
    "# fig, ax = plt.subplots(figsize=(10,10))\n",
    "# sb.heatmap(MUC_corr,\n",
    "#             xticklabels=MUC_corr.columns,\n",
    "#             yticklabels=MUC_corr.columns,\n",
    "#             cmap='RdBu_r',\n",
    "#             annot=True,\n",
    "#             linewidth=1.5)"
   ]
  },
  {
   "cell_type": "code",
   "execution_count": 75,
   "metadata": {},
   "outputs": [],
   "source": [
    "# #table_name = 'nd_pa_all_poi_df'\n",
    "# # Write records stored in a dataframe to SQL database\n",
    "# if engine!=None:\n",
    "#     try:\n",
    "#         PA_df.to_sql(name='nd_pa_all_poi_df', # Name of SQL table\n",
    "#                         con=engine, # Engine or connection\n",
    "#                         if_exists='replace', # Drop the table before inserting new values \n",
    "#                         index=False, # Write DataFrame index as a column\n",
    "#                         chunksize=5000, # Specify the number of rows in each batch to be written at a time\n",
    "#                         method='multi') # Pass multiple values in a single INSERT clause\n",
    "#         print(f\"The nd_pa_all_poi_df table was imported successfully.\")\n",
    "#     # Error handling\n",
    "#     except (Exception, psycopg2.DatabaseError) as error:\n",
    "#         print(error)\n",
    "#         engine = None\n",
    "\n",
    "# if engine!=None:\n",
    "#     try:\n",
    "#         MUC_df.to_sql(name='nd_muc_all_poi_df', # Name of SQL table\n",
    "#                         con=engine, # Engine or connection\n",
    "#                         if_exists='replace', # Drop the table before inserting new values \n",
    "#                         index=False, # Write DataFrame index as a column\n",
    "#                         chunksize=5000, # Specify the number of rows in each batch to be written at a time\n",
    "#                         method='multi') # Pass multiple values in a single INSERT clause\n",
    "#         print(f\"The nd_muc_all_poi_df table was imported successfully.\")\n",
    "#     # Error handling\n",
    "#     except (Exception, psycopg2.DatabaseError) as error:\n",
    "#         print(error)\n",
    "#         engine = None    \n",
    "\n",
    "# if engine!=None:\n",
    "#     try:\n",
    "#         MUC_compare_df.to_sql(name='nd_muc_compare_poi_df', # Name of SQL table\n",
    "#                         con=engine, # Engine or connection\n",
    "#                         if_exists='replace', # Drop the table before inserting new values \n",
    "#                         index=False, # Write DataFrame index as a column\n",
    "#                         chunksize=5000, # Specify the number of rows in each batch to be written at a time\n",
    "#                         method='multi') # Pass multiple values in a single INSERT clause\n",
    "#         print(f\"The nd_muc_compare_poi_df table was imported successfully.\")\n",
    "#     # Error handling\n",
    "#     except (Exception, psycopg2.DatabaseError) as error:\n",
    "#         print(error)\n",
    "#         engine = None    \n",
    "\n",
    "# if engine!=None:\n",
    "#     try:\n",
    "#         PA_compare_df.to_sql(name='nd_pa_compare_poi_df', # Name of SQL table\n",
    "#                         con=engine, # Engine or connection\n",
    "#                         if_exists='replace', # Drop the table before inserting new values \n",
    "#                         index=False, # Write DataFrame index as a column\n",
    "#                         chunksize=5000, # Specify the number of rows in each batch to be written at a time\n",
    "#                         method='multi') # Pass multiple values in a single INSERT clause\n",
    "#         print(f\"The nd_pa_compare_poi_df table was imported successfully.\")\n",
    "#     # Error handling\n",
    "#     except (Exception, psycopg2.DatabaseError) as error:\n",
    "#         print(error)\n",
    "#         engine = None           \n",
    "\n"
   ]
  },
  {
   "cell_type": "code",
   "execution_count": null,
   "metadata": {},
   "outputs": [],
   "source": []
  }
 ],
 "metadata": {
  "interpreter": {
   "hash": "e90ca5e0c4747f62b22fb91b9a1c014c884d23ee898efe3f2ec66be015ea02ff"
  },
  "kernelspec": {
   "display_name": "Python 3.8.5 64-bit ('sql-practice': conda)",
   "language": "python",
   "name": "python3"
  },
  "language_info": {
   "codemirror_mode": {
    "name": "ipython",
    "version": 3
   },
   "file_extension": ".py",
   "mimetype": "text/x-python",
   "name": "python",
   "nbconvert_exporter": "python",
   "pygments_lexer": "ipython3",
   "version": "3.8.11"
  },
  "orig_nbformat": 4
 },
 "nbformat": 4,
 "nbformat_minor": 2
}
