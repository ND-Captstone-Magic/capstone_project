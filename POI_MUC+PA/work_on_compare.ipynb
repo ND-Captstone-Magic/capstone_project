{
 "cells": [
  {
   "cell_type": "code",
   "execution_count": 1,
   "metadata": {},
   "outputs": [],
   "source": [
    "import pandas as pd\n",
    "import seaborn as sb\n",
    "import matplotlib.pyplot as plt\n",
    "import psycopg2\n",
    "from sql import engine"
   ]
  },
  {
   "cell_type": "code",
   "execution_count": 12,
   "metadata": {},
   "outputs": [],
   "source": [
    "MUC_compare_df = pd.read_csv('MUC_compare_df.csv')\n",
    "PA_compare_df = pd.read_csv('PA_compare_df.csv')\n",
    "MUC_df = pd.read_csv('MUC_poi_df.csv')\n",
    "PA_df = pd.read_csv('PA_poi_df.csv')\n",
    "charging_df = pd.read_csv('../PA_charging/PA_charging_data.csv')"
   ]
  },
  {
   "cell_type": "code",
   "execution_count": 3,
   "metadata": {},
   "outputs": [],
   "source": [
    "#MUC_compare_df.groupby(['h3_area', 'station_count']).mean()\n",
    "next_charging_station_MUC = MUC_compare_df.sort_values(['total_poi', 'station_count', 'max_category'], ascending=[False, True, False]).head(100)"
   ]
  },
  {
   "cell_type": "code",
   "execution_count": 4,
   "metadata": {},
   "outputs": [],
   "source": [
    "next_charging_station_MUC.to_csv('MUC_next_station.csv', sep=',')"
   ]
  },
  {
   "cell_type": "code",
   "execution_count": 5,
   "metadata": {},
   "outputs": [],
   "source": [
    "# #table_name = 'nd_pa_all_poi_df'\n",
    "# # Write records stored in a dataframe to SQL database\n",
    "# if engine!=None:\n",
    "#     try:\n",
    "#         PA_df.to_sql(name='nd_pa_all_poi_df', # Name of SQL table\n",
    "#                         con=engine, # Engine or connection\n",
    "#                         if_exists='replace', # Drop the table before inserting new values \n",
    "#                         index=False, # Write DataFrame index as a column\n",
    "#                         chunksize=5000, # Specify the number of rows in each batch to be written at a time\n",
    "#                         method='multi') # Pass multiple values in a single INSERT clause\n",
    "#         print(f\"The nd_pa_all_poi_df table was imported successfully.\")\n",
    "#     # Error handling\n",
    "#     except (Exception, psycopg2.DatabaseError) as error:\n",
    "#         print(error)\n",
    "#         engine = None\n",
    "\n",
    "# if engine!=None:\n",
    "#     try:\n",
    "#         MUC_df.to_sql(name='nd_muc_all_poi_df', # Name of SQL table\n",
    "#                         con=engine, # Engine or connection\n",
    "#                         if_exists='replace', # Drop the table before inserting new values \n",
    "#                         index=False, # Write DataFrame index as a column\n",
    "#                         chunksize=5000, # Specify the number of rows in each batch to be written at a time\n",
    "#                         method='multi') # Pass multiple values in a single INSERT clause\n",
    "#         print(f\"The nd_muc_all_poi_df table was imported successfully.\")\n",
    "#     # Error handling\n",
    "#     except (Exception, psycopg2.DatabaseError) as error:\n",
    "#         print(error)\n",
    "#         engine = None    \n",
    "\n",
    "# if engine!=None:\n",
    "#     try:\n",
    "#         MUC_compare_df.to_sql(name='nd_muc_compare_poi_df', # Name of SQL table\n",
    "#                         con=engine, # Engine or connection\n",
    "#                         if_exists='replace', # Drop the table before inserting new values \n",
    "#                         index=False, # Write DataFrame index as a column\n",
    "#                         chunksize=5000, # Specify the number of rows in each batch to be written at a time\n",
    "#                         method='multi') # Pass multiple values in a single INSERT clause\n",
    "#         print(f\"The nd_muc_compare_poi_df table was imported successfully.\")\n",
    "#     # Error handling\n",
    "#     except (Exception, psycopg2.DatabaseError) as error:\n",
    "#         print(error)\n",
    "#         engine = None    \n",
    "\n",
    "# if engine!=None:\n",
    "#     try:\n",
    "#         PA_compare_df.to_sql(name='nd_pa_compare_poi_df', # Name of SQL table\n",
    "#                         con=engine, # Engine or connection\n",
    "#                         if_exists='replace', # Drop the table before inserting new values \n",
    "#                         index=False, # Write DataFrame index as a column\n",
    "#                         chunksize=5000, # Specify the number of rows in each batch to be written at a time\n",
    "#                         method='multi') # Pass multiple values in a single INSERT clause\n",
    "#         print(f\"The nd_pa_compare_poi_df table was imported successfully.\")\n",
    "#     # Error handling\n",
    "#     except (Exception, psycopg2.DatabaseError) as error:\n",
    "#         print(error)\n",
    "#         engine = None           \n",
    "\n"
   ]
  },
  {
   "cell_type": "code",
   "execution_count": 24,
   "metadata": {},
   "outputs": [
    {
     "data": {
      "text/plain": [
       "station_name\n",
       "PALO ALTO CA / BRYANT #1          2\n",
       "PALO ALTO CA / BRYANT #2          2\n",
       "PALO ALTO CA / BRYANT #3          2\n",
       "PALO ALTO CA / BRYANT #4          2\n",
       "PALO ALTO CA / BRYANT #5          2\n",
       "PALO ALTO CA / BRYANT #6          2\n",
       "PALO ALTO CA / CAMBRIDGE #1       2\n",
       "PALO ALTO CA / CAMBRIDGE #2       2\n",
       "PALO ALTO CA / CAMBRIDGE #3       2\n",
       "PALO ALTO CA / CAMBRIDGE #4       4\n",
       "PALO ALTO CA / CAMBRIDGE #5       2\n",
       "PALO ALTO CA / HAMILTON #1        2\n",
       "PALO ALTO CA / HAMILTON #2        2\n",
       "PALO ALTO CA / HIGH #1            2\n",
       "PALO ALTO CA / HIGH #2            2\n",
       "PALO ALTO CA / HIGH #3            2\n",
       "PALO ALTO CA / HIGH #4            2\n",
       "PALO ALTO CA / MPL #1             1\n",
       "PALO ALTO CA / MPL #2             1\n",
       "PALO ALTO CA / MPL #3             1\n",
       "PALO ALTO CA / MPL #4             1\n",
       "PALO ALTO CA / MPL #5             2\n",
       "PALO ALTO CA / MPL #6             2\n",
       "PALO ALTO CA / RINCONADA LIB 1    1\n",
       "PALO ALTO CA / RINCONADA LIB 2    2\n",
       "PALO ALTO CA / RINCONADA LIB 3    2\n",
       "PALO ALTO CA / TED THOMPSON #1    2\n",
       "PALO ALTO CA / TED THOMPSON #2    4\n",
       "PALO ALTO CA / TED THOMPSON #3    2\n",
       "PALO ALTO CA / TED THOMPSON #4    2\n",
       "PALO ALTO CA / WEBSTER #1         2\n",
       "PALO ALTO CA / WEBSTER #2         2\n",
       "PALO ALTO CA / WEBSTER #3         2\n",
       "Name: unique_plug_id, dtype: int64"
      ]
     },
     "execution_count": 24,
     "metadata": {},
     "output_type": "execute_result"
    }
   ],
   "source": [
    "charging_df.groupby('station_name')['unique_plug_id'].nunique()"
   ]
  },
  {
   "cell_type": "code",
   "execution_count": null,
   "metadata": {},
   "outputs": [],
   "source": []
  }
 ],
 "metadata": {
  "interpreter": {
   "hash": "e90ca5e0c4747f62b22fb91b9a1c014c884d23ee898efe3f2ec66be015ea02ff"
  },
  "kernelspec": {
   "display_name": "Python 3.8.5 64-bit ('sql-practice': conda)",
   "language": "python",
   "name": "python3"
  },
  "language_info": {
   "codemirror_mode": {
    "name": "ipython",
    "version": 3
   },
   "file_extension": ".py",
   "mimetype": "text/x-python",
   "name": "python",
   "nbconvert_exporter": "python",
   "pygments_lexer": "ipython3",
   "version": "3.8.11"
  },
  "orig_nbformat": 4
 },
 "nbformat": 4,
 "nbformat_minor": 2
}
