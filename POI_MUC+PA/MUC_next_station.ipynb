{
 "cells": [
  {
   "cell_type": "code",
   "execution_count": 1,
   "source": [
    "import pandas as pd\n",
    "import requests\n",
    "import json"
   ],
   "outputs": [],
   "metadata": {}
  },
  {
   "cell_type": "code",
   "execution_count": 2,
   "source": [
    "MUC_compare_df = pd.read_csv('MUC_compare_df.csv')\n",
    "PA_compare_df = pd.read_csv('PA_compare_df.csv')\n",
    "MUC_df = pd.read_csv('MUC_poi_df.csv')\n",
    "PA_df = pd.read_csv('PA_poi_df.csv')\n",
    "charging_df = pd.read_csv('../PA_charging/PA_charging_data.csv')"
   ],
   "outputs": [],
   "metadata": {}
  },
  {
   "cell_type": "code",
   "execution_count": 8,
   "source": [
    "MUC_compare_df."
   ],
   "outputs": [
    {
     "output_type": "stream",
     "name": "stdout",
     "text": [
      "<class 'pandas.core.frame.DataFrame'>\n",
      "RangeIndex: 2480 entries, 0 to 2479\n",
      "Data columns (total 19 columns):\n",
      " #   Column                   Non-Null Count  Dtype  \n",
      "---  ------                   --------------  -----  \n",
      " 0   Unnamed: 0               2480 non-null   int64  \n",
      " 1   h3_code                  2480 non-null   object \n",
      " 2   total_poi                2480 non-null   int64  \n",
      " 3   station_count            2480 non-null   int64  \n",
      " 4   Eat_and_Drink            2480 non-null   int64  \n",
      " 5   Going_Out-Entertainment  2480 non-null   int64  \n",
      " 6   Sights_and_Museums       2480 non-null   int64  \n",
      " 7   Transport                2480 non-null   int64  \n",
      " 8   Accommodations           2480 non-null   int64  \n",
      " 9   Shopping                 2480 non-null   int64  \n",
      " 10  Business_and_Services    2480 non-null   int64  \n",
      " 11  Facilities               2480 non-null   int64  \n",
      " 12  Areas_and_Buildings      2480 non-null   int64  \n",
      " 13  h3_area                  2480 non-null   object \n",
      " 14  Shopping_percent         2480 non-null   float64\n",
      " 15  Transport_percent        2480 non-null   float64\n",
      " 16  Business_percent         2480 non-null   float64\n",
      " 17  Eat_percent              2480 non-null   float64\n",
      " 18  max_category             2480 non-null   object \n",
      "dtypes: float64(4), int64(12), object(3)\n",
      "memory usage: 368.2+ KB\n"
     ]
    }
   ],
   "metadata": {}
  },
  {
   "cell_type": "code",
   "execution_count": 3,
   "source": [
    "MUC_compare_df.h3_area.unique()"
   ],
   "outputs": [
    {
     "output_type": "execute_result",
     "data": {
      "text/plain": [
       "array(['Low-area', 'High-area'], dtype=object)"
      ]
     },
     "metadata": {},
     "execution_count": 3
    }
   ],
   "metadata": {}
  },
  {
   "cell_type": "code",
   "execution_count": 13,
   "source": [
    "MUC_high_area_df = MUC_compare_df.where(MUC_compare_df.h3_area =='High-area').sort_values(['total_poi', 'station_count', 'max_category'], ascending=[False, True, False]).dropna()\n",
    "MUC_low_area_df = MUC_compare_df.where(MUC_compare_df.h3_area =='Low-area').sort_values(['total_poi', 'station_count', 'max_category'], ascending=[False, True, False]).dropna()"
   ],
   "outputs": [],
   "metadata": {}
  },
  {
   "cell_type": "code",
   "execution_count": 9,
   "source": [
    "MUC_high_area_df_no_station = MUC_compare_df.query('h3_area ==\"High-area\" and station_count == 0').sort_values(['total_poi', 'station_count', 'max_category'], ascending=[False, True, False]).dropna()\n",
    "#MUC_low_area_df_no_station = MUC_compare_df.where((MUC_compare_df.h3_area =='Low-area') and (MUC_compare_df.station_count >= 0)).sort_values(['total_poi', 'station_count', 'max_category'], ascending=[False, True, False]).dropna()"
   ],
   "outputs": [],
   "metadata": {}
  },
  {
   "cell_type": "code",
   "execution_count": 21,
   "source": [
    "# MUC_high_area_df_no_station = MUC_compare_df.where((MUC_compare_df.h3_area =='High-area') and (MUC_compare_df.station_count >= 0)).sort_values(['total_poi', 'station_count', 'max_category'], ascending=[False, True, False]).dropna()\n",
    "# MUC_low_area_df_no_station = MUC_compare_df.where((MUC_compare_df.h3_area =='Low-area') and (MUC_compare_df.station_count >= 0)).sort_values(['total_poi', 'station_count', 'max_category'], ascending=[False, True, False]).dropna()"
   ],
   "outputs": [],
   "metadata": {}
  },
  {
   "cell_type": "code",
   "execution_count": 15,
   "source": [
    "MUC_low_area_df.info()"
   ],
   "outputs": [
    {
     "output_type": "stream",
     "name": "stdout",
     "text": [
      "<class 'pandas.core.frame.DataFrame'>\n",
      "Int64Index: 1355 entries, 107 to 2037\n",
      "Data columns (total 19 columns):\n",
      " #   Column                   Non-Null Count  Dtype  \n",
      "---  ------                   --------------  -----  \n",
      " 0   Unnamed: 0               1355 non-null   float64\n",
      " 1   h3_code                  1355 non-null   object \n",
      " 2   total_poi                1355 non-null   float64\n",
      " 3   station_count            1355 non-null   float64\n",
      " 4   Eat_and_Drink            1355 non-null   float64\n",
      " 5   Going_Out-Entertainment  1355 non-null   float64\n",
      " 6   Sights_and_Museums       1355 non-null   float64\n",
      " 7   Transport                1355 non-null   float64\n",
      " 8   Accommodations           1355 non-null   float64\n",
      " 9   Shopping                 1355 non-null   float64\n",
      " 10  Business_and_Services    1355 non-null   float64\n",
      " 11  Facilities               1355 non-null   float64\n",
      " 12  Areas_and_Buildings      1355 non-null   float64\n",
      " 13  h3_area                  1355 non-null   object \n",
      " 14  Shopping_percent         1355 non-null   float64\n",
      " 15  Transport_percent        1355 non-null   float64\n",
      " 16  Business_percent         1355 non-null   float64\n",
      " 17  Eat_percent              1355 non-null   float64\n",
      " 18  max_category             1355 non-null   object \n",
      "dtypes: float64(16), object(3)\n",
      "memory usage: 211.7+ KB\n"
     ]
    }
   ],
   "metadata": {}
  },
  {
   "cell_type": "code",
   "execution_count": 7,
   "source": [
    "MUC_is_station = MUC_compare_df.where(MUC_compare_df.station_count >= 1).dropna()"
   ],
   "outputs": [],
   "metadata": {}
  },
  {
   "cell_type": "code",
   "execution_count": 8,
   "source": [
    "MUC_is_station.info()"
   ],
   "outputs": [
    {
     "output_type": "stream",
     "name": "stdout",
     "text": [
      "<class 'pandas.core.frame.DataFrame'>\n",
      "Int64Index: 366 entries, 1 to 2456\n",
      "Data columns (total 19 columns):\n",
      " #   Column                   Non-Null Count  Dtype  \n",
      "---  ------                   --------------  -----  \n",
      " 0   Unnamed: 0               366 non-null    float64\n",
      " 1   h3_code                  366 non-null    object \n",
      " 2   total_poi                366 non-null    float64\n",
      " 3   station_count            366 non-null    float64\n",
      " 4   Eat_and_Drink            366 non-null    float64\n",
      " 5   Going_Out-Entertainment  366 non-null    float64\n",
      " 6   Sights_and_Museums       366 non-null    float64\n",
      " 7   Transport                366 non-null    float64\n",
      " 8   Accommodations           366 non-null    float64\n",
      " 9   Shopping                 366 non-null    float64\n",
      " 10  Business_and_Services    366 non-null    float64\n",
      " 11  Facilities               366 non-null    float64\n",
      " 12  Areas_and_Buildings      366 non-null    float64\n",
      " 13  h3_area                  366 non-null    object \n",
      " 14  Shopping_percent         366 non-null    float64\n",
      " 15  Transport_percent        366 non-null    float64\n",
      " 16  Business_percent         366 non-null    float64\n",
      " 17  Eat_percent              366 non-null    float64\n",
      " 18  max_category             366 non-null    object \n",
      "dtypes: float64(16), object(3)\n",
      "memory usage: 57.2+ KB\n"
     ]
    }
   ],
   "metadata": {}
  },
  {
   "cell_type": "code",
   "execution_count": 5,
   "source": [
    "#MUC_high_area_df.info() # 1125 non null\n",
    "#MUC_low_area_df.info() # 1355 non null"
   ],
   "outputs": [],
   "metadata": {}
  },
  {
   "cell_type": "code",
   "execution_count": 6,
   "source": [
    "MUC_low_area_df.h3_code.count()"
   ],
   "outputs": [
    {
     "output_type": "execute_result",
     "data": {
      "text/plain": [
       "1355"
      ]
     },
     "metadata": {},
     "execution_count": 6
    }
   ],
   "metadata": {}
  },
  {
   "cell_type": "code",
   "execution_count": 7,
   "source": [
    "MUC_high_area_df.h3_code.count()"
   ],
   "outputs": [
    {
     "output_type": "execute_result",
     "data": {
      "text/plain": [
       "1125"
      ]
     },
     "metadata": {},
     "execution_count": 7
    }
   ],
   "metadata": {}
  },
  {
   "cell_type": "code",
   "execution_count": 8,
   "source": [
    "# next_charging_station_MUC = next_charging_station_MUC[[     'h3_code',\n",
    "#                                                             'total_poi', \n",
    "#                                                             'station_count',\n",
    "#                                                             'h3_area',\n",
    "#                                                             'max_category'\n",
    "#                 ]]"
   ],
   "outputs": [],
   "metadata": {}
  },
  {
   "cell_type": "code",
   "execution_count": 9,
   "source": [
    "MUC_high_cs_build_1 = MUC_high_area_df_no_station.head(50)\n",
    "MUC_high_cs_build_2 = MUC_high_area_df_no_station.iloc[50:100 , :].head(50)\n",
    "MUC_high_cs_build_3 = MUC_high_area_df_no_station.iloc[100:150 , :].head(50)\n",
    "MUC_high_cs_build_4= MUC_high_area_df_no_station.iloc[150:200 , :].head(50)\n",
    "MUC_high_cs_build_5 = MUC_high_area_df_no_station.iloc[200:250 , :].head(50)\n",
    "MUC_high_cs_build_6 = MUC_high_area_df_no_station.iloc[250:300 , :].head(50)\n",
    "MUC_high_cs_build_7 = MUC_high_area_df_no_station.iloc[300:350 , :].head(50)\n",
    "MUC_high_cs_build_8 = MUC_high_area_df_no_station.iloc[350:400 , :].head(50)\n",
    "MUC_high_cs_build_9 = MUC_high_area_df_no_station.iloc[400:450 , :].head(50)\n",
    "MUC_high_cs_build_10 = MUC_high_area_df_no_station.iloc[500:550 , :].head(50)\n",
    "MUC_high_cs_build_11 = MUC_high_area_df_no_station.iloc[550:600 , :].head(50)\n",
    "MUC_high_cs_build_11 = MUC_high_area_df_no_station.iloc[600:650 , :].head(50)\n",
    "\n"
   ],
   "outputs": [],
   "metadata": {}
  },
  {
   "cell_type": "code",
   "execution_count": 10,
   "source": [
    "MUC_high_area_df.head()"
   ],
   "outputs": [
    {
     "output_type": "execute_result",
     "data": {
      "text/html": [
       "<div>\n",
       "<style scoped>\n",
       "    .dataframe tbody tr th:only-of-type {\n",
       "        vertical-align: middle;\n",
       "    }\n",
       "\n",
       "    .dataframe tbody tr th {\n",
       "        vertical-align: top;\n",
       "    }\n",
       "\n",
       "    .dataframe thead th {\n",
       "        text-align: right;\n",
       "    }\n",
       "</style>\n",
       "<table border=\"1\" class=\"dataframe\">\n",
       "  <thead>\n",
       "    <tr style=\"text-align: right;\">\n",
       "      <th></th>\n",
       "      <th>Unnamed: 0</th>\n",
       "      <th>h3_code</th>\n",
       "      <th>total_poi</th>\n",
       "      <th>station_count</th>\n",
       "      <th>Eat_and_Drink</th>\n",
       "      <th>Going_Out-Entertainment</th>\n",
       "      <th>Sights_and_Museums</th>\n",
       "      <th>Transport</th>\n",
       "      <th>Accommodations</th>\n",
       "      <th>Shopping</th>\n",
       "      <th>Business_and_Services</th>\n",
       "      <th>Facilities</th>\n",
       "      <th>Areas_and_Buildings</th>\n",
       "      <th>h3_area</th>\n",
       "      <th>Shopping_percent</th>\n",
       "      <th>Transport_percent</th>\n",
       "      <th>Business_percent</th>\n",
       "      <th>Eat_percent</th>\n",
       "      <th>max_category</th>\n",
       "    </tr>\n",
       "  </thead>\n",
       "  <tbody>\n",
       "    <tr>\n",
       "      <th>824</th>\n",
       "      <td>28841.0</td>\n",
       "      <td>891f8d7aec7ffff</td>\n",
       "      <td>100.0</td>\n",
       "      <td>0.0</td>\n",
       "      <td>6.0</td>\n",
       "      <td>0.0</td>\n",
       "      <td>0.0</td>\n",
       "      <td>0.0</td>\n",
       "      <td>0.0</td>\n",
       "      <td>88.0</td>\n",
       "      <td>6.0</td>\n",
       "      <td>0.0</td>\n",
       "      <td>0.0</td>\n",
       "      <td>High-area</td>\n",
       "      <td>88.0</td>\n",
       "      <td>0.0</td>\n",
       "      <td>6.0</td>\n",
       "      <td>6.0</td>\n",
       "      <td>Shopping</td>\n",
       "    </tr>\n",
       "    <tr>\n",
       "      <th>883</th>\n",
       "      <td>30771.0</td>\n",
       "      <td>891f8d4482bffff</td>\n",
       "      <td>100.0</td>\n",
       "      <td>0.0</td>\n",
       "      <td>10.0</td>\n",
       "      <td>6.0</td>\n",
       "      <td>0.0</td>\n",
       "      <td>0.0</td>\n",
       "      <td>2.0</td>\n",
       "      <td>34.0</td>\n",
       "      <td>31.0</td>\n",
       "      <td>17.0</td>\n",
       "      <td>0.0</td>\n",
       "      <td>High-area</td>\n",
       "      <td>34.0</td>\n",
       "      <td>0.0</td>\n",
       "      <td>31.0</td>\n",
       "      <td>10.0</td>\n",
       "      <td>Shopping</td>\n",
       "    </tr>\n",
       "    <tr>\n",
       "      <th>9</th>\n",
       "      <td>359.0</td>\n",
       "      <td>891f8d44a37ffff</td>\n",
       "      <td>100.0</td>\n",
       "      <td>0.0</td>\n",
       "      <td>14.0</td>\n",
       "      <td>0.0</td>\n",
       "      <td>4.0</td>\n",
       "      <td>1.0</td>\n",
       "      <td>0.0</td>\n",
       "      <td>12.0</td>\n",
       "      <td>62.0</td>\n",
       "      <td>7.0</td>\n",
       "      <td>0.0</td>\n",
       "      <td>High-area</td>\n",
       "      <td>12.0</td>\n",
       "      <td>1.0</td>\n",
       "      <td>62.0</td>\n",
       "      <td>14.0</td>\n",
       "      <td>Business_and_Services</td>\n",
       "    </tr>\n",
       "    <tr>\n",
       "      <th>62</th>\n",
       "      <td>1801.0</td>\n",
       "      <td>891f8d7a99bffff</td>\n",
       "      <td>100.0</td>\n",
       "      <td>0.0</td>\n",
       "      <td>1.0</td>\n",
       "      <td>0.0</td>\n",
       "      <td>0.0</td>\n",
       "      <td>1.0</td>\n",
       "      <td>1.0</td>\n",
       "      <td>28.0</td>\n",
       "      <td>60.0</td>\n",
       "      <td>9.0</td>\n",
       "      <td>0.0</td>\n",
       "      <td>High-area</td>\n",
       "      <td>28.0</td>\n",
       "      <td>1.0</td>\n",
       "      <td>60.0</td>\n",
       "      <td>1.0</td>\n",
       "      <td>Business_and_Services</td>\n",
       "    </tr>\n",
       "    <tr>\n",
       "      <th>93</th>\n",
       "      <td>3036.0</td>\n",
       "      <td>891f8d4599bffff</td>\n",
       "      <td>100.0</td>\n",
       "      <td>0.0</td>\n",
       "      <td>10.0</td>\n",
       "      <td>5.0</td>\n",
       "      <td>0.0</td>\n",
       "      <td>2.0</td>\n",
       "      <td>0.0</td>\n",
       "      <td>21.0</td>\n",
       "      <td>55.0</td>\n",
       "      <td>7.0</td>\n",
       "      <td>0.0</td>\n",
       "      <td>High-area</td>\n",
       "      <td>21.0</td>\n",
       "      <td>2.0</td>\n",
       "      <td>55.0</td>\n",
       "      <td>10.0</td>\n",
       "      <td>Business_and_Services</td>\n",
       "    </tr>\n",
       "  </tbody>\n",
       "</table>\n",
       "</div>"
      ],
      "text/plain": [
       "     Unnamed: 0          h3_code  total_poi  station_count  Eat_and_Drink  \\\n",
       "824     28841.0  891f8d7aec7ffff      100.0            0.0            6.0   \n",
       "883     30771.0  891f8d4482bffff      100.0            0.0           10.0   \n",
       "9         359.0  891f8d44a37ffff      100.0            0.0           14.0   \n",
       "62       1801.0  891f8d7a99bffff      100.0            0.0            1.0   \n",
       "93       3036.0  891f8d4599bffff      100.0            0.0           10.0   \n",
       "\n",
       "     Going_Out-Entertainment  Sights_and_Museums  Transport  Accommodations  \\\n",
       "824                      0.0                 0.0        0.0             0.0   \n",
       "883                      6.0                 0.0        0.0             2.0   \n",
       "9                        0.0                 4.0        1.0             0.0   \n",
       "62                       0.0                 0.0        1.0             1.0   \n",
       "93                       5.0                 0.0        2.0             0.0   \n",
       "\n",
       "     Shopping  Business_and_Services  Facilities  Areas_and_Buildings  \\\n",
       "824      88.0                    6.0         0.0                  0.0   \n",
       "883      34.0                   31.0        17.0                  0.0   \n",
       "9        12.0                   62.0         7.0                  0.0   \n",
       "62       28.0                   60.0         9.0                  0.0   \n",
       "93       21.0                   55.0         7.0                  0.0   \n",
       "\n",
       "       h3_area  Shopping_percent  Transport_percent  Business_percent  \\\n",
       "824  High-area              88.0                0.0               6.0   \n",
       "883  High-area              34.0                0.0              31.0   \n",
       "9    High-area              12.0                1.0              62.0   \n",
       "62   High-area              28.0                1.0              60.0   \n",
       "93   High-area              21.0                2.0              55.0   \n",
       "\n",
       "     Eat_percent           max_category  \n",
       "824          6.0               Shopping  \n",
       "883         10.0               Shopping  \n",
       "9           14.0  Business_and_Services  \n",
       "62           1.0  Business_and_Services  \n",
       "93          10.0  Business_and_Services  "
      ]
     },
     "metadata": {},
     "execution_count": 10
    }
   ],
   "metadata": {}
  },
  {
   "cell_type": "code",
   "execution_count": 10,
   "source": [
    "MUC_high_cs_build_1.to_csv('./build/1_build_MUC.csv', sep=',')\n",
    "MUC_high_cs_build_2.to_csv('./build/2_build_MUC.csv', sep=',')\n",
    "MUC_high_cs_build_3.to_csv('./build/3_build_MUC.csv', sep=',')\n",
    "MUC_high_cs_build_4.to_csv('./build/4_build_MUC.csv', sep=',')\n",
    "MUC_high_cs_build_5.to_csv('./build/5_build_MUC.csv', sep=',')\n",
    "MUC_high_cs_build_6.to_csv('./build/6_build_MUC.csv', sep=',')\n",
    "MUC_high_cs_build_7.to_csv('./build/7_build_MUC.csv', sep=',')\n",
    "MUC_high_cs_build_8.to_csv('./build/8_build_MUC.csv', sep=',')\n",
    "MUC_high_cs_build_9.to_csv('./build/9_build_MUC.csv', sep=',')\n",
    "MUC_high_cs_build_10.to_csv('./build/10_build_MUC.csv', sep=',')\n",
    "MUC_high_cs_build_11.to_csv('./build/11_build_MUC.csv', sep=',')"
   ],
   "outputs": [],
   "metadata": {}
  },
  {
   "cell_type": "code",
   "execution_count": 15,
   "source": [
    "MUC_is_station.to_csv('./build/MUC_is_station.csv', sep=',')"
   ],
   "outputs": [],
   "metadata": {}
  },
  {
   "cell_type": "code",
   "execution_count": null,
   "source": [],
   "outputs": [],
   "metadata": {}
  }
 ],
 "metadata": {
  "interpreter": {
   "hash": "fbe0aead5cca8d2ea82be07e886227a87e9bb2a57fe7325eef0acd6ed9d1683b"
  },
  "kernelspec": {
   "name": "python3",
   "display_name": "Python 3.8.5 64-bit ('sql-practice': conda)"
  },
  "language_info": {
   "codemirror_mode": {
    "name": "ipython",
    "version": 3
   },
   "file_extension": ".py",
   "mimetype": "text/x-python",
   "name": "python",
   "nbconvert_exporter": "python",
   "pygments_lexer": "ipython3",
   "version": "3.8.5"
  },
  "orig_nbformat": 4
 },
 "nbformat": 4,
 "nbformat_minor": 2
}