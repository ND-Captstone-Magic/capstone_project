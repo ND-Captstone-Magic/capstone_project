{
 "cells": [
  {
   "cell_type": "code",
   "execution_count": 18,
   "metadata": {},
   "outputs": [],
   "source": [
    "import h3\n",
    "import pandas as pd\n",
    "import requests\n",
    "import json"
   ]
  },
  {
   "cell_type": "markdown",
   "metadata": {},
   "source": [
    "### #1 Get all PALO ALTO h3_codes "
   ]
  },
  {
   "cell_type": "code",
   "execution_count": 19,
   "metadata": {},
   "outputs": [],
   "source": [
    "# Use open street map to get the coordinates of Palo Alto\n",
    "# Set up connection details\n",
    "url_1 = 'https://nominatim.openstreetmap.org/search.php'\n",
    "params_2 = {\n",
    "'q':'paloalto+USA', \n",
    "'polygon_geojson':1,\n",
    "'format':'geojson'\n",
    "}\n",
    "#Call api\n",
    "geo_object = requests.get(url_1, params_2)\n",
    "# Create json object\n",
    "geo_json_object = json.loads(geo_object.content)\n",
    "# Extract geography polygon from nested json\n",
    "gea_feature = geo_json_object.get('features')[0].get('geometry')\n"
   ]
  },
  {
   "cell_type": "code",
   "execution_count": 20,
   "metadata": {},
   "outputs": [],
   "source": [
    "PA_h3_from_polyfill = h3.polyfill_geojson(gea_feature, res=9)\n",
    "\n",
    "PA_h3_list =[]\n",
    "for i in PA_h3_from_polyfill:\n",
    "    PA_h3_list.append(i)"
   ]
  },
  {
   "cell_type": "code",
   "execution_count": 22,
   "metadata": {},
   "outputs": [],
   "source": [
    "# Make DF for Palo alto for POI\n",
    "PA_dict = {\n",
    "    'city': 'PA',\n",
    "    'h3_code': PA_h3_list\n",
    "}\n",
    "PA_poi_df = pd.DataFrame(PA_dict)\n",
    "PA_unique_h3_code_list = PA_poi_df.h3_code.unique()"
   ]
  },
  {
   "cell_type": "markdown",
   "metadata": {},
   "source": [
    "### #2 Get MUNICH h3_codes"
   ]
  },
  {
   "cell_type": "code",
   "execution_count": 23,
   "metadata": {},
   "outputs": [],
   "source": [
    "url_1 = 'https://nominatim.openstreetmap.org/search.php'\n",
    "params_2 = {\n",
    "'q':f'munich', \n",
    "'polygon_geojson':1,\n",
    "'format':'geojson'\n",
    "}\n",
    "\n",
    "geo_object = requests.get(url_1, params_2)\n",
    "geo_json_object = json.loads(geo_object.content)\n",
    "geo_feature = geo_json_object.get('features')[0].get('geometry')"
   ]
  },
  {
   "cell_type": "code",
   "execution_count": 24,
   "metadata": {},
   "outputs": [],
   "source": [
    "# geo_feature gives back a multiPolygon\n",
    "# We can't work with it so we manipulate the dict\n",
    "\n",
    "manipulated_geo_feature = {\n",
    "    'type': 'Polygon',\n",
    "    'coordinates': geo_feature[\"coordinates\"][0]\n",
    "}"
   ]
  },
  {
   "cell_type": "code",
   "execution_count": 25,
   "metadata": {},
   "outputs": [],
   "source": [
    "MUC_h3_from_polyfill = h3.polyfill_geojson(manipulated_geo_feature, res=9)\n",
    "MUC_h3_list =[]\n",
    "for i in MUC_h3_from_polyfill:\n",
    "    MUC_h3_list.append(i)\n",
    "\n",
    "    # Make DF for Munich for POI\n",
    "MUC_dict = {\n",
    "    'city': 'MUC',\n",
    "    'h3_code': MUC_h3_list\n",
    "}\n",
    "MUC_poi_df = pd.DataFrame(MUC_dict)"
   ]
  },
  {
   "cell_type": "markdown",
   "metadata": {},
   "source": [
    "### #3 Get PALO ALTO all POI"
   ]
  },
  {
   "cell_type": "code",
   "execution_count": 34,
   "metadata": {},
   "outputs": [],
   "source": [
    "#find the center of every h3_code\n",
    "\n",
    "PA_geo_center_list = []\n",
    "\n",
    "for i in PA_h3_list:\n",
    "    k = list(h3.h3_to_geo(i))\n",
    "    PA_geo_center_list.append(k)\n",
    "\n",
    "PA_geo_center_list_string = []\n",
    "\n",
    "def make_string_geo():\n",
    "    for i in PA_geo_center_list:\n",
    "        string = str(i[0]) + ',' + str(i[1])\n",
    "        PA_geo_center_list_string.append(string)\n",
    "make_string_geo()"
   ]
  },
  {
   "cell_type": "markdown",
   "metadata": {},
   "source": [
    "Run below Code only if needed... instead read CSV \"PA_poi_df.csv\""
   ]
  },
  {
   "cell_type": "code",
   "execution_count": 35,
   "metadata": {},
   "outputs": [
    {
     "name": "stdout",
     "output_type": "stream",
     "text": [
      "POI`s found: 4395\n"
     ]
    }
   ],
   "source": [
    "\n",
    "\n",
    "# api_key= 'Z1XB-w87ksYmy5gJnj4gfLPJUJRkiyyPDLEtyjnMYy0'\n",
    "# # url_range = f'https://browse.search.hereapi.com/v1/browse?at={GEO}&in=circle:{GEO};r=700&limit=100&apiKey={api_key}'\n",
    "\n",
    "# PA_title_list = []\n",
    "# PA_cat_id_list = []\n",
    "# PA_cat_def_list = []\n",
    "# PA_cat_name_list = []\n",
    "# PA_lat_list = []\n",
    "# PA_lng_list = []\n",
    "# PA_source_geo = []\n",
    "# PA_h3_source_list = []\n",
    "\n",
    "\n",
    "# count = 0\n",
    "\n",
    "# for index, GEO in enumerate(PA_geo_center_list_string):\n",
    "#     resp = requests.get(url = f'https://browse.search.hereapi.com/v1/browse?at={GEO}&in=circle:{GEO};r=200&limit=100&apiKey={api_key}')\n",
    "#     data= resp.json()\n",
    "\n",
    "#     for i in data['items']:\n",
    "#         if 'categories' not in i:\n",
    "#             continue\n",
    "#         else:\n",
    "#             PA_title_list.append(str(i['title']))\n",
    "#             PA_cat_id_list.append(str(i['categories'][0]['id']))\n",
    "#             PA_cat_name_list.append(str(i['categories'][0]['name']))\n",
    "#             PA_lat_list.append(str(i['position']['lat']))\n",
    "#             PA_lng_list.append(str(i['position']['lng']))\n",
    "#             PA_source_geo.append(GEO)\n",
    "#             PA_h3_source_list.append(PA_h3_list[index])\n",
    "#             count +=1\n",
    "# print('POI`s found: ' + str(count))"
   ]
  },
  {
   "cell_type": "code",
   "execution_count": 36,
   "metadata": {},
   "outputs": [],
   "source": [
    "PA_here_dict = { 'title': PA_title_list, \n",
    "                'cat_id': PA_cat_id_list, \n",
    "                'cat_name': PA_cat_name_list, \n",
    "                'h3_source': PA_h3_source_list} \n",
    "PA_poi_df = pd.DataFrame(PA_here_dict)"
   ]
  },
  {
   "cell_type": "code",
   "execution_count": 39,
   "metadata": {},
   "outputs": [],
   "source": [
    "def make_cat_def(row):\n",
    "    if row['cat_id'][:1] == '1':\n",
    "        return 'Eat & Drink'\n",
    "    elif row['cat_id'][:1] == '2':\n",
    "        return 'Going Out-Entertainment'\n",
    "    elif row['cat_id'][:1] == '3':\n",
    "        return 'Sights and Museums'\n",
    "    elif row['cat_id'][:1] == '4':\n",
    "        return 'Transport'\n",
    "    elif row['cat_id'][:1] == '5':\n",
    "        return 'Accommodations'\n",
    "    elif row['cat_id'][:1] == '6':\n",
    "        return 'Shopping'\n",
    "    elif row['cat_id'][:1] == '7':\n",
    "        return 'Business and Services'\n",
    "    elif row['cat_id'][:1] == '8':\n",
    "        return 'Facilities'\n",
    "    elif row['cat_id'][:1] == '9':\n",
    "        return 'Areas and Buildings'\n",
    "\n",
    "PA_poi_df['cat_definition'] = PA_poi_df.apply(lambda row : make_cat_def(row), axis=1)"
   ]
  },
  {
   "cell_type": "code",
   "execution_count": 40,
   "metadata": {},
   "outputs": [],
   "source": [
    "PA_poi_df = PA_poi_df[[     'h3_source',\n",
    "                            'cat_definition', \n",
    "                            'cat_name',\n",
    "                            'title'\n",
    "                ]]"
   ]
  },
  {
   "cell_type": "code",
   "execution_count": 41,
   "metadata": {},
   "outputs": [],
   "source": [
    "PA_poi_df.to_csv('PA_poi_df.csv', sep=',')"
   ]
  },
  {
   "cell_type": "markdown",
   "metadata": {},
   "source": [
    "### #4 Get MUNICH all POI"
   ]
  },
  {
   "cell_type": "code",
   "execution_count": 42,
   "metadata": {},
   "outputs": [],
   "source": [
    "#find the center of every h3_code\n",
    "\n",
    "MUC_geo_center_list = []\n",
    "\n",
    "for i in MUC_h3_list:\n",
    "    k = list(h3.h3_to_geo(i))\n",
    "    MUC_geo_center_list.append(k)\n",
    "\n",
    "MUC_geo_center_list_string = []\n",
    "\n",
    "def make_string_geo():\n",
    "    for i in MUC_geo_center_list:\n",
    "        string = str(i[0]) + ',' + str(i[1])\n",
    "        MUC_geo_center_list_string.append(string)\n",
    "make_string_geo()"
   ]
  },
  {
   "cell_type": "code",
   "execution_count": 43,
   "metadata": {},
   "outputs": [
    {
     "name": "stdout",
     "output_type": "stream",
     "text": [
      "POI`s found: 89524\n"
     ]
    }
   ],
   "source": [
    "api_key= 'Z1XB-w87ksYmy5gJnj4gfLPJUJRkiyyPDLEtyjnMYy0'\n",
    "# url_range = f'https://browse.search.hereapi.com/v1/browse?at={GEO}&in=circle:{GEO};r=700&limit=100&apiKey={api_key}'\n",
    "\n",
    "MUC_title_list = []\n",
    "MUC_cat_id_list = []\n",
    "MUC_cat_name_list = []\n",
    "MUC_h3_source_list = []\n",
    "\n",
    "\n",
    "count = 0\n",
    "\n",
    "for index, GEO in enumerate(MUC_geo_center_list_string):\n",
    "    resp = requests.get(url = f'https://browse.search.hereapi.com/v1/browse?at={GEO}&in=circle:{GEO};r=200&limit=100&apiKey={api_key}')\n",
    "    data= resp.json()\n",
    "\n",
    "    for i in data['items']:\n",
    "        if 'categories' not in i:\n",
    "            continue\n",
    "        else:\n",
    "            MUC_title_list.append(str(i['title']))\n",
    "            MUC_cat_id_list.append(str(i['categories'][0]['id']))\n",
    "            MUC_cat_name_list.append(str(i['categories'][0]['name']))\n",
    "            MUC_h3_source_list.append(MUC_h3_list[index])\n",
    "            count +=1\n",
    "print('POI`s found: ' + str(count))"
   ]
  },
  {
   "cell_type": "code",
   "execution_count": 44,
   "metadata": {},
   "outputs": [],
   "source": [
    "MUC_here_dict = { 'title': MUC_title_list, \n",
    "                'cat_id': MUC_cat_id_list, \n",
    "                'cat_name': MUC_cat_name_list, \n",
    "                'h3_source': MUC_h3_source_list} \n",
    "MUC_poi_df = pd.DataFrame(MUC_here_dict)"
   ]
  },
  {
   "cell_type": "code",
   "execution_count": 45,
   "metadata": {},
   "outputs": [],
   "source": [
    "MUC_poi_df['cat_definition'] = MUC_poi_df.apply(lambda row : make_cat_def(row), axis=1)"
   ]
  },
  {
   "cell_type": "code",
   "execution_count": 46,
   "metadata": {},
   "outputs": [],
   "source": [
    "MUC_poi_df = MUC_poi_df[[       'h3_source',\n",
    "                                'cat_definition', \n",
    "                                'cat_name',\n",
    "                                'title'\n",
    "                ]]"
   ]
  },
  {
   "cell_type": "code",
   "execution_count": 47,
   "metadata": {},
   "outputs": [],
   "source": [
    "MUC_poi_df.to_csv('MUC_poi_df.csv', sep=',')"
   ]
  },
  {
   "cell_type": "code",
   "execution_count": null,
   "metadata": {},
   "outputs": [],
   "source": []
  }
 ],
 "metadata": {
  "interpreter": {
   "hash": "e90ca5e0c4747f62b22fb91b9a1c014c884d23ee898efe3f2ec66be015ea02ff"
  },
  "kernelspec": {
   "display_name": "Python 3.8.5 64-bit ('sql-practice': conda)",
   "language": "python",
   "name": "python3"
  },
  "language_info": {
   "codemirror_mode": {
    "name": "ipython",
    "version": 3
   },
   "file_extension": ".py",
   "mimetype": "text/x-python",
   "name": "python",
   "nbconvert_exporter": "python",
   "pygments_lexer": "ipython3",
   "version": "3.8.5"
  },
  "orig_nbformat": 4
 },
 "nbformat": 4,
 "nbformat_minor": 2
}
