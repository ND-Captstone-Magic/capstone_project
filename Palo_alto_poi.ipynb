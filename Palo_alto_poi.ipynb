{
 "cells": [
  {
   "cell_type": "code",
   "execution_count": 55,
   "metadata": {},
   "outputs": [],
   "source": [
    "import h3\n",
    "import requests\n",
    "import pandas as pd"
   ]
  },
  {
   "cell_type": "code",
   "execution_count": 56,
   "metadata": {},
   "outputs": [
    {
     "name": "stdout",
     "output_type": "stream",
     "text": [
      "https://browse.search.hereapi.com/v1/browse?at=37.44009132316512,-122.16042161897487&in=circle:37.44009132316512,-122.16042161897487;r=700&limit=100&apiKey=Z1XB-w87ksYmy5gJnj4gfLPJUJRkiyyPDLEtyjnMYy0\n"
     ]
    }
   ],
   "source": [
    "GEO='37.444572,-122.160309'\n",
    "GEO2 = '37.44009132316512,-122.16042161897487'\n",
    "api_key= 'Z1XB-w87ksYmy5gJnj4gfLPJUJRkiyyPDLEtyjnMYy0'\n",
    "url_range = f'https://browse.search.hereapi.com/v1/browse?at={GEO2}&in=circle:{GEO2};r=700&limit=100&apiKey={api_key}'\n",
    "print(url_range)"
   ]
  },
  {
   "cell_type": "code",
   "execution_count": 57,
   "metadata": {},
   "outputs": [],
   "source": [
    "resp = requests.get(url=url_range)\n",
    "data= resp.json()"
   ]
  },
  {
   "cell_type": "code",
   "execution_count": 58,
   "metadata": {},
   "outputs": [
    {
     "name": "stdout",
     "output_type": "stream",
     "text": [
      "Places nearby: 100\n"
     ]
    }
   ],
   "source": [
    "title_list = []\n",
    "cat_id_list = []\n",
    "cat_def_list = []\n",
    "cat_name_list = []\n",
    "lat_list = []\n",
    "lng_list = []\n",
    "\n",
    "count = 0\n",
    "for i in data['items']:\n",
    "    if 'categories' not in i:\n",
    "        continue\n",
    "    else:\n",
    "        title_list.append(str(i['title']))\n",
    "        cat_id_list.append(str(i['categories'][0]['id']))\n",
    "        cat_name_list.append(str(i['categories'][0]['name']))\n",
    "        lat_list.append(str(i['position']['lat']))\n",
    "        lng_list.append(str(i['position']['lng']))\n",
    "        count +=1\n",
    "print('Places nearby: ' + str(count))"
   ]
  },
  {
   "cell_type": "code",
   "execution_count": 59,
   "metadata": {},
   "outputs": [],
   "source": [
    "dict = {'title': title_list, 'cat_id': cat_id_list, 'cat_name': cat_name_list, 'latitude': lat_list, 'longitude': lng_list} \n",
    "cat_df = pd.DataFrame(dict)"
   ]
  },
  {
   "cell_type": "code",
   "execution_count": 60,
   "metadata": {},
   "outputs": [],
   "source": [
    "def make_cat_def(row):\n",
    "    if row['cat_id'][:3] == '100':\n",
    "        return 'Eat & Drink'\n",
    "    elif row['cat_id'][:3] == '200':\n",
    "        return 'Going Out-Entertainment'\n",
    "    elif row['cat_id'][:3] == '300':\n",
    "        return 'Sights and Museums'\n",
    "    elif row['cat_id'][:3] == '400':\n",
    "        return 'Transport'\n",
    "    elif row['cat_id'][:3] == '500':\n",
    "        return 'Accommodations'\n",
    "    elif row['cat_id'][:3] == '600':\n",
    "        return 'Shopping'\n",
    "    elif row['cat_id'][:3] == '700':\n",
    "        return 'Business and Services'\n",
    "    elif row['cat_id'][:3] == '800':\n",
    "        return 'Facilities'\n",
    "    elif row['cat_id'][:3] == '900':\n",
    "        return 'Areas and Buildings'"
   ]
  },
  {
   "cell_type": "code",
   "execution_count": 61,
   "metadata": {},
   "outputs": [],
   "source": [
    "cat_df['cat_definition'] = cat_df.apply(lambda row : make_cat_def(row), axis=1)"
   ]
  },
  {
   "cell_type": "code",
   "execution_count": 62,
   "metadata": {},
   "outputs": [
    {
     "data": {
      "text/html": [
       "<div>\n",
       "<style scoped>\n",
       "    .dataframe tbody tr th:only-of-type {\n",
       "        vertical-align: middle;\n",
       "    }\n",
       "\n",
       "    .dataframe tbody tr th {\n",
       "        vertical-align: top;\n",
       "    }\n",
       "\n",
       "    .dataframe thead th {\n",
       "        text-align: right;\n",
       "    }\n",
       "</style>\n",
       "<table border=\"1\" class=\"dataframe\">\n",
       "  <thead>\n",
       "    <tr style=\"text-align: right;\">\n",
       "      <th></th>\n",
       "      <th>title</th>\n",
       "      <th>cat_id</th>\n",
       "      <th>cat_name</th>\n",
       "      <th>latitude</th>\n",
       "      <th>longitude</th>\n",
       "      <th>cat_definition</th>\n",
       "    </tr>\n",
       "  </thead>\n",
       "  <tbody>\n",
       "    <tr>\n",
       "      <th>0</th>\n",
       "      <td>Megan K. Palmisano, M.D</td>\n",
       "      <td>800-8000-0158</td>\n",
       "      <td>Medical Services/Clinics</td>\n",
       "      <td>37.44011</td>\n",
       "      <td>-122.16117</td>\n",
       "      <td>Facilities</td>\n",
       "    </tr>\n",
       "    <tr>\n",
       "      <th>1</th>\n",
       "      <td>Noman Khan, MD - Sports and Spine Orthopedic S...</td>\n",
       "      <td>800-8000-0158</td>\n",
       "      <td>Medical Services/Clinics</td>\n",
       "      <td>37.44011</td>\n",
       "      <td>-122.16117</td>\n",
       "      <td>Facilities</td>\n",
       "    </tr>\n",
       "    <tr>\n",
       "      <th>2</th>\n",
       "      <td>William D. Brubaker, MD</td>\n",
       "      <td>800-8000-0155</td>\n",
       "      <td>Family/General Practice Physicians</td>\n",
       "      <td>37.44011</td>\n",
       "      <td>-122.16117</td>\n",
       "      <td>Facilities</td>\n",
       "    </tr>\n",
       "    <tr>\n",
       "      <th>3</th>\n",
       "      <td>Christina T Devine, MD</td>\n",
       "      <td>800-8000-0158</td>\n",
       "      <td>Medical Services/Clinics</td>\n",
       "      <td>37.44017</td>\n",
       "      <td>-122.16119</td>\n",
       "      <td>Facilities</td>\n",
       "    </tr>\n",
       "    <tr>\n",
       "      <th>4</th>\n",
       "      <td>Robert C. Bocian, MD, Faaaai, PHD</td>\n",
       "      <td>800-8000-0155</td>\n",
       "      <td>Family/General Practice Physicians</td>\n",
       "      <td>37.43987</td>\n",
       "      <td>-122.16119</td>\n",
       "      <td>Facilities</td>\n",
       "    </tr>\n",
       "  </tbody>\n",
       "</table>\n",
       "</div>"
      ],
      "text/plain": [
       "                                               title         cat_id  \\\n",
       "0                            Megan K. Palmisano, M.D  800-8000-0158   \n",
       "1  Noman Khan, MD - Sports and Spine Orthopedic S...  800-8000-0158   \n",
       "2                            William D. Brubaker, MD  800-8000-0155   \n",
       "3                             Christina T Devine, MD  800-8000-0158   \n",
       "4                  Robert C. Bocian, MD, Faaaai, PHD  800-8000-0155   \n",
       "\n",
       "                             cat_name  latitude   longitude cat_definition  \n",
       "0            Medical Services/Clinics  37.44011  -122.16117     Facilities  \n",
       "1            Medical Services/Clinics  37.44011  -122.16117     Facilities  \n",
       "2  Family/General Practice Physicians  37.44011  -122.16117     Facilities  \n",
       "3            Medical Services/Clinics  37.44017  -122.16119     Facilities  \n",
       "4  Family/General Practice Physicians  37.43987  -122.16119     Facilities  "
      ]
     },
     "execution_count": 62,
     "metadata": {},
     "output_type": "execute_result"
    }
   ],
   "source": [
    "cat_df.head()"
   ]
  },
  {
   "cell_type": "code",
   "execution_count": 63,
   "metadata": {},
   "outputs": [],
   "source": [
    "def make_h3_code(row):\n",
    "    return h3.geo_to_h3(\n",
    "            lat=row['latitude'],\n",
    "            lng=row['longitude'],\n",
    "            resolution=8)"
   ]
  },
  {
   "cell_type": "code",
   "execution_count": 64,
   "metadata": {},
   "outputs": [],
   "source": [
    "cat_df['latitude']=cat_df['latitude'].apply(pd.to_numeric)\n",
    "cat_df['longitude']=cat_df['longitude'].apply(pd.to_numeric)"
   ]
  },
  {
   "cell_type": "code",
   "execution_count": 65,
   "metadata": {},
   "outputs": [],
   "source": [
    "cat_df['h3_code'] = cat_df.apply(lambda row : make_h3_code(row), axis=1)"
   ]
  },
  {
   "cell_type": "code",
   "execution_count": 66,
   "metadata": {},
   "outputs": [
    {
     "data": {
      "text/html": [
       "<div>\n",
       "<style scoped>\n",
       "    .dataframe tbody tr th:only-of-type {\n",
       "        vertical-align: middle;\n",
       "    }\n",
       "\n",
       "    .dataframe tbody tr th {\n",
       "        vertical-align: top;\n",
       "    }\n",
       "\n",
       "    .dataframe thead th {\n",
       "        text-align: right;\n",
       "    }\n",
       "</style>\n",
       "<table border=\"1\" class=\"dataframe\">\n",
       "  <thead>\n",
       "    <tr style=\"text-align: right;\">\n",
       "      <th></th>\n",
       "      <th>title</th>\n",
       "      <th>cat_id</th>\n",
       "      <th>cat_name</th>\n",
       "      <th>latitude</th>\n",
       "      <th>longitude</th>\n",
       "      <th>cat_definition</th>\n",
       "      <th>h3_code</th>\n",
       "    </tr>\n",
       "  </thead>\n",
       "  <tbody>\n",
       "    <tr>\n",
       "      <th>0</th>\n",
       "      <td>Megan K. Palmisano, M.D</td>\n",
       "      <td>800-8000-0158</td>\n",
       "      <td>Medical Services/Clinics</td>\n",
       "      <td>37.44011</td>\n",
       "      <td>-122.16117</td>\n",
       "      <td>Facilities</td>\n",
       "      <td>8828347433fffff</td>\n",
       "    </tr>\n",
       "    <tr>\n",
       "      <th>1</th>\n",
       "      <td>Noman Khan, MD - Sports and Spine Orthopedic S...</td>\n",
       "      <td>800-8000-0158</td>\n",
       "      <td>Medical Services/Clinics</td>\n",
       "      <td>37.44011</td>\n",
       "      <td>-122.16117</td>\n",
       "      <td>Facilities</td>\n",
       "      <td>8828347433fffff</td>\n",
       "    </tr>\n",
       "    <tr>\n",
       "      <th>2</th>\n",
       "      <td>William D. Brubaker, MD</td>\n",
       "      <td>800-8000-0155</td>\n",
       "      <td>Family/General Practice Physicians</td>\n",
       "      <td>37.44011</td>\n",
       "      <td>-122.16117</td>\n",
       "      <td>Facilities</td>\n",
       "      <td>8828347433fffff</td>\n",
       "    </tr>\n",
       "    <tr>\n",
       "      <th>3</th>\n",
       "      <td>Christina T Devine, MD</td>\n",
       "      <td>800-8000-0158</td>\n",
       "      <td>Medical Services/Clinics</td>\n",
       "      <td>37.44017</td>\n",
       "      <td>-122.16119</td>\n",
       "      <td>Facilities</td>\n",
       "      <td>8828347433fffff</td>\n",
       "    </tr>\n",
       "    <tr>\n",
       "      <th>4</th>\n",
       "      <td>Robert C. Bocian, MD, Faaaai, PHD</td>\n",
       "      <td>800-8000-0155</td>\n",
       "      <td>Family/General Practice Physicians</td>\n",
       "      <td>37.43987</td>\n",
       "      <td>-122.16119</td>\n",
       "      <td>Facilities</td>\n",
       "      <td>8828347433fffff</td>\n",
       "    </tr>\n",
       "  </tbody>\n",
       "</table>\n",
       "</div>"
      ],
      "text/plain": [
       "                                               title         cat_id  \\\n",
       "0                            Megan K. Palmisano, M.D  800-8000-0158   \n",
       "1  Noman Khan, MD - Sports and Spine Orthopedic S...  800-8000-0158   \n",
       "2                            William D. Brubaker, MD  800-8000-0155   \n",
       "3                             Christina T Devine, MD  800-8000-0158   \n",
       "4                  Robert C. Bocian, MD, Faaaai, PHD  800-8000-0155   \n",
       "\n",
       "                             cat_name  latitude  longitude cat_definition  \\\n",
       "0            Medical Services/Clinics  37.44011 -122.16117     Facilities   \n",
       "1            Medical Services/Clinics  37.44011 -122.16117     Facilities   \n",
       "2  Family/General Practice Physicians  37.44011 -122.16117     Facilities   \n",
       "3            Medical Services/Clinics  37.44017 -122.16119     Facilities   \n",
       "4  Family/General Practice Physicians  37.43987 -122.16119     Facilities   \n",
       "\n",
       "           h3_code  \n",
       "0  8828347433fffff  \n",
       "1  8828347433fffff  \n",
       "2  8828347433fffff  \n",
       "3  8828347433fffff  \n",
       "4  8828347433fffff  "
      ]
     },
     "execution_count": 66,
     "metadata": {},
     "output_type": "execute_result"
    }
   ],
   "source": [
    "cat_df.head()"
   ]
  },
  {
   "cell_type": "code",
   "execution_count": 67,
   "metadata": {},
   "outputs": [
    {
     "data": {
      "text/plain": [
       "title             100\n",
       "cat_id             12\n",
       "cat_name           12\n",
       "latitude            7\n",
       "longitude           6\n",
       "cat_definition      3\n",
       "h3_code             1\n",
       "dtype: int64"
      ]
     },
     "execution_count": 67,
     "metadata": {},
     "output_type": "execute_result"
    }
   ],
   "source": [
    "cat_df.nunique()"
   ]
  },
  {
   "cell_type": "code",
   "execution_count": 68,
   "metadata": {},
   "outputs": [
    {
     "data": {
      "text/plain": [
       "(37.44009132316512, -122.16042161897487)"
      ]
     },
     "execution_count": 68,
     "metadata": {},
     "output_type": "execute_result"
    }
   ],
   "source": [
    "h3.h3_to_geo('8828347433fffff')"
   ]
  },
  {
   "cell_type": "code",
   "execution_count": null,
   "metadata": {},
   "outputs": [],
   "source": []
  }
 ],
 "metadata": {
  "interpreter": {
   "hash": "e90ca5e0c4747f62b22fb91b9a1c014c884d23ee898efe3f2ec66be015ea02ff"
  },
  "kernelspec": {
   "display_name": "Python 3.8.5 64-bit ('sql-practice': conda)",
   "language": "python",
   "name": "python3"
  },
  "language_info": {
   "codemirror_mode": {
    "name": "ipython",
    "version": 3
   },
   "file_extension": ".py",
   "mimetype": "text/x-python",
   "name": "python",
   "nbconvert_exporter": "python",
   "pygments_lexer": "ipython3",
   "version": "3.8.5"
  },
  "orig_nbformat": 4
 },
 "nbformat": 4,
 "nbformat_minor": 2
}
