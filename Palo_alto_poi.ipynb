{
 "cells": [
  {
   "cell_type": "code",
   "execution_count": 12,
   "metadata": {},
   "outputs": [],
   "source": [
    "import h3\n",
    "import requests\n",
    "import pandas as pd"
   ]
  },
  {
   "cell_type": "code",
   "execution_count": 13,
   "metadata": {},
   "outputs": [],
   "source": [
    "GEO='37.444572,-122.160309'\n",
    "api_key= 'Z1XB-w87ksYmy5gJnj4gfLPJUJRkiyyPDLEtyjnMYy0'\n",
    "url_range = f'https://browse.search.hereapi.com/v1/browse?at={GEO}&in=circle:{GEO};r=70&limit=100&apiKey={api_key}'"
   ]
  },
  {
   "cell_type": "code",
   "execution_count": 14,
   "metadata": {},
   "outputs": [],
   "source": [
    "resp = requests.get(url=url_range)\n",
    "data= resp.json()"
   ]
  },
  {
   "cell_type": "code",
   "execution_count": 15,
   "metadata": {},
   "outputs": [
    {
     "name": "stdout",
     "output_type": "stream",
     "text": [
      "Places nearby: 43\n"
     ]
    }
   ],
   "source": [
    "title_list = []\n",
    "cat_id_list = []\n",
    "cat_def_list = []\n",
    "cat_name_list = []\n",
    "lat_list = []\n",
    "lng_list = []\n",
    "\n",
    "count = 0\n",
    "for i in data['items']:\n",
    "    if 'categories' not in i:\n",
    "        continue\n",
    "    else:\n",
    "        title_list.append(str(i['title']))\n",
    "        cat_id_list.append(str(i['categories'][0]['id']))\n",
    "        cat_name_list.append(str(i['categories'][0]['name']))\n",
    "        lat_list.append(str(i['position']['lat']))\n",
    "        lng_list.append(str(i['position']['lng']))\n",
    "        count +=1\n",
    "print('Places nearby: ' + str(count))"
   ]
  },
  {
   "cell_type": "code",
   "execution_count": 16,
   "metadata": {},
   "outputs": [],
   "source": [
    "dict = {'title': title_list, 'cat_id': cat_id_list, 'cat_name': cat_name_list, 'latitude': lat_list, 'longitude': lng_list} \n",
    "cat_df = pd.DataFrame(dict)"
   ]
  },
  {
   "cell_type": "code",
   "execution_count": 17,
   "metadata": {},
   "outputs": [],
   "source": [
    "def make_cat_def(row):\n",
    "    if row['cat_id'][:3] == '100':\n",
    "        return 'Eat & Drink'\n",
    "    elif row['cat_id'][:3] == '200':\n",
    "        return 'Going Out-Entertainment'\n",
    "    elif row['cat_id'][:3] == '300':\n",
    "        return 'Sights and Museums'\n",
    "    elif row['cat_id'][:3] == '400':\n",
    "        return 'Transport'\n",
    "    elif row['cat_id'][:3] == '500':\n",
    "        return 'Accommodations'\n",
    "    elif row['cat_id'][:3] == '600':\n",
    "        return 'Shopping'\n",
    "    elif row['cat_id'][:3] == '700':\n",
    "        return 'Business and Services'\n",
    "    elif row['cat_id'][:3] == '800':\n",
    "        return 'Facilities'\n",
    "    elif row['cat_id'][:3] == '900':\n",
    "        return 'Areas and Buildings'"
   ]
  },
  {
   "cell_type": "code",
   "execution_count": 18,
   "metadata": {},
   "outputs": [],
   "source": [
    "cat_df['cat_definition'] = cat_df.apply(lambda row : make_cat_def(row), axis=1)"
   ]
  },
  {
   "cell_type": "code",
   "execution_count": 19,
   "metadata": {},
   "outputs": [
    {
     "name": "stdout",
     "output_type": "stream",
     "text": [
      "{'title': '94301, Palo Alto, CA, United States', 'id': 'here:cm:namedplace:22074942', 'resultType': 'locality', 'localityType': 'postalCode', 'address': {'label': '94301, Palo Alto, CA, United States', 'countryCode': 'USA', 'countryName': 'United States', 'stateCode': 'CA', 'state': 'California', 'county': 'Santa Clara', 'city': 'Palo Alto', 'postalCode': '94301'}, 'position': {'lat': 37.44466, 'lng': -122.16079}, 'distance': 44, 'mapView': {'west': -122.17183, 'south': 37.42529, 'east': -122.13053, 'north': 37.45827}}\n",
      "{'title': 'Palo Alto, CA, United States', 'id': 'here:cm:namedplace:21010349', 'resultType': 'locality', 'localityType': 'city', 'address': {'label': 'Palo Alto, CA, United States', 'countryCode': 'USA', 'countryName': 'United States', 'stateCode': 'CA', 'state': 'California', 'county': 'Santa Clara', 'city': 'Palo Alto', 'postalCode': '94301'}, 'position': {'lat': 37.44466, 'lng': -122.16079}, 'distance': 44, 'mapView': {'west': -122.20268, 'south': 37.28884, 'east': -122.08907, 'north': 37.46581}}\n"
     ]
    }
   ],
   "source": [
    "for i in data['items']:\n",
    "    if 'categories' not in i:\n",
    "        print(i)"
   ]
  },
  {
   "cell_type": "code",
   "execution_count": null,
   "metadata": {},
   "outputs": [],
   "source": []
  }
 ],
 "metadata": {
  "interpreter": {
   "hash": "e90ca5e0c4747f62b22fb91b9a1c014c884d23ee898efe3f2ec66be015ea02ff"
  },
  "kernelspec": {
   "display_name": "Python 3.8.5 64-bit ('sql-practice': conda)",
   "language": "python",
   "name": "python3"
  },
  "language_info": {
   "codemirror_mode": {
    "name": "ipython",
    "version": 3
   },
   "file_extension": ".py",
   "mimetype": "text/x-python",
   "name": "python",
   "nbconvert_exporter": "python",
   "pygments_lexer": "ipython3",
   "version": "3.8.5"
  },
  "orig_nbformat": 4
 },
 "nbformat": 4,
 "nbformat_minor": 2
}
