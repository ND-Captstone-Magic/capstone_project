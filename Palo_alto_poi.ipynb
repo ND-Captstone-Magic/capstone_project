{
 "cells": [
  {
   "cell_type": "code",
   "execution_count": 12,
   "metadata": {},
   "outputs": [],
   "source": [
    "import h3\n",
    "import requests\n",
    "import pandas as pd"
   ]
  },
  {
   "cell_type": "code",
   "execution_count": 13,
   "metadata": {},
   "outputs": [],
   "source": [
    "GEO='37.444572,-122.160309'\n",
    "api_key= 'Z1XB-w87ksYmy5gJnj4gfLPJUJRkiyyPDLEtyjnMYy0'\n",
    "url_range = f'https://browse.search.hereapi.com/v1/browse?at={GEO}&in=circle:{GEO};r=70&limit=100&apiKey={api_key}'"
   ]
  },
  {
   "cell_type": "code",
   "execution_count": 14,
   "metadata": {},
   "outputs": [],
   "source": [
    "resp = requests.get(url=url_range)\n",
    "data= resp.json()"
   ]
  },
  {
   "cell_type": "code",
   "execution_count": 15,
   "metadata": {},
   "outputs": [
    {
     "name": "stdout",
     "output_type": "stream",
     "text": [
      "Places nearby: 43\n"
     ]
    }
   ],
   "source": [
    "title_list = []\n",
    "cat_id_list = []\n",
    "cat_def_list = []\n",
    "cat_name_list = []\n",
    "lat_list = []\n",
    "lng_list = []\n",
    "\n",
    "count = 0\n",
    "for i in data['items']:\n",
    "    if 'categories' not in i:\n",
    "        continue\n",
    "    else:\n",
    "        title_list.append(str(i['title']))\n",
    "        cat_id_list.append(str(i['categories'][0]['id']))\n",
    "        cat_name_list.append(str(i['categories'][0]['name']))\n",
    "        lat_list.append(str(i['position']['lat']))\n",
    "        lng_list.append(str(i['position']['lng']))\n",
    "        count +=1\n",
    "print('Places nearby: ' + str(count))"
   ]
  },
  {
   "cell_type": "code",
   "execution_count": 16,
   "metadata": {},
   "outputs": [],
   "source": [
    "dict = {'title': title_list, 'cat_id': cat_id_list, 'cat_name': cat_name_list, 'latitude': lat_list, 'longitude': lng_list} \n",
    "cat_df = pd.DataFrame(dict)"
   ]
  },
  {
   "cell_type": "code",
   "execution_count": 17,
   "metadata": {},
   "outputs": [],
   "source": [
    "def make_cat_def(row):\n",
    "    if row['cat_id'][:3] == '100':\n",
    "        return 'Eat & Drink'\n",
    "    elif row['cat_id'][:3] == '200':\n",
    "        return 'Going Out-Entertainment'\n",
    "    elif row['cat_id'][:3] == '300':\n",
    "        return 'Sights and Museums'\n",
    "    elif row['cat_id'][:3] == '400':\n",
    "        return 'Transport'\n",
    "    elif row['cat_id'][:3] == '500':\n",
    "        return 'Accommodations'\n",
    "    elif row['cat_id'][:3] == '600':\n",
    "        return 'Shopping'\n",
    "    elif row['cat_id'][:3] == '700':\n",
    "        return 'Business and Services'\n",
    "    elif row['cat_id'][:3] == '800':\n",
    "        return 'Facilities'\n",
    "    elif row['cat_id'][:3] == '900':\n",
    "        return 'Areas and Buildings'"
   ]
  },
  {
   "cell_type": "code",
   "execution_count": 18,
   "metadata": {},
   "outputs": [],
   "source": [
    "cat_df['cat_definition'] = cat_df.apply(lambda row : make_cat_def(row), axis=1)"
   ]
  },
  {
   "cell_type": "code",
   "execution_count": 20,
   "metadata": {},
   "outputs": [
    {
     "data": {
      "text/html": [
       "<div>\n",
       "<style scoped>\n",
       "    .dataframe tbody tr th:only-of-type {\n",
       "        vertical-align: middle;\n",
       "    }\n",
       "\n",
       "    .dataframe tbody tr th {\n",
       "        vertical-align: top;\n",
       "    }\n",
       "\n",
       "    .dataframe thead th {\n",
       "        text-align: right;\n",
       "    }\n",
       "</style>\n",
       "<table border=\"1\" class=\"dataframe\">\n",
       "  <thead>\n",
       "    <tr style=\"text-align: right;\">\n",
       "      <th></th>\n",
       "      <th>title</th>\n",
       "      <th>cat_id</th>\n",
       "      <th>cat_name</th>\n",
       "      <th>latitude</th>\n",
       "      <th>longitude</th>\n",
       "      <th>cat_definition</th>\n",
       "    </tr>\n",
       "  </thead>\n",
       "  <tbody>\n",
       "    <tr>\n",
       "      <th>0</th>\n",
       "      <td>EV Charging Station</td>\n",
       "      <td>700-7600-0322</td>\n",
       "      <td>EV Charging Station</td>\n",
       "      <td>37.4444</td>\n",
       "      <td>-122.16004</td>\n",
       "      <td>Business and Services</td>\n",
       "    </tr>\n",
       "    <tr>\n",
       "      <th>1</th>\n",
       "      <td>Hamilton &amp; Ramona</td>\n",
       "      <td>400-4100-0042</td>\n",
       "      <td>Bus Stop</td>\n",
       "      <td>37.4444</td>\n",
       "      <td>-122.16003</td>\n",
       "      <td>Transport</td>\n",
       "    </tr>\n",
       "    <tr>\n",
       "      <th>2</th>\n",
       "      <td>Palo Alto Fire Department</td>\n",
       "      <td>700-7300-0113</td>\n",
       "      <td>Fire Department</td>\n",
       "      <td>37.4444</td>\n",
       "      <td>-122.16003</td>\n",
       "      <td>Business and Services</td>\n",
       "    </tr>\n",
       "    <tr>\n",
       "      <th>3</th>\n",
       "      <td>Palo Alto Utilities Billing Information</td>\n",
       "      <td>700-7200-0000</td>\n",
       "      <td>Commercial Services</td>\n",
       "      <td>37.4444</td>\n",
       "      <td>-122.16003</td>\n",
       "      <td>Business and Services</td>\n",
       "    </tr>\n",
       "    <tr>\n",
       "      <th>4</th>\n",
       "      <td>Refining Strong Emotions--Popup Zendo</td>\n",
       "      <td>700-7400-0292</td>\n",
       "      <td>Wellness Center &amp; Services</td>\n",
       "      <td>37.4444</td>\n",
       "      <td>-122.16003</td>\n",
       "      <td>Business and Services</td>\n",
       "    </tr>\n",
       "  </tbody>\n",
       "</table>\n",
       "</div>"
      ],
      "text/plain": [
       "                                     title         cat_id  \\\n",
       "0                      EV Charging Station  700-7600-0322   \n",
       "1                        Hamilton & Ramona  400-4100-0042   \n",
       "2                Palo Alto Fire Department  700-7300-0113   \n",
       "3  Palo Alto Utilities Billing Information  700-7200-0000   \n",
       "4    Refining Strong Emotions--Popup Zendo  700-7400-0292   \n",
       "\n",
       "                     cat_name latitude   longitude         cat_definition  \n",
       "0         EV Charging Station  37.4444  -122.16004  Business and Services  \n",
       "1                    Bus Stop  37.4444  -122.16003              Transport  \n",
       "2             Fire Department  37.4444  -122.16003  Business and Services  \n",
       "3         Commercial Services  37.4444  -122.16003  Business and Services  \n",
       "4  Wellness Center & Services  37.4444  -122.16003  Business and Services  "
      ]
     },
     "execution_count": 20,
     "metadata": {},
     "output_type": "execute_result"
    }
   ],
   "source": [
    "cat_df.head()"
   ]
  },
  {
   "cell_type": "code",
   "execution_count": 21,
   "metadata": {},
   "outputs": [],
   "source": [
    "def make_h3_code(row):\n",
    "    return h3.geo_to_h3(\n",
    "            lat=row['latitude'],\n",
    "            lng=row['longitude'],\n",
    "            resolution=8)"
   ]
  },
  {
   "cell_type": "code",
   "execution_count": 22,
   "metadata": {},
   "outputs": [],
   "source": [
    "cat_df['latitude']=cat_df['latitude'].apply(pd.to_numeric)\n",
    "cat_df['longitude']=cat_df['longitude'].apply(pd.to_numeric)"
   ]
  },
  {
   "cell_type": "code",
   "execution_count": 23,
   "metadata": {},
   "outputs": [],
   "source": [
    "cat_df['h3_code'] = cat_df.apply(lambda row : make_h3_code(row), axis=1)"
   ]
  },
  {
   "cell_type": "code",
   "execution_count": 24,
   "metadata": {},
   "outputs": [
    {
     "data": {
      "text/html": [
       "<div>\n",
       "<style scoped>\n",
       "    .dataframe tbody tr th:only-of-type {\n",
       "        vertical-align: middle;\n",
       "    }\n",
       "\n",
       "    .dataframe tbody tr th {\n",
       "        vertical-align: top;\n",
       "    }\n",
       "\n",
       "    .dataframe thead th {\n",
       "        text-align: right;\n",
       "    }\n",
       "</style>\n",
       "<table border=\"1\" class=\"dataframe\">\n",
       "  <thead>\n",
       "    <tr style=\"text-align: right;\">\n",
       "      <th></th>\n",
       "      <th>title</th>\n",
       "      <th>cat_id</th>\n",
       "      <th>cat_name</th>\n",
       "      <th>latitude</th>\n",
       "      <th>longitude</th>\n",
       "      <th>cat_definition</th>\n",
       "      <th>h3_code</th>\n",
       "    </tr>\n",
       "  </thead>\n",
       "  <tbody>\n",
       "    <tr>\n",
       "      <th>0</th>\n",
       "      <td>EV Charging Station</td>\n",
       "      <td>700-7600-0322</td>\n",
       "      <td>EV Charging Station</td>\n",
       "      <td>37.4444</td>\n",
       "      <td>-122.16004</td>\n",
       "      <td>Business and Services</td>\n",
       "      <td>8828347433fffff</td>\n",
       "    </tr>\n",
       "    <tr>\n",
       "      <th>1</th>\n",
       "      <td>Hamilton &amp; Ramona</td>\n",
       "      <td>400-4100-0042</td>\n",
       "      <td>Bus Stop</td>\n",
       "      <td>37.4444</td>\n",
       "      <td>-122.16003</td>\n",
       "      <td>Transport</td>\n",
       "      <td>8828347433fffff</td>\n",
       "    </tr>\n",
       "    <tr>\n",
       "      <th>2</th>\n",
       "      <td>Palo Alto Fire Department</td>\n",
       "      <td>700-7300-0113</td>\n",
       "      <td>Fire Department</td>\n",
       "      <td>37.4444</td>\n",
       "      <td>-122.16003</td>\n",
       "      <td>Business and Services</td>\n",
       "      <td>8828347433fffff</td>\n",
       "    </tr>\n",
       "    <tr>\n",
       "      <th>3</th>\n",
       "      <td>Palo Alto Utilities Billing Information</td>\n",
       "      <td>700-7200-0000</td>\n",
       "      <td>Commercial Services</td>\n",
       "      <td>37.4444</td>\n",
       "      <td>-122.16003</td>\n",
       "      <td>Business and Services</td>\n",
       "      <td>8828347433fffff</td>\n",
       "    </tr>\n",
       "    <tr>\n",
       "      <th>4</th>\n",
       "      <td>Refining Strong Emotions--Popup Zendo</td>\n",
       "      <td>700-7400-0292</td>\n",
       "      <td>Wellness Center &amp; Services</td>\n",
       "      <td>37.4444</td>\n",
       "      <td>-122.16003</td>\n",
       "      <td>Business and Services</td>\n",
       "      <td>8828347433fffff</td>\n",
       "    </tr>\n",
       "  </tbody>\n",
       "</table>\n",
       "</div>"
      ],
      "text/plain": [
       "                                     title         cat_id  \\\n",
       "0                      EV Charging Station  700-7600-0322   \n",
       "1                        Hamilton & Ramona  400-4100-0042   \n",
       "2                Palo Alto Fire Department  700-7300-0113   \n",
       "3  Palo Alto Utilities Billing Information  700-7200-0000   \n",
       "4    Refining Strong Emotions--Popup Zendo  700-7400-0292   \n",
       "\n",
       "                     cat_name  latitude  longitude         cat_definition  \\\n",
       "0         EV Charging Station   37.4444 -122.16004  Business and Services   \n",
       "1                    Bus Stop   37.4444 -122.16003              Transport   \n",
       "2             Fire Department   37.4444 -122.16003  Business and Services   \n",
       "3         Commercial Services   37.4444 -122.16003  Business and Services   \n",
       "4  Wellness Center & Services   37.4444 -122.16003  Business and Services   \n",
       "\n",
       "           h3_code  \n",
       "0  8828347433fffff  \n",
       "1  8828347433fffff  \n",
       "2  8828347433fffff  \n",
       "3  8828347433fffff  \n",
       "4  8828347433fffff  "
      ]
     },
     "execution_count": 24,
     "metadata": {},
     "output_type": "execute_result"
    }
   ],
   "source": [
    "cat_df.head()"
   ]
  },
  {
   "cell_type": "code",
   "execution_count": null,
   "metadata": {},
   "outputs": [],
   "source": []
  }
 ],
 "metadata": {
  "interpreter": {
   "hash": "e90ca5e0c4747f62b22fb91b9a1c014c884d23ee898efe3f2ec66be015ea02ff"
  },
  "kernelspec": {
   "display_name": "Python 3.8.5 64-bit ('sql-practice': conda)",
   "language": "python",
   "name": "python3"
  },
  "language_info": {
   "codemirror_mode": {
    "name": "ipython",
    "version": 3
   },
   "file_extension": ".py",
   "mimetype": "text/x-python",
   "name": "python",
   "nbconvert_exporter": "python",
   "pygments_lexer": "ipython3",
   "version": "3.8.5"
  },
  "orig_nbformat": 4
 },
 "nbformat": 4,
 "nbformat_minor": 2
}
