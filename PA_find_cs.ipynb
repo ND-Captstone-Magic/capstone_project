{
 "cells": [
  {
   "cell_type": "code",
   "execution_count": 1,
   "metadata": {},
   "outputs": [],
   "source": [
    "import requests\n",
    "import h3\n"
   ]
  },
  {
   "cell_type": "code",
   "execution_count": 5,
   "metadata": {},
   "outputs": [
    {
     "name": "stdout",
     "output_type": "stream",
     "text": [
      "https://discover.search.hereapi.com/v1/discover?q=Palo+Alto&apiKey=Z1XB-w87ksYmy5gJnj4gfLPJUJRkiyyPDLEtyjnMYy0\n",
      "status\n",
      "title\n",
      "correlationId\n",
      "requestId\n"
     ]
    }
   ],
   "source": [
    "api_key= 'Z1XB-w87ksYmy5gJnj4gfLPJUJRkiyyPDLEtyjnMYy0'\n",
    "url = f'https://discover.search.hereapi.com/v1/discover?q=Palo+Alto&apiKey={api_key}'\n",
    "\n",
    "resp = requests.get(url = url)\n",
    "data= resp.json()\n",
    "print(url)\n",
    "\n",
    "for i in data:\n",
    "    print(i)\n"
   ]
  },
  {
   "cell_type": "code",
   "execution_count": null,
   "metadata": {},
   "outputs": [],
   "source": []
  }
 ],
 "metadata": {
  "interpreter": {
   "hash": "e90ca5e0c4747f62b22fb91b9a1c014c884d23ee898efe3f2ec66be015ea02ff"
  },
  "kernelspec": {
   "display_name": "Python 3.8.5 64-bit ('sql-practice': conda)",
   "language": "python",
   "name": "python3"
  },
  "language_info": {
   "codemirror_mode": {
    "name": "ipython",
    "version": 3
   },
   "file_extension": ".py",
   "mimetype": "text/x-python",
   "name": "python",
   "nbconvert_exporter": "python",
   "pygments_lexer": "ipython3",
   "version": "3.8.5"
  },
  "orig_nbformat": 4
 },
 "nbformat": 4,
 "nbformat_minor": 2
}
