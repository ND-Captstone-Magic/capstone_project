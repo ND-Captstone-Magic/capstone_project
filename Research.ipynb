{
 "cells": [
  {
   "cell_type": "code",
   "execution_count": 2,
   "metadata": {},
   "outputs": [
    {
     "name": "stderr",
     "output_type": "stream",
     "text": [
      "/usr/local/Caskroom/miniconda/base/envs/sql-practice/lib/python3.8/site-packages/IPython/core/interactiveshell.py:3165: DtypeWarning: Columns (29,30,32) have mixed types.Specify dtype option on import or set low_memory=False.\n",
      "  has_raised = await self.run_ast_nodes(code_ast.body, cell_name,\n"
     ]
    }
   ],
   "source": [
    "import pandas as pd\n",
    "pa_data = pd.read_csv('Charging_PA.csv',sep=',')\n"
   ]
  },
  {
   "cell_type": "code",
   "execution_count": 3,
   "metadata": {},
   "outputs": [
    {
     "name": "stdout",
     "output_type": "stream",
     "text": [
      "<class 'pandas.core.frame.DataFrame'>\n",
      "RangeIndex: 259415 entries, 0 to 259414\n",
      "Data columns (total 33 columns):\n",
      " #   Column                           Non-Null Count   Dtype  \n",
      "---  ------                           --------------   -----  \n",
      " 0   Station Name                     259415 non-null  object \n",
      " 1   MAC Address                      259415 non-null  object \n",
      " 2   Org Name                         259415 non-null  object \n",
      " 3   Start Date                       259415 non-null  object \n",
      " 4   Start Time Zone                  259415 non-null  object \n",
      " 5   End Date                         259415 non-null  object \n",
      " 6   End Time Zone                    259415 non-null  object \n",
      " 7   Transaction Date (Pacific Time)  259206 non-null  object \n",
      " 8   Total Duration (hh:mm:ss)        259415 non-null  object \n",
      " 9   Charging Time (hh:mm:ss)         259415 non-null  object \n",
      " 10  Energy (kWh)                     259415 non-null  float64\n",
      " 11  GHG Savings (kg)                 259415 non-null  float64\n",
      " 12  Gasoline Savings (gallons)       259415 non-null  float64\n",
      " 13  Port Type                        259406 non-null  object \n",
      " 14  Port Number                      259415 non-null  int64  \n",
      " 15  Plug Type                        259415 non-null  object \n",
      " 16  EVSE ID                          180467 non-null  float64\n",
      " 17  Address 1                        259415 non-null  object \n",
      " 18  City                             259415 non-null  object \n",
      " 19  State/Province                   259415 non-null  object \n",
      " 20  Postal Code                      259415 non-null  int64  \n",
      " 21  Country                          259415 non-null  object \n",
      " 22  Latitude                         259415 non-null  float64\n",
      " 23  Longitude                        259415 non-null  float64\n",
      " 24  Currency                         257627 non-null  object \n",
      " 25  Fee                              259415 non-null  float64\n",
      " 26  Ended By                         259167 non-null  object \n",
      " 27  Plug In Event Id                 259415 non-null  int64  \n",
      " 28  Driver Postal Code               251013 non-null  float64\n",
      " 29  User ID                          251738 non-null  object \n",
      " 30  County                           174750 non-null  object \n",
      " 31  System S/N                       180467 non-null  float64\n",
      " 32  Model Number                     180467 non-null  object \n",
      "dtypes: float64(9), int64(3), object(21)\n",
      "memory usage: 65.3+ MB\n",
      "None\n",
      "Level 2    254727\n",
      "Level 1      4679\n",
      "Name: Port Type, dtype: int64\n"
     ]
    }
   ],
   "source": [
    "print(pa_data.info())\n",
    "print(pa_data['Port Type'].value_counts())"
   ]
  },
  {
   "cell_type": "code",
   "execution_count": null,
   "metadata": {},
   "outputs": [],
   "source": []
  }
 ],
 "metadata": {
  "interpreter": {
   "hash": "e90ca5e0c4747f62b22fb91b9a1c014c884d23ee898efe3f2ec66be015ea02ff"
  },
  "kernelspec": {
   "display_name": "Python 3.8.5 64-bit ('sql-practice': conda)",
   "language": "python",
   "name": "python3"
  },
  "language_info": {
   "codemirror_mode": {
    "name": "ipython",
    "version": 3
   },
   "file_extension": ".py",
   "mimetype": "text/x-python",
   "name": "python",
   "nbconvert_exporter": "python",
   "pygments_lexer": "ipython3",
   "version": "3.8.5"
  },
  "orig_nbformat": 4
 },
 "nbformat": 4,
 "nbformat_minor": 2
}
